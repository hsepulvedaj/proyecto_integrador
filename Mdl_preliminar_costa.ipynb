{
 "cells": [
  {
   "cell_type": "code",
   "execution_count": 1,
   "metadata": {},
   "outputs": [],
   "source": [
    "import sys\n",
    "sys.path.insert(0,r\"C:\\Users\\pc\\Documents\")\n",
    "import numpy as np\n",
    "import pandas as pd\n",
    "import csv\n",
    "from sklearn.model_selection import train_test_split\n",
    "import class_report as cr\n",
    "from sklearn.preprocessing import LabelEncoder\n",
    "from sklearn.metrics import confusion_matrix, accuracy_score, auc, f1_score, log_loss\n",
    "from sklearn.tree import DecisionTreeClassifier \n",
    "from sklearn.model_selection import StratifiedKFold\n",
    "from sklearn.linear_model import LogisticRegression\n",
    "from sklearn.neighbors import KNeighborsClassifier\n",
    "from sklearn.naive_bayes import GaussianNB\n",
    "from sklearn.svm import SVC\n",
    "from sklearn.preprocessing import StandardScaler\n",
    "from sklearn.neural_network import MLPClassifier\n",
    "from sklearn.ensemble import RandomForestClassifier"
   ]
  },
  {
   "cell_type": "code",
   "execution_count": 2,
   "metadata": {},
   "outputs": [],
   "source": [
    "## Lectura de datos     \n",
    "base_costa = pd.read_csv(r'C:\\Users\\pc\\Downloads\\BASE_COSTA.txt', sep=r'¡', engine='python')\n",
    "base_costa.head()\n",
    "\n",
    "## Eliminación de variables: \n",
    "base_costa2 = base_costa[['CUCONUSE', 'SESUSERV', 'SERVDESC', 'SESUSUSC', 'SESUFEIN','DEPADESC', 'SESUCUSA', 'SESUSAPE','SESUCICL', 'SUSCNITC', \n",
    "        #'VECTOR','SESUCATE', 'SESUSUCA','SESULOCA','SESUSAAN','V1', 'V2', 'V3', 'V4', 'V5', 'V6',#'V7', 'V8', 'V9', 'V10', 'V11', 'V12', \n",
    "        'TIPIFICACION_CLIENTE', 'SUMA','CANTIDAD','CALIFICACION_VECTOR_SERVICIO',\n",
    "       #'VECTOR_CUALITATIVO_CONTRATO',#'BANCO_1', 'DIA_PAGO_1', 'DIA_PAGO_2','DIA_PAGO_3', 'FECHA_SUSPENSION','RANGO_EDAD', 'GENERO','PROM_SUSC', 'CANAL_ENVIO'\n",
    "       'SEGMENTACION', 'REGIONAL','ESTRATO_AGRUPADO','DEPARTAMENTO_AGR','ANTIGUEDAD_DIAS', 'CANAL_PAGO']]\n",
    "\n",
    "base_costa3 = base_costa2.dropna()"
   ]
  },
  {
   "cell_type": "code",
   "execution_count": 6,
   "metadata": {},
   "outputs": [],
   "source": [
    "## Group by por nit para calificacion\n",
    "b4 = base_costa3[['SUSCNITC','CALIFICACION_VECTOR_SERVICIO']]\n",
    "group_nit = b4.groupby(['SUSCNITC'])['CALIFICACION_VECTOR_SERVICIO'].mean().reset_index()\n",
    "\n",
    "\n",
    "## Join de la nueva calificacion\n",
    "base_costa4 = pd.merge(base_costa3, group_nit, how='left', on=['SUSCNITC'])\n",
    "\n",
    "## Prueba promedio\n",
    "b5 = base_costa4[['SUSCNITC','CALIFICACION_VECTOR_SERVICIO_x','CALIFICACION_VECTOR_SERVICIO_y']]\n",
    "\n",
    "### Creacion de la etiqueta de clasificacion\n",
    "base_costa4['y'] = pd.cut(x=base_costa4['CALIFICACION_VECTOR_SERVICIO_y'],\n",
    "                            bins=[-1,50,76,100],\n",
    "                            labels=['No pago','Pago inoportuno','Pago'])\n"
   ]
  },
  {
   "cell_type": "code",
   "execution_count": 15,
   "metadata": {
    "scrolled": true
   },
   "outputs": [
    {
     "name": "stdout",
     "output_type": "stream",
     "text": [
      "CUCONUSE                            int64\n",
      "SESUSERV                            int64\n",
      "SESUSUSC                            int64\n",
      "SESUCUSA                            int64\n",
      "SESUCICL                            int64\n",
      "SUMA                                int64\n",
      "CANTIDAD                            int64\n",
      "CALIFICACION_VECTOR_SERVICIO_x      int64\n",
      "ESTRATO_AGRUPADO                  float64\n",
      "ANTIGUEDAD_DIAS                     int64\n",
      "CALIFICACION_VECTOR_SERVICIO_y    float64\n",
      "SERVDESC                            int32\n",
      "SESUFEIN                            int32\n",
      "DEPADESC                            int32\n",
      "SESUSAPE                            int32\n",
      "SUSCNITC                            int32\n",
      "TIPIFICACION_CLIENTE                int32\n",
      "SEGMENTACION                        int32\n",
      "REGIONAL                            int32\n",
      "DEPARTAMENTO_AGR                    int32\n",
      "CANAL_PAGO                          int32\n",
      "y                                   int32\n",
      "dtype: object\n"
     ]
    }
   ],
   "source": [
    "dataTypeSeries = base_costa4.dtypes\n",
    "dataTypeSeries\n",
    "\n",
    "cat = base_costa4.select_dtypes(include=['object','category'])\n",
    "cuanti = base_costa4.select_dtypes(include=['int64','float64'])\n",
    "  \n",
    "\n",
    "le = LabelEncoder()\n",
    "cat = cat.apply(lambda col: le.fit_transform(col))\n",
    "cat.head(10)\n",
    "\n",
    "base_costa5=cuanti.join(cat)\n",
    "print(base_costa5.dtypes)\n",
    "\n",
    "base_costa5.to_csv(r'C:\\Users\\pc\\Desktop\\base_sur_process.csv')\n",
    "#base_costa5 = pd.read_csv(r'C:\\Users\\pc\\Desktop\\base_sur_process.csv', sep=',', engine='python')\n",
    "\n",
    "\n",
    "X = base_costa5[[\n",
    "        #'CUCONUSE', \n",
    "        'SESUSERV', 'SERVDESC', 'SESUSUSC','DEPADESC', 'SESUCUSA', 'SESUSAPE','SESUCICL', 'TIPIFICACION_CLIENTE', \n",
    "        #'SESUFEIN','SUSCNITC', 'VECTOR','SESUCATE', 'SESUSUCA','SESULOCA','SESUSAAN','RANGO_EDAD', 'GENERO', \n",
    "        #'V1', 'V2', 'V3', 'V4', 'V5', 'V6','V7', 'V8', 'V9', 'V10', 'V11', 'V12','REGIONAL','PROM_SUSC', 'CANAL_ENVIO'     \n",
    "        # 'SUMA','CANTIDAD','CALIFICACION_VECTOR_SERVICIO_x', 'CALIFICACION_VECTOR_SERVICIO_y',\n",
    "        #'VECTOR_CUALITATIVO_CONTRATO','BANCO_1', 'DIA_PAGO_1', 'DIA_PAGO_2','DIA_PAGO_3', 'FECHA_SUSPENSION', \n",
    "       'SEGMENTACION','ESTRATO_AGRUPADO','DEPARTAMENTO_AGR','ANTIGUEDAD_DIAS','CANAL_PAGO']]\n",
    "\n",
    "y = base_costa5['y']\n"
   ]
  },
  {
   "cell_type": "code",
   "execution_count": 16,
   "metadata": {
    "scrolled": true
   },
   "outputs": [
    {
     "name": "stderr",
     "output_type": "stream",
     "text": [
      "C:\\Users\\pc\\Anaconda3\\lib\\site-packages\\sklearn\\preprocessing\\data.py:645: DataConversionWarning: Data with input dtype int32, int64, float64 were all converted to float64 by StandardScaler.\n",
      "  return self.partial_fit(X, y)\n",
      "C:\\Users\\pc\\Anaconda3\\lib\\site-packages\\sklearn\\base.py:464: DataConversionWarning: Data with input dtype int32, int64, float64 were all converted to float64 by StandardScaler.\n",
      "  return self.fit(X, **fit_params).transform(X)\n"
     ]
    },
    {
     "name": "stdout",
     "output_type": "stream",
     "text": [
      "==============================\n",
      "KNeighborsClassifier\n",
      "****Results****\n",
      "Accuracy: 81.2688%\n",
      "Log Loss: 2.9959835066469274\n",
      "==============================\n",
      "DecisionTreeClassifier\n",
      "****Results****\n",
      "Accuracy: 78.7786%\n",
      "Log Loss: 0.5338870055824441\n",
      "==============================\n",
      "RandomForestClassifier\n",
      "****Results****\n",
      "Accuracy: 70.2805%\n",
      "Log Loss: 0.7392988833506068\n",
      "==============================\n",
      "MLPClassifier\n",
      "****Results****\n",
      "Accuracy: 78.3184%\n",
      "Log Loss: 0.5354913675477749\n",
      "==============================\n",
      "LogisticRegression\n",
      "****Results****\n",
      "Accuracy: 72.5560%\n",
      "Log Loss: 0.6349777443197835\n",
      "==============================\n",
      "GaussianNB\n",
      "****Results****\n",
      "Accuracy: 66.9998%\n",
      "Log Loss: 1.0607688930940729\n",
      "==============================\n"
     ]
    }
   ],
   "source": [
    "from datetime import datetime\n",
    "instanteInicial = datetime.now()\n",
    "X_ = StandardScaler().fit_transform(X)\n",
    "X_train, X_test, y_train, y_test = train_test_split(X_, y, test_size=0.2,random_state=321)\n",
    "\n",
    "classifiers = [\n",
    "    KNeighborsClassifier(3),\n",
    "    DecisionTreeClassifier(max_depth=5),\n",
    "    RandomForestClassifier(max_depth=5, n_estimators=10, max_features=1),\n",
    "    MLPClassifier(alpha=1, max_iter=500),\n",
    "    LogisticRegression(multi_class=\"multinomial\", solver=\"lbfgs\", C=5),\n",
    "    GaussianNB()]\n",
    "\n",
    "# Logging for Visual Comparison\n",
    "log_cols=[\"Classifier\", \"Accuracy\", \"Log Loss\"]\n",
    "log = pd.DataFrame(columns=log_cols)\n",
    "\n",
    "for clf in classifiers:\n",
    "    clf.fit(X_train, y_train)\n",
    "    name = clf.__class__.__name__\n",
    "    \n",
    "    print(\"=\"*30)\n",
    "    print(name)\n",
    "    \n",
    "    print('****Results****')\n",
    "    train_predictions = clf.predict(X_test)\n",
    "    acc = accuracy_score(y_test, train_predictions)\n",
    "    print(\"Accuracy: {:.4%}\".format(acc))\n",
    "    \n",
    "    train_predictions = clf.predict_proba(X_test)\n",
    "    ll = log_loss(y_test, train_predictions)\n",
    "    print(\"Log Loss: {}\".format(ll))\n",
    "    \n",
    "    log_entry = pd.DataFrame([[name, acc*100, ll]], columns=log_cols)\n",
    "    log = log.append(log_entry)\n",
    "    \n",
    "print(\"=\"*30)"
   ]
  },
  {
   "cell_type": "code",
   "execution_count": null,
   "metadata": {},
   "outputs": [],
   "source": [
    "## El mejor modelo de clasificacion fue el KNN"
   ]
  },
  {
   "cell_type": "code",
   "execution_count": 19,
   "metadata": {},
   "outputs": [
    {
     "name": "stdout",
     "output_type": "stream",
     "text": [
      "[             precision    recall  f1-score   support      pred       AUC\n",
      "0             0.653908  0.749110  0.698279   36239.0   41515.0  0.870807\n",
      "1             0.708339  0.697401  0.702828   63728.0   62744.0  0.791592\n",
      "2             0.579984  0.533222  0.555621   53233.0   48941.0  0.711137\n",
      "avg / total   0.650863  0.652585  0.650601  153200.0  153200.0  0.797000,              precision    recall  f1-score   support      pred       AUC\n",
      "0             0.658675  0.664836  0.661741   36239.0   36578.0  0.836203\n",
      "1             0.696064  0.706048  0.701020   63728.0   64642.0  0.786963\n",
      "2             0.560726  0.547528  0.554049   53232.0   51979.0  0.703131\n",
      "avg / total   0.640194  0.641218  0.640661  153199.0  153199.0  0.785801,              precision    recall  f1-score   support      pred       AUC\n",
      "0             0.660252  0.707277  0.682956   36239.0   38820.0  0.851498\n",
      "1             0.702358  0.705290  0.703821   63727.0   63993.0  0.789693\n",
      "2             0.567728  0.537365  0.552129   53232.0   50385.0  0.703789\n",
      "avg / total   0.645618  0.647411  0.646177  153198.0  153198.0  0.789988,              precision    recall  f1-score   support      pred       AUC\n",
      "0             0.668094  0.714719  0.690621   36238.0   38767.0  0.857971\n",
      "1             0.684874  0.707518  0.696012   63727.0   65834.0  0.780465\n",
      "2             0.563812  0.514709  0.538143   53232.0   48596.0  0.692483\n",
      "avg / total   0.638839  0.642225  0.639881  153197.0  153197.0  0.785782,              precision    recall  f1-score   support      pred       AUC\n",
      "0             0.637134  0.703295  0.668582   36238.0   40001.0  0.841197\n",
      "1             0.687793  0.694431  0.691096   63727.0   64342.0  0.775994\n",
      "2             0.545053  0.500225  0.521678   53232.0   48854.0  0.672061\n",
      "avg / total   0.626211  0.629046  0.626902  153197.0  153197.0  0.771591]\n"
     ]
    }
   ],
   "source": [
    "kf = StratifiedKFold(n_splits=5,shuffle=False)\n",
    "\n",
    "accuracy_model = []\n",
    "# Iteraciones del entrenamiento sobre los kfolds\n",
    "for train_index, test_index in kf.split(X, y) :\n",
    "    # Particion train test para validacion cruzada\n",
    "    X_train, X_test = X.iloc[train_index], X.iloc[test_index]\n",
    "    y_train, y_test = y[train_index], y[test_index]\n",
    "    # Entrenamiento de la red MLP\n",
    "    model = KNeighborsClassifier(3).fit(X_train, y_train) \n",
    "    accuracy_model.append(cr.class_report(y_true = y_test, \n",
    "                                       y_pred = model.predict(X_test),\n",
    "                                       y_score = model.predict_proba(X_test)))\n",
    " \n",
    "# Print the accuracy    \n",
    "print(accuracy_model)"
   ]
  }
 ],
 "metadata": {
  "kernelspec": {
   "display_name": "Python 3",
   "language": "python",
   "name": "python3"
  },
  "language_info": {
   "codemirror_mode": {
    "name": "ipython",
    "version": 3
   },
   "file_extension": ".py",
   "mimetype": "text/x-python",
   "name": "python",
   "nbconvert_exporter": "python",
   "pygments_lexer": "ipython3",
   "version": "3.7.3"
  }
 },
 "nbformat": 4,
 "nbformat_minor": 2
}
