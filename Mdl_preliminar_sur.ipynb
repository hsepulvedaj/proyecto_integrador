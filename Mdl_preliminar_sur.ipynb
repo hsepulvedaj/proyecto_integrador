{
 "cells": [
  {
   "cell_type": "code",
   "execution_count": 1,
   "metadata": {},
   "outputs": [],
   "source": [
    "import sys\n",
    "sys.path.insert(0,r\"C:\\Users\\pc\\Documents\")\n",
    "import numpy as np\n",
    "import pandas as pd\n",
    "import csv\n",
    "from sklearn.model_selection import train_test_split\n",
    "import class_report as cr\n",
    "from sklearn.preprocessing import LabelEncoder\n",
    "from sklearn.metrics import confusion_matrix, accuracy_score, auc, f1_score, log_loss\n",
    "from sklearn.tree import DecisionTreeClassifier \n",
    "from sklearn.model_selection import StratifiedKFold\n",
    "from sklearn.linear_model import LogisticRegression\n",
    "from sklearn.neighbors import KNeighborsClassifier\n",
    "from sklearn.naive_bayes import GaussianNB\n",
    "from sklearn.svm import SVC\n",
    "from sklearn.preprocessing import StandardScaler\n",
    "from sklearn.neural_network import MLPClassifier\n",
    "from sklearn.ensemble import RandomForestClassifier"
   ]
  },
  {
   "cell_type": "code",
   "execution_count": 2,
   "metadata": {},
   "outputs": [],
   "source": [
    "## Lectura de datos     \n",
    "base_sur = pd.read_csv(r'C:\\Users\\pc\\Downloads\\BASE_SUR.txt', sep=r'¡', engine='python')\n",
    "base_sur.head()\n",
    "\n",
    "## Eliminación de variables: \n",
    "base_sur2 = base_sur[['CUCONUSE', 'SESUSERV', 'SERVDESC', 'SESUSUSC', 'SESUFEIN','DEPADESC', 'SESUCUSA', 'SESUSAPE','SESUCICL', 'SUSCNITC', \n",
    "        #'VECTOR','SESUCATE', 'SESUSUCA','SESULOCA','SESUSAAN','V1', 'V2', 'V3', 'V4', 'V5', 'V6',#'V7', 'V8', 'V9', 'V10', 'V11', 'V12', \n",
    "        'TIPIFICACION_CLIENTE', 'SUMA','CANTIDAD','CALIFICACION_VECTOR_SERVICIO',\n",
    "       #'VECTOR_CUALITATIVO_CONTRATO',#'BANCO_1', 'DIA_PAGO_1', 'DIA_PAGO_2','DIA_PAGO_3', 'FECHA_SUSPENSION','RANGO_EDAD', 'GENERO','PROM_SUSC', 'CANAL_ENVIO'\n",
    "       'SEGMENTACION', 'REGIONAL','ESTRATO_AGRUPADO','DEPARTAMENTO_AGR','ANTIGUEDAD_DIAS', 'CANAL_PAGO']]\n",
    "\n",
    "base_sur3 = base_sur2.dropna()"
   ]
  },
  {
   "cell_type": "code",
   "execution_count": 3,
   "metadata": {},
   "outputs": [],
   "source": [
    "## Group by por nit para calificacion\n",
    "b4 = base_sur3[['SUSCNITC','CALIFICACION_VECTOR_SERVICIO']]\n",
    "group_nit = b4.groupby(['SUSCNITC'])['CALIFICACION_VECTOR_SERVICIO'].mean().reset_index()\n",
    "\n",
    "\n",
    "## Join de la nueva calificacion\n",
    "base_sur4 = pd.merge(base_sur3, group_nit, how='left', on=['SUSCNITC'])\n",
    "\n",
    "## Prueba promedio\n",
    "b5 = base_sur4[['SUSCNITC','CALIFICACION_VECTOR_SERVICIO_x','CALIFICACION_VECTOR_SERVICIO_y']]\n",
    "\n",
    "### Creacion de la etiqueta de clasificacion\n",
    "base_sur4['y'] = pd.cut(x=base_sur4['CALIFICACION_VECTOR_SERVICIO_y'],\n",
    "                            bins=[-1,50,76,100],\n",
    "                            labels=['No pago','Pago inoportuno','Pago'])\n"
   ]
  },
  {
   "cell_type": "code",
   "execution_count": 4,
   "metadata": {
    "scrolled": true
   },
   "outputs": [
    {
     "name": "stdout",
     "output_type": "stream",
     "text": [
      "CUCONUSE                            int64\n",
      "SESUSERV                            int64\n",
      "SESUSUSC                            int64\n",
      "SESUCUSA                            int64\n",
      "SESUCICL                            int64\n",
      "SUMA                                int64\n",
      "CANTIDAD                            int64\n",
      "CALIFICACION_VECTOR_SERVICIO_x      int64\n",
      "ESTRATO_AGRUPADO                  float64\n",
      "ANTIGUEDAD_DIAS                     int64\n",
      "CALIFICACION_VECTOR_SERVICIO_y    float64\n",
      "SERVDESC                            int32\n",
      "SESUFEIN                            int32\n",
      "DEPADESC                            int32\n",
      "SESUSAPE                            int32\n",
      "SUSCNITC                            int32\n",
      "TIPIFICACION_CLIENTE                int32\n",
      "SEGMENTACION                        int32\n",
      "REGIONAL                            int32\n",
      "DEPARTAMENTO_AGR                    int32\n",
      "CANAL_PAGO                          int32\n",
      "y                                   int32\n",
      "dtype: object\n"
     ]
    }
   ],
   "source": [
    "dataTypeSeries = base_sur4.dtypes\n",
    "dataTypeSeries\n",
    "\n",
    "cat = base_sur4.select_dtypes(include=['object','category'])\n",
    "cuanti = base_sur4.select_dtypes(include=['int64','float64'])\n",
    "  \n",
    "\n",
    "le = LabelEncoder()\n",
    "cat = cat.apply(lambda col: le.fit_transform(col))\n",
    "cat.head(10)\n",
    "\n",
    "base_sur5=cuanti.join(cat)\n",
    "print(base_sur5.dtypes)\n",
    "\n",
    "base_sur5.to_csv(r'C:\\Users\\pc\\Desktop\\base_sur_process.csv')\n",
    "base_sur5 = pd.read_csv(r'C:\\Users\\pc\\Desktop\\base_sur_process.csv', sep=',', engine='python')\n",
    "\n",
    "\n",
    "X = base_sur5[[\n",
    "        #'CUCONUSE', \n",
    "        'SESUSERV', 'SERVDESC', 'SESUSUSC','DEPADESC', 'SESUCUSA', 'SESUSAPE','SESUCICL', 'TIPIFICACION_CLIENTE', \n",
    "        #'SESUFEIN','SUSCNITC', 'VECTOR','SESUCATE', 'SESUSUCA','SESULOCA','SESUSAAN','RANGO_EDAD', 'GENERO', \n",
    "        #'V1', 'V2', 'V3', 'V4', 'V5', 'V6','V7', 'V8', 'V9', 'V10', 'V11', 'V12','REGIONAL','PROM_SUSC', 'CANAL_ENVIO'     \n",
    "        # 'SUMA','CANTIDAD','CALIFICACION_VECTOR_SERVICIO_x', 'CALIFICACION_VECTOR_SERVICIO_y',\n",
    "        #'VECTOR_CUALITATIVO_CONTRATO','BANCO_1', 'DIA_PAGO_1', 'DIA_PAGO_2','DIA_PAGO_3', 'FECHA_SUSPENSION', \n",
    "       'SEGMENTACION','ESTRATO_AGRUPADO','DEPARTAMENTO_AGR','ANTIGUEDAD_DIAS','CANAL_PAGO']]\n",
    "\n",
    "y = base_sur5['y']\n"
   ]
  },
  {
   "cell_type": "code",
   "execution_count": 5,
   "metadata": {
    "scrolled": true
   },
   "outputs": [
    {
     "name": "stderr",
     "output_type": "stream",
     "text": [
      "C:\\Users\\pc\\Anaconda3\\lib\\site-packages\\sklearn\\preprocessing\\data.py:645: DataConversionWarning: Data with input dtype int64, float64 were all converted to float64 by StandardScaler.\n",
      "  return self.partial_fit(X, y)\n",
      "C:\\Users\\pc\\Anaconda3\\lib\\site-packages\\sklearn\\base.py:464: DataConversionWarning: Data with input dtype int64, float64 were all converted to float64 by StandardScaler.\n",
      "  return self.fit(X, **fit_params).transform(X)\n"
     ]
    },
    {
     "name": "stdout",
     "output_type": "stream",
     "text": [
      "==============================\n",
      "KNeighborsClassifier\n",
      "****Results****\n",
      "Accuracy: 83.8545%\n",
      "Log Loss: 2.525707071140132\n",
      "==============================\n",
      "DecisionTreeClassifier\n",
      "****Results****\n",
      "Accuracy: 81.6664%\n",
      "Log Loss: 0.46712190083409433\n",
      "==============================\n",
      "RandomForestClassifier\n",
      "****Results****\n",
      "Accuracy: 77.3920%\n",
      "Log Loss: 0.6632683613724217\n",
      "==============================\n",
      "MLPClassifier\n",
      "****Results****\n",
      "Accuracy: 81.5788%\n",
      "Log Loss: 0.4701264371463453\n",
      "==============================\n",
      "LogisticRegression\n",
      "****Results****\n",
      "Accuracy: 77.1594%\n",
      "Log Loss: 0.5801760843045976\n",
      "==============================\n",
      "GaussianNB\n",
      "****Results****\n",
      "Accuracy: 75.5858%\n",
      "Log Loss: 1.2926128511488975\n",
      "==============================\n"
     ]
    }
   ],
   "source": [
    "from datetime import datetime\n",
    "instanteInicial = datetime.now()\n",
    "X_ = StandardScaler().fit_transform(X)\n",
    "X_train, X_test, y_train, y_test = train_test_split(X_, y, test_size=0.2,random_state=321)\n",
    "\n",
    "classifiers = [\n",
    "    KNeighborsClassifier(3),\n",
    "    DecisionTreeClassifier(max_depth=5),\n",
    "    RandomForestClassifier(max_depth=5, n_estimators=10, max_features=1),\n",
    "    MLPClassifier(alpha=1, max_iter=500),\n",
    "    LogisticRegression(multi_class=\"multinomial\", solver=\"lbfgs\", C=5),\n",
    "    GaussianNB()]\n",
    "\n",
    "# Logging for Visual Comparison\n",
    "log_cols=[\"Classifier\", \"Accuracy\", \"Log Loss\"]\n",
    "log = pd.DataFrame(columns=log_cols)\n",
    "\n",
    "for clf in classifiers:\n",
    "    clf.fit(X_train, y_train)\n",
    "    name = clf.__class__.__name__\n",
    "    \n",
    "    print(\"=\"*30)\n",
    "    print(name)\n",
    "    \n",
    "    print('****Results****')\n",
    "    train_predictions = clf.predict(X_test)\n",
    "    acc = accuracy_score(y_test, train_predictions)\n",
    "    print(\"Accuracy: {:.4%}\".format(acc))\n",
    "    \n",
    "    train_predictions = clf.predict_proba(X_test)\n",
    "    ll = log_loss(y_test, train_predictions)\n",
    "    print(\"Log Loss: {}\".format(ll))\n",
    "    \n",
    "    log_entry = pd.DataFrame([[name, acc*100, ll]], columns=log_cols)\n",
    "    log = log.append(log_entry)\n",
    "    \n",
    "print(\"=\"*30)\n",
    "\n",
    "instanteFinal = datetime.now()\n",
    "tiempo = instanteFinal - instanteInicial # Devuelve un objeto timedelta\n",
    "segundos = tiempo.seconds"
   ]
  },
  {
   "cell_type": "code",
   "execution_count": null,
   "metadata": {},
   "outputs": [],
   "source": [
    "## El mejor modelo de clasificacion fue el KNN"
   ]
  },
  {
   "cell_type": "code",
   "execution_count": 10,
   "metadata": {},
   "outputs": [
    {
     "name": "stdout",
     "output_type": "stream",
     "text": [
      "[             precision    recall  f1-score  support     pred       AUC\n",
      "0             0.797684  0.819759  0.808570  23524.0  24175.0  0.903839\n",
      "1             0.774944  0.784966  0.779923  29693.0  30077.0  0.858081\n",
      "2             0.534000  0.500365  0.516636  16432.0  15397.0  0.756058\n",
      "avg / total   0.725780  0.729573  0.727482  69649.0  69649.0  0.853484,              precision    recall  f1-score  support     pred       AUC\n",
      "0             0.780006  0.839823  0.808810  23524.0  25328.0  0.904900\n",
      "1             0.783527  0.759329  0.771238  29692.0  28775.0  0.851963\n",
      "2             0.533162  0.504382  0.518373  16432.0  15545.0  0.756532\n",
      "avg / total   0.723270  0.726367  0.724270  69648.0  69648.0  0.851131,              precision    recall  f1-score  support     pred       AUC\n",
      "0             0.800847  0.835742  0.817923  23524.0  24549.0  0.910232\n",
      "1             0.753932  0.771757  0.762740  29692.0  30394.0  0.838084\n",
      "2             0.515063  0.460930  0.486495  16432.0  14705.0  0.726849\n",
      "avg / total   0.713422  0.720035  0.716204  69648.0  69648.0  0.842517,              precision    recall  f1-score  support     pred       AUC\n",
      "0             0.801876  0.839646  0.820326  23523.0  24631.0  0.912520\n",
      "1             0.737513  0.762327  0.749714  29692.0  30691.0  0.822327\n",
      "2             0.496545  0.432875  0.462529  16432.0  14325.0  0.699625\n",
      "avg / total   0.702399  0.710713  0.705807  69647.0  69647.0  0.832075,              precision    recall  f1-score  support     pred       AUC\n",
      "0             0.786342  0.821409  0.803493  23523.0  24572.0  0.897355\n",
      "1             0.770042  0.776708  0.773361  29692.0  29949.0  0.850649\n",
      "2             0.547534  0.504017  0.524875  16432.0  15126.0  0.764679\n",
      "avg / total   0.723051  0.727469  0.724912  69647.0  69647.0  0.850576]\n"
     ]
    }
   ],
   "source": [
    "kf = StratifiedKFold(n_splits=5,shuffle=False)\n",
    "\n",
    "accuracy_model = []\n",
    "# Iteraciones del entrenamiento sobre los kfolds\n",
    "for train_index, test_index in kf.split(X, y) :\n",
    "    # Particion train test para validacion cruzada\n",
    "    X_train, X_test = X.iloc[train_index], X.iloc[test_index]\n",
    "    y_train, y_test = y[train_index], y[test_index]\n",
    "    # Entrenamiento de la red MLP\n",
    "    model = KNeighborsClassifier(3).fit(X_train, y_train) \n",
    "    accuracy_model.append(cr.class_report(y_true = y_test, \n",
    "                                       y_pred = model.predict(X_test),\n",
    "                                       y_score = model.predict_proba(X_test)))\n",
    " \n",
    "# Print the accuracy    \n",
    "print(accuracy_model)"
   ]
  }
 ],
 "metadata": {
  "kernelspec": {
   "display_name": "Python 3",
   "language": "python",
   "name": "python3"
  },
  "language_info": {
   "codemirror_mode": {
    "name": "ipython",
    "version": 3
   },
   "file_extension": ".py",
   "mimetype": "text/x-python",
   "name": "python",
   "nbconvert_exporter": "python",
   "pygments_lexer": "ipython3",
   "version": "3.7.3"
  }
 },
 "nbformat": 4,
 "nbformat_minor": 2
}
