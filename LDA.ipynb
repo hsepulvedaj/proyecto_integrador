{
 "cells": [
  {
   "cell_type": "code",
   "execution_count": 1,
   "metadata": {},
   "outputs": [
    {
     "name": "stderr",
     "output_type": "stream",
     "text": [
      "[nltk_data] Downloading package stopwords to\n",
      "[nltk_data]     C:\\Users\\LENOVO\\AppData\\Roaming\\nltk_data...\n",
      "[nltk_data]   Package stopwords is already up-to-date!\n"
     ]
    }
   ],
   "source": [
    "import re\n",
    "import os\n",
    "import numpy as np\n",
    "import pandas as pd\n",
    "from pprint import pprint\n",
    "\n",
    "import nltk; nltk.download('stopwords')\n",
    "\n",
    "# Gensim\n",
    "import gensim\n",
    "import gensim.corpora as corpora\n",
    "from gensim.utils import simple_preprocess\n",
    "from gensim.models import CoherenceModel\n",
    "from gensim.models.wrappers import LdaMallet\n",
    "\n",
    "# spacy for lemmatization\n",
    "import spacy\n",
    "import es_core_news_sm\n",
    "\n",
    "# Plotting tools\n",
    "import pyLDAvis\n",
    "import pyLDAvis.gensim\n",
    "import matplotlib.pyplot as plt\n",
    "%matplotlib inline\n",
    "\n",
    "# Enable logging for gensim - optional\n",
    "import logging\n",
    "logging.basicConfig(format='%(asctime)s : %(levelname)s : %(message)s', level=logging.ERROR)\n",
    "\n",
    "import warnings\n",
    "warnings.filterwarnings(\"ignore\",category=DeprecationWarning)\n",
    "\n",
    "# NLTK Stop words\n",
    "from nltk.corpus import stopwords"
   ]
  },
  {
   "cell_type": "code",
   "execution_count": 2,
   "metadata": {},
   "outputs": [
    {
     "data": {
      "text/plain": [
       "Index(['IDENT_CUENTA', 'ACCOUNT_ID', 'CONTACT_ID', 'DESCRIPCION_DETALLADA',\n",
       "       'CAUSA', 'SUBCAUSA', 'DPTO_QUEJA'],\n",
       "      dtype='object')"
      ]
     },
     "execution_count": 2,
     "metadata": {},
     "output_type": "execute_result"
    }
   ],
   "source": [
    "## Carga archivo\n",
    "\n",
    "data = pd.read_csv(r\"C:\\Users\\LENOVO\\Downloads\\QUEJAS_20200520.csv\", sep = \"~\", engine = \"python\" )\n",
    "data.columns"
   ]
  },
  {
   "cell_type": "code",
   "execution_count": 3,
   "metadata": {},
   "outputs": [],
   "source": [
    "# NLTK Stop words\n",
    "\n",
    "stop_words = stopwords.words('spanish')\n",
    "#stop_words1 = stopwords.words('spanish')\n",
    "stop_words.extend(['abril','adjunto','adjuntos','apellido','apellidos','apto','argumento','asesor','atlantico','ba','barrio','bello','bogota','bolivar','bucaramanga','caldas','cartagena','cesar','ciudad','contacto','contactar','contrato','celular','correo','cedula','comentarios','documento','direccion','datos','departamento','descripción','detallada','eletronico','electronico','envigado','email','envio','etp','factura','febrero','fecha','fisica','fisico','gmail','hotmail','identificador','japosada','julio','junio','linea','llamada','marzo','mayo','manizales','mes','monteria','motivo','mjgonzal','municipio','nombre','nit','numero','objeto','open','observaciones','oficina','paquete','petición','queja','reclamo','recurso','servicio','sgto','sms','sisback','solicitud','suscriptor','telefono','tigo','titular','tv','uen','usuario','valledupar','ver','virtual'])"
   ]
  },
  {
   "cell_type": "code",
   "execution_count": 4,
   "metadata": {},
   "outputs": [],
   "source": [
    "# Convert to list\n",
    "data2 = data.DESCRIPCION_DETALLADA.values.tolist()"
   ]
  },
  {
   "cell_type": "code",
   "execution_count": 5,
   "metadata": {},
   "outputs": [],
   "source": [
    "def sent_to_words(sentences):\n",
    "    for sentence in sentences:\n",
    "        yield(gensim.utils.simple_preprocess(str(sentence), deacc=True))  # deacc=True removes punctuations\n",
    "data2 = list(sent_to_words(data2))"
   ]
  },
  {
   "cell_type": "code",
   "execution_count": 6,
   "metadata": {},
   "outputs": [],
   "source": [
    "# Build the bigram and trigram models\n",
    "bigram = gensim.models.Phrases(data2, min_count=5, threshold=100) # higher threshold fewer phrases.\n",
    "trigram = gensim.models.Phrases(bigram[data2], threshold=100)  "
   ]
  },
  {
   "cell_type": "code",
   "execution_count": 7,
   "metadata": {},
   "outputs": [],
   "source": [
    "# Faster way to get a sentence clubbed as a trigram/bigram\n",
    "bigram_mod = gensim.models.phrases.Phraser(bigram)\n",
    "trigram_mod = gensim.models.phrases.Phraser(trigram)"
   ]
  },
  {
   "cell_type": "code",
   "execution_count": 8,
   "metadata": {},
   "outputs": [],
   "source": [
    "# Define functions for stopwords, bigrams, trigrams and lemmatization\n",
    "def remove_stopwords(texts):\n",
    "    return [[word for word in simple_preprocess(str(doc)) if word not in stop_words] for doc in texts]\n",
    "\n",
    "def make_bigrams(texts):\n",
    "    return [bigram_mod[doc] for doc in texts]\n",
    "\n",
    "def make_trigrams(texts):\n",
    "    return [trigram_mod[bigram_mod[doc]] for doc in texts]\n",
    "\n",
    "def lemmatization(texts, allowed_postags=['NOUN', 'ADJ', 'VERB', 'ADV']):\n",
    "    \"\"\"https://spacy.io/api/annotation\"\"\"\n",
    "    texts_out = []\n",
    "    for sent in texts:\n",
    "        doc = nlp(\" \".join(sent)) \n",
    "        texts_out.append([token.lemma_ for token in doc if token.pos_ in allowed_postags])\n",
    "    return texts_out"
   ]
  },
  {
   "cell_type": "code",
   "execution_count": 9,
   "metadata": {},
   "outputs": [],
   "source": [
    "# Remove Stop Words\n",
    "data_words_nostops = remove_stopwords(data2)"
   ]
  },
  {
   "cell_type": "code",
   "execution_count": 10,
   "metadata": {},
   "outputs": [],
   "source": [
    "# Form Bigrams\n",
    "data_words_bigrams = make_bigrams(data_words_nostops)"
   ]
  },
  {
   "cell_type": "code",
   "execution_count": 11,
   "metadata": {},
   "outputs": [],
   "source": [
    "# Initialize spacy 'en' model, keeping only tagger component (for efficiency)\n",
    "## Desde consola de comandos python -m spacy download es_core_news_sm\n",
    "\n",
    "nlp = es_core_news_sm.load()"
   ]
  },
  {
   "cell_type": "code",
   "execution_count": 12,
   "metadata": {},
   "outputs": [],
   "source": [
    "# Do lemmatization keeping only noun, adj, vb, adv\n",
    "data_lemmatized = lemmatization(data_words_bigrams, allowed_postags=['NOUN', 'ADJ', 'VERB', 'ADV'])"
   ]
  },
  {
   "cell_type": "code",
   "execution_count": 13,
   "metadata": {},
   "outputs": [],
   "source": [
    "# Create Dictionary\n",
    "id2word = corpora.Dictionary(data_lemmatized)\n",
    "\n",
    "# Create Corpus\n",
    "texts = data_lemmatized"
   ]
  },
  {
   "cell_type": "code",
   "execution_count": 14,
   "metadata": {},
   "outputs": [],
   "source": [
    "# Term Document Frequency\n",
    "corpus = [id2word.doc2bow(text) for text in texts]"
   ]
  },
  {
   "cell_type": "code",
   "execution_count": 15,
   "metadata": {},
   "outputs": [],
   "source": [
    "# Build LDA model\n",
    "lda_model = gensim.models.ldamodel.LdaModel(corpus=corpus,\n",
    "                                           id2word=id2word,\n",
    "                                           num_topics=10, \n",
    "                                           random_state=100,\n",
    "                                           update_every=1,\n",
    "                                           chunksize=100,\n",
    "                                           passes=10,\n",
    "                                           alpha='auto',\n",
    "                                           per_word_topics=True)"
   ]
  },
  {
   "cell_type": "code",
   "execution_count": 16,
   "metadata": {},
   "outputs": [
    {
     "name": "stdout",
     "output_type": "stream",
     "text": [
      "[(0,\n",
      "  '0.113*\"retirar\" + 0.101*\"solicitar\" + 0.060*\"indicar\" + 0.052*\"pedir\" + '\n",
      "  '0.043*\"generar\" + 0.040*\"servicio\" + 0.040*\"comunicar\" + 0.033*\"desear\" + '\n",
      "  '0.031*\"favor\" + 0.030*\"facturar\"'),\n",
      " (1,\n",
      "  '0.061*\"dar\" + 0.028*\"presentar\" + 0.022*\"tecnico\" + 0.021*\"querer\" + '\n",
      "  '0.020*\"respuesta\" + 0.020*\"deber\" + 0.020*\"casar\" + 0.019*\"necesitar\" + '\n",
      "  '0.018*\"tiempo\" + 0.017*\"venir\"'),\n",
      " (2,\n",
      "  '0.159*\"cuota\" + 0.080*\"entregar\" + 0.049*\"pendiente\" + 0.047*\"financiar\" + '\n",
      "  '0.047*\"total\" + 0.045*\"saldar\" + 0.044*\"inicial\" + 0.042*\"valor\" + '\n",
      "  '0.040*\"cantidad\" + 0.039*\"central\"'),\n",
      " (3,\n",
      "  '0.167*\"acepto\" + 0.088*\"to\" + 0.065*\"manifiesto\" + 0.061*\"respuesta\" + '\n",
      "  '0.057*\"enviar\" + 0.051*\"inconformidad\" + 0.050*\"clasica_hd\" + '\n",
      "  '0.040*\"reclamante\" + 0.037*\"ilimitado\" + 0.033*\"mego\"'),\n",
      " (4,\n",
      "  '0.082*\"fundamentar\" + 0.079*\"hecho\" + 0.071*\"tipo\" + 0.061*\"nombre\" + '\n",
      "  '0.046*\"mensaje\" + 0.032*\"asunto\" + 0.021*\"archivo\" + 0.016*\"prestar\" + '\n",
      "  '0.014*\"trabajar\" + 0.013*\"inmediato\"'),\n",
      " (5,\n",
      "  '0.105*\"cliente\" + 0.070*\"informar\" + 0.042*\"empresa\" + 0.028*\"local\" + '\n",
      "  '0.024*\"ir\" + 0.021*\"documento\" + 0.020*\"centilitro\" + 0.019*\"proceder\" + '\n",
      "  '0.019*\"pyme\" + 0.016*\"problema\"'),\n",
      " (6,\n",
      "  '0.183*\"mesar\" + 0.118*\"descontar\" + 0.096*\"ofrecer\" + 0.093*\"aplicar\" + '\n",
      "  '0.085*\"plan\" + 0.061*\"ofertar\" + 0.036*\"costo\" + 0.033*\"paso\" + '\n",
      "  '0.024*\"labor\" + 0.015*\"inconsistencia\"'),\n",
      " (7,\n",
      "  '0.100*\"cobrar\" + 0.068*\"llamar\" + 0.066*\"autorizar\" + 0.059*\"personar\" + '\n",
      "  '0.057*\"valor\" + 0.054*\"fijar\" + 0.050*\"llegar\" + 0.037*\"cambiar\" + '\n",
      "  '0.036*\"indicar\" + 0.032*\"errar\"'),\n",
      " (8,\n",
      "  '0.119*\"hacer\" + 0.100*\"decir\" + 0.048*\"usuario\" + 0.041*\"nunca\" + '\n",
      "  '0.034*\"instalar\" + 0.026*\"vivienda\" + 0.025*\"quedar\" + 0.025*\"escuchar\" + '\n",
      "  '0.025*\"trio\" + 0.022*\"visitar\"'),\n",
      " (9,\n",
      "  '0.086*\"pagar\" + 0.073*\"servicio\" + 0.072*\"realizar\" + 0.033*\"registrar\" + '\n",
      "  '0.031*\"producto\" + 0.030*\"brindar\" + 0.029*\"contar\" + 0.027*\"cancelar\" + '\n",
      "  '0.016*\"abrir\" + 0.015*\"codigo\"')]\n"
     ]
    }
   ],
   "source": [
    "# Print the top ten Keywords in the topics\n",
    "pprint(lda_model.print_topics())\n",
    "doc_lda = lda_model[corpus]"
   ]
  },
  {
   "cell_type": "code",
   "execution_count": 17,
   "metadata": {},
   "outputs": [
    {
     "name": "stdout",
     "output_type": "stream",
     "text": [
      "\n",
      "Perplexity:  -7.127286674339411\n"
     ]
    }
   ],
   "source": [
    "# Compute Perplexity\n",
    "print('\\nPerplexity: ', lda_model.log_perplexity(corpus))  # a measure of how good the model is. lower the better."
   ]
  },
  {
   "cell_type": "code",
   "execution_count": 18,
   "metadata": {},
   "outputs": [
    {
     "name": "stdout",
     "output_type": "stream",
     "text": [
      "\n",
      "Coherence Score:  0.5655807685039043\n"
     ]
    }
   ],
   "source": [
    "# Compute Coherence Score\n",
    "coherence_model_lda = CoherenceModel(model=lda_model, texts=data_lemmatized, dictionary=id2word, coherence='c_v')\n",
    "coherence_lda = coherence_model_lda.get_coherence()\n",
    "print('\\nCoherence Score: ', coherence_lda)"
   ]
  },
  {
   "cell_type": "code",
   "execution_count": 25,
   "metadata": {},
   "outputs": [],
   "source": [
    "# Visualize the topics\n",
    "pyLDAvis.enable_notebook() \n",
    "vis = pyLDAvis.gensim.prepare(lda_model, corpus, id2word)\n",
    "vis\n",
    "pyLDAvis.save_html(vis,'lda_Quejas_2_v3.html')"
   ]
  },
  {
   "cell_type": "code",
   "execution_count": 30,
   "metadata": {},
   "outputs": [
    {
     "data": {
      "text/plain": [
       "<gensim.corpora.dictionary.Dictionary at 0x14e06e10a88>"
      ]
     },
     "execution_count": 30,
     "metadata": {},
     "output_type": "execute_result"
    }
   ],
   "source": [
    "id2word"
   ]
  },
  {
   "cell_type": "code",
   "execution_count": 20,
   "metadata": {},
   "outputs": [],
   "source": [
    "# Download File: http://mallet.cs.umass.edu/dist/mallet-2.0.8.zip\n",
    "os.environ['MALLET_HOME'] = 'C:\\\\users\\\\LENOVO\\\\Downloads\\\\mallet-2.0.8'\n",
    "mallet_path = 'C:/Users/LENOVO/Downloads/mallet-2.0.8/bin/mallet'\n",
    "ldamallet = gensim.models.wrappers.LdaMallet(mallet_path, corpus=corpus, num_topics=10, id2word=id2word)"
   ]
  },
  {
   "cell_type": "code",
   "execution_count": 21,
   "metadata": {},
   "outputs": [
    {
     "name": "stdout",
     "output_type": "stream",
     "text": [
      "[(0,\n",
      "  [('fundamentar', 0.10686373994160792),\n",
      "   ('hecho', 0.10485651214128035),\n",
      "   ('nombre', 0.0826657409385459),\n",
      "   ('tipo', 0.07525991597237057),\n",
      "   ('registrar', 0.05451559495834223),\n",
      "   ('producto', 0.04033148187709179),\n",
      "   ('abrir', 0.03427864416435235),\n",
      "   ('asunto', 0.027228868475396996),\n",
      "   ('archivo', 0.0266369365520188),\n",
      "   ('tiempo_transcurrido', 0.02573791212703838)]),\n",
      " (1,\n",
      "  [('mesar', 0.08076459445496814),\n",
      "   ('cambiar', 0.06724903590755149),\n",
      "   ('descontar', 0.04476311244005406),\n",
      "   ('ofrecer', 0.03819319421179246),\n",
      "   ('plan', 0.03192072263882149),\n",
      "   ('nuevo', 0.029546367758869912),\n",
      "   ('brindar', 0.028784486852336),\n",
      "   ('aplicar', 0.02864880943062448),\n",
      "   ('radicar', 0.025345586048186357),\n",
      "   ('ofertar', 0.0251994719017278)]),\n",
      " (2,\n",
      "  [('retirar', 0.16432937257409694),\n",
      "   ('pedir', 0.08054369971595557),\n",
      "   ('servicio', 0.03614254767534663),\n",
      "   ('trasladar', 0.034229089521090175),\n",
      "   ('informar', 0.033659017791195116),\n",
      "   ('documento', 0.024671713040762606),\n",
      "   ('acepto', 0.022282368920680716),\n",
      "   ('validar', 0.019803796182006554),\n",
      "   ('proceder', 0.019446881707637476),\n",
      "   ('favor', 0.018405881157394326)]),\n",
      " (3,\n",
      "  [('indicar', 0.11301164959701546),\n",
      "   ('solicitar', 0.09943637469769874),\n",
      "   ('realizar', 0.09581127351162194),\n",
      "   ('comunicar', 0.07471931862175765),\n",
      "   ('llamar', 0.05858988088953246),\n",
      "   ('desear', 0.030951626770442102),\n",
      "   ('generar', 0.03034828121936136),\n",
      "   ('usuario', 0.02981029810298103),\n",
      "   ('inconforme', 0.02076514271636223),\n",
      "   ('validar', 0.02064950148573842)]),\n",
      " (4,\n",
      "  [('autorizar', 0.05649010930613965),\n",
      "   ('fijar', 0.05447898628404937),\n",
      "   ('personar', 0.04670478180002382),\n",
      "   ('llamar', 0.03642927168943496),\n",
      "   ('presentar', 0.026332426266457768),\n",
      "   ('tecnico', 0.020266989179333533),\n",
      "   ('completar', 0.017174715739900863),\n",
      "   ('problema', 0.01666162740624685),\n",
      "   ('fallo', 0.016386758656075057),\n",
      "   ('hora', 0.014911629696819768)]),\n",
      " (5,\n",
      "  [('pagar', 0.13430537320210467),\n",
      "   ('cobrar', 0.09915201532098046),\n",
      "   ('llegar', 0.061604754242391334),\n",
      "   ('facturar', 0.05133318196625831),\n",
      "   ('valor', 0.04613569729217465),\n",
      "   ('ajustar', 0.03583944560163477),\n",
      "   ('generar', 0.033840413034679516),\n",
      "   ('errar', 0.02645139636126714),\n",
      "   ('realizar', 0.02331217484871519),\n",
      "   ('acordar', 0.01987680036328098)]),\n",
      " (6,\n",
      "  [('cliente', 0.11021736460763847),\n",
      "   ('acepto', 0.052903311637807524),\n",
      "   ('respuesta', 0.04775062425805395),\n",
      "   ('empresa', 0.040413033689467436),\n",
      "   ('enviar', 0.036631667280690984),\n",
      "   ('solicitar', 0.027712964100045027),\n",
      "   ('favor', 0.026730525195464407),\n",
      "   ('activar', 0.025957877931966106),\n",
      "   ('inconformidad', 0.02548200908755987),\n",
      "   ('manifiesto', 0.02152666912276393)]),\n",
      " (7,\n",
      "  [('cuota', 0.1543799423242381),\n",
      "   ('entregar', 0.07437319763244024),\n",
      "   ('valor', 0.06064169689528001),\n",
      "   ('pendiente', 0.051851979956159505),\n",
      "   ('financiar', 0.04801269385584518),\n",
      "   ('saldar', 0.04693613728041921),\n",
      "   ('tipo', 0.04604549208147242),\n",
      "   ('inicial', 0.04508999407677707),\n",
      "   ('total', 0.044830582853782865),\n",
      "   ('cantidad', 0.040373033338665675)]),\n",
      " (8,\n",
      "  [('servicio', 0.12452399086062452),\n",
      "   ('cancelar', 0.03810514187513426),\n",
      "   ('mensaje', 0.03051828851524206),\n",
      "   ('deber', 0.02345382467240807),\n",
      "   ('solicitar', 0.02139844161930986),\n",
      "   ('contar', 0.01911847989532681),\n",
      "   ('encontrar', 0.018283633097037514),\n",
      "   ('unir', 0.015901146327650516),\n",
      "   ('suspender', 0.014416974241802879),\n",
      "   ('telefonica', 0.014207042005975746)]),\n",
      " (9,\n",
      "  [('decir', 0.07133105955819077),\n",
      "   ('hacer', 0.06818171578411451),\n",
      "   ('dar', 0.039432126910894746),\n",
      "   ('radicar', 0.021401120067041826),\n",
      "   ('pasar', 0.018076061833467747),\n",
      "   ('querer', 0.01692265409932823),\n",
      "   ('solo', 0.015440344941000491),\n",
      "   ('momento', 0.01498528954589076),\n",
      "   ('nunca', 0.014395069181936554),\n",
      "   ('instalar', 0.01286770503399399)])]\n"
     ]
    }
   ],
   "source": [
    "# Show Topics\n",
    "pprint(ldamallet.show_topics(formatted=False))"
   ]
  },
  {
   "cell_type": "code",
   "execution_count": 22,
   "metadata": {},
   "outputs": [
    {
     "name": "stdout",
     "output_type": "stream",
     "text": [
      "\n",
      "Coherence Score:  0.6886368958377188\n"
     ]
    }
   ],
   "source": [
    "# Compute Coherence Score\n",
    "coherence_model_ldamallet = CoherenceModel(model=ldamallet, texts=data_lemmatized, dictionary=id2word, coherence='c_v')\n",
    "coherence_ldamallet = coherence_model_ldamallet.get_coherence()\n",
    "print('\\nCoherence Score: ', coherence_ldamallet)"
   ]
  },
  {
   "cell_type": "code",
   "execution_count": null,
   "metadata": {},
   "outputs": [],
   "source": []
  }
 ],
 "metadata": {
  "kernelspec": {
   "display_name": "Python 3",
   "language": "python",
   "name": "python3"
  },
  "language_info": {
   "codemirror_mode": {
    "name": "ipython",
    "version": 3
   },
   "file_extension": ".py",
   "mimetype": "text/x-python",
   "name": "python",
   "nbconvert_exporter": "python",
   "pygments_lexer": "ipython3",
   "version": "3.7.6"
  }
 },
 "nbformat": 4,
 "nbformat_minor": 4
}
