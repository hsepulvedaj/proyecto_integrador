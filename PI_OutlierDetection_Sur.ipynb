{
 "cells": [
  {
   "cell_type": "code",
   "execution_count": 1,
   "metadata": {},
   "outputs": [],
   "source": [
    "import pandas as pd\n",
    "import sys\n",
    "sys.path.insert(0,r\"C:\\Users\\LENOVO\\Downloads\")\n",
    "import numpy as np\n",
    "import csv\n",
    "from sklearn.model_selection import train_test_split\n",
    "import class_report as cr\n",
    "from sklearn.preprocessing import LabelEncoder\n",
    "from sklearn.metrics import confusion_matrix, accuracy_score, auc, f1_score, log_loss\n",
    "from sklearn.tree import DecisionTreeClassifier \n",
    "from sklearn.model_selection import StratifiedKFold\n",
    "from sklearn.linear_model import LogisticRegression\n",
    "from sklearn.neighbors import KNeighborsClassifier\n",
    "from sklearn.naive_bayes import GaussianNB\n",
    "from sklearn.svm import SVC\n",
    "from sklearn.preprocessing import StandardScaler\n",
    "from sklearn.neural_network import MLPClassifier\n",
    "from sklearn.ensemble import RandomForestClassifier"
   ]
  },
  {
   "cell_type": "code",
   "execution_count": 2,
   "metadata": {},
   "outputs": [],
   "source": [
    "pd.set_option('display.max_row', None)\n",
    "pd.set_option('display.max_column', None)"
   ]
  },
  {
   "cell_type": "code",
   "execution_count": 3,
   "metadata": {},
   "outputs": [],
   "source": [
    "base_sur = pd.read_csv(r'C:\\Users\\LENOVO\\Desktop\\base_sur.txt', sep = \",\", engine = \"python\")"
   ]
  },
  {
   "cell_type": "code",
   "execution_count": 4,
   "metadata": {},
   "outputs": [],
   "source": [
    "base2_sur = base_sur[['SUSCNITC','SERVDESC','SESUCUSA','SESUCICL','SESULOCA',\n",
    "                                  'TIPIFICACION_CLIENTE','CALIFICACION_VECTOR_SERVICIO',\n",
    "                                  'CANAL_ENVIO','SEGMENTACION','ESTRATO_AGRUPADO','DEPARTAMENTO_AGR',\n",
    "                                  'ANTIGUEDAD_DIAS','CANAL_PAGO','SESUSAPE','SESUSAAN','PROM_SUSC']]\n",
    "base3_sur = base2_sur.dropna()"
   ]
  },
  {
   "cell_type": "code",
   "execution_count": 5,
   "metadata": {},
   "outputs": [],
   "source": [
    "tmp = base3_sur[['SUSCNITC','CALIFICACION_VECTOR_SERVICIO']]\n",
    "tmp.columns\n",
    "\n",
    "group_nit = tmp.groupby(['SUSCNITC'])['CALIFICACION_VECTOR_SERVICIO'].mean().reset_index()\n",
    "group_nit = group_nit.rename(columns={\"CALIFICACION_VECTOR_SERVICIO\":\"PROM_CALIFICACION\"})"
   ]
  },
  {
   "cell_type": "code",
   "execution_count": 6,
   "metadata": {},
   "outputs": [],
   "source": [
    "base4_sur = pd.merge(base3_sur, group_nit, how='left', on=['SUSCNITC'])"
   ]
  },
  {
   "cell_type": "code",
   "execution_count": 7,
   "metadata": {},
   "outputs": [],
   "source": [
    "base4_sur['y'] = pd.cut(x=base4_sur['PROM_CALIFICACION'],\n",
    "                            bins=[-1,50,76,100],\n",
    "                            labels=['No Pago','Pago Inoportuno','Pago'])"
   ]
  },
  {
   "cell_type": "code",
   "execution_count": 8,
   "metadata": {},
   "outputs": [],
   "source": [
    "base5_sur = base4_sur[['SERVDESC','SESUCUSA','SESUCICL','SESULOCA','TIPIFICACION_CLIENTE',\n",
    "                       'CALIFICACION_VECTOR_SERVICIO','CANAL_ENVIO','SEGMENTACION','ESTRATO_AGRUPADO',\n",
    "                       'DEPARTAMENTO_AGR','ANTIGUEDAD_DIAS','CANAL_PAGO','SESUSAPE','SESUSAAN','PROM_SUSC','y']]"
   ]
  },
  {
   "cell_type": "code",
   "execution_count": 9,
   "metadata": {},
   "outputs": [],
   "source": [
    "names = base5_sur.columns\n",
    "\n",
    "for x in names:\n",
    "    globals()['FREQ_%s' % x]= base5_sur[x].value_counts().rename_axis([x]).reset_index(name='F_{x}'.format(x=x))"
   ]
  },
  {
   "cell_type": "code",
   "execution_count": 10,
   "metadata": {},
   "outputs": [],
   "source": [
    "freq_sur = base5_sur.merge(FREQ_SERVDESC,on=\"SERVDESC\").merge(FREQ_SESUCUSA,on='SESUCUSA').merge(FREQ_SESUCICL,on='SESUCICL').merge(FREQ_SESULOCA,on='SESULOCA').merge(FREQ_TIPIFICACION_CLIENTE,on='TIPIFICACION_CLIENTE').merge(FREQ_CANAL_ENVIO,on='CANAL_ENVIO').merge(FREQ_SEGMENTACION,on='SEGMENTACION').merge(FREQ_ESTRATO_AGRUPADO,on='ESTRATO_AGRUPADO').merge(FREQ_DEPARTAMENTO_AGR,on='DEPARTAMENTO_AGR').merge(FREQ_CANAL_PAGO,on='CANAL_PAGO')"
   ]
  },
  {
   "cell_type": "code",
   "execution_count": 11,
   "metadata": {},
   "outputs": [],
   "source": [
    "freq_sur2 = freq_sur[['F_SERVDESC', 'F_SESUCUSA',\n",
    "       'F_SESUCICL', 'F_SESULOCA', 'F_TIPIFICACION_CLIENTE', 'F_CANAL_ENVIO',\n",
    "       'F_SEGMENTACION', 'F_ESTRATO_AGRUPADO', 'F_DEPARTAMENTO_AGR',\n",
    "       'F_CANAL_PAGO']]"
   ]
  },
  {
   "cell_type": "code",
   "execution_count": 13,
   "metadata": {},
   "outputs": [
    {
     "name": "stderr",
     "output_type": "stream",
     "text": [
      "C:\\Users\\LENOVO\\anaconda3\\lib\\site-packages\\ipykernel_launcher.py:1: SettingWithCopyWarning: \n",
      "A value is trying to be set on a copy of a slice from a DataFrame.\n",
      "Try using .loc[row_indexer,col_indexer] = value instead\n",
      "\n",
      "See the caveats in the documentation: https://pandas.pydata.org/pandas-docs/stable/user_guide/indexing.html#returning-a-view-versus-a-copy\n",
      "  \"\"\"Entry point for launching an IPython kernel.\n"
     ]
    }
   ],
   "source": [
    "freq_sur2['AVG_FREQ'] = freq_sur2.mean(axis=1)"
   ]
  },
  {
   "cell_type": "code",
   "execution_count": 14,
   "metadata": {},
   "outputs": [],
   "source": [
    "n, m = freq_sur2.shape\n",
    "n_reg_del = round((0.05 * n) /100)\n",
    "outliers = freq_sur2.nsmallest(n_reg_del, 'AVG_FREQ')\n",
    "outliers_idx = outliers.index\n",
    "outliers_idx = outliers_idx.sort_values(ascending=False)"
   ]
  },
  {
   "cell_type": "code",
   "execution_count": 14,
   "metadata": {},
   "outputs": [],
   "source": [
    "for x in outliers_idx:\n",
    "    base5_sur = base5_sur.drop([x])"
   ]
  },
  {
   "cell_type": "code",
   "execution_count": 15,
   "metadata": {},
   "outputs": [],
   "source": [
    "#base5_sur = base5_sur.drop([332839])"
   ]
  },
  {
   "cell_type": "code",
   "execution_count": 16,
   "metadata": {},
   "outputs": [
    {
     "data": {
      "text/plain": [
       "(332866, 16)"
      ]
     },
     "execution_count": 16,
     "metadata": {},
     "output_type": "execute_result"
    }
   ],
   "source": [
    "base5_sur.shape"
   ]
  },
  {
   "cell_type": "code",
   "execution_count": 15,
   "metadata": {},
   "outputs": [],
   "source": [
    "dataTypeSeries = base5_sur.dtypes\n",
    "dataTypeSeries\n",
    "\n",
    "cat = base5_sur.select_dtypes(include=['object','category'])\n",
    "cuanti = base5_sur.select_dtypes(include=['int64','float64'])\n",
    "  \n",
    "cat = cat.apply(lambda col: LabelEncoder().fit_transform(col))\n",
    "base5_sur = cuanti.join(cat)"
   ]
  },
  {
   "cell_type": "code",
   "execution_count": 16,
   "metadata": {},
   "outputs": [],
   "source": [
    "X = base5_sur[['SERVDESC','SESUCUSA','SESUCICL','SESULOCA','TIPIFICACION_CLIENTE','CANAL_ENVIO',\n",
    "               'SEGMENTACION','ESTRATO_AGRUPADO','DEPARTAMENTO_AGR','ANTIGUEDAD_DIAS','CANAL_PAGO',\n",
    "               'SESUSAPE','SESUSAAN','PROM_SUSC']]\n",
    "\n",
    "y = base5_sur['y']"
   ]
  },
  {
   "cell_type": "code",
   "execution_count": 17,
   "metadata": {},
   "outputs": [],
   "source": [
    "from datetime import datetime\n",
    "instanteInicial = datetime.now()\n",
    "X_ = StandardScaler().fit_transform(X)\n",
    "#X_ = X\n",
    "X_train, X_test, y_train, y_test = train_test_split(X_, y, test_size=0.2,random_state=321)"
   ]
  },
  {
   "cell_type": "code",
   "execution_count": 19,
   "metadata": {},
   "outputs": [
    {
     "name": "stdout",
     "output_type": "stream",
     "text": [
      "==============================\n",
      "KNeighborsClassifier\n",
      "****Resultados****\n",
      "Métricas:              precision    recall  f1-score  support     pred       AUC\n",
      "0             0.938936  0.942902  0.940915  21069.0  21158.0  0.978620\n",
      "1             0.954703  0.970418  0.962496  29038.0  29516.0  0.985369\n",
      "2             0.899623  0.868646  0.883863  16467.0  15900.0  0.958085\n",
      "avg / total   0.936089  0.936537  0.936216  66574.0  66574.0  0.977083\n",
      "==============================\n",
      "DecisionTreeClassifier\n",
      "****Resultados****\n",
      "Métricas:              precision    recall  f1-score  support     pred       AUC\n",
      "0             0.937145  0.963121  0.949956  21069.0  21653.0  0.984923\n",
      "1             0.970102  0.981094  0.975567  29038.0  29367.0  0.990798\n",
      "2             0.945866  0.893423  0.918897  16467.0  15554.0  0.970658\n",
      "avg / total   0.953677  0.953721  0.953444  66574.0  66574.0  0.985971\n",
      "==============================\n",
      "RandomForestClassifier\n",
      "****Resultados****\n",
      "Métricas:              precision    recall  f1-score  support     pred       AUC\n",
      "0             0.897334  0.801889  0.846931  21069.0  18828.0  0.960801\n",
      "1             0.890253  0.941422  0.915123  29038.0  30707.0  0.960194\n",
      "2             0.748401  0.774397  0.761177  16467.0  17039.0  0.905457\n",
      "avg / total   0.857407  0.855950  0.855463  66574.0  66574.0  0.940974\n",
      "==============================\n",
      "MLPClassifier\n",
      "****Resultados****\n",
      "Métricas:              precision    recall  f1-score  support     pred       AUC\n",
      "0             0.903143  0.935593  0.919081  21069.0  21826.0  0.982210\n",
      "1             0.961246  0.948998  0.955083  29038.0  28668.0  0.987379\n",
      "2             0.890920  0.869982  0.880327  16467.0  16080.0  0.964023\n",
      "avg / total   0.925463  0.925211  0.925198  66574.0  66574.0  0.981099\n",
      "==============================\n",
      "LogisticRegression\n",
      "****Resultados****\n",
      "Métricas:              precision    recall  f1-score  support     pred       AUC\n",
      "0             0.909909  0.902179  0.906027  21069.0  20890.0  0.976593\n",
      "1             0.942169  0.959949  0.950976  29038.0  29586.0  0.984386\n",
      "2             0.888806  0.868889  0.878735  16467.0  16098.0  0.957353\n",
      "avg / total   0.918760  0.919143  0.918882  66574.0  66574.0  0.975705\n",
      "==============================\n",
      "GaussianNB\n",
      "****Resultados****\n",
      "Métricas:              precision    recall  f1-score  support     pred       AUC\n",
      "0             0.823257  0.935830  0.875941  21069.0  23950.0  0.966341\n",
      "1             0.802166  0.938770  0.865108  29038.0  33983.0  0.963809\n",
      "2             0.773522  0.405903  0.532420  16467.0   8641.0  0.910189\n",
      "avg / total   0.801755  0.806035  0.786247  66574.0  66574.0  0.935924\n",
      "==============================\n"
     ]
    }
   ],
   "source": [
    "classifiers = [\n",
    "    KNeighborsClassifier(3),\n",
    "    DecisionTreeClassifier(max_depth=5),\n",
    "    RandomForestClassifier(max_depth=5, n_estimators=10, max_features=1),\n",
    "    MLPClassifier(alpha=1, max_iter=500),\n",
    "    LogisticRegression(multi_class=\"multinomial\", solver=\"lbfgs\", C=5),\n",
    "    GaussianNB()\n",
    "    ]\n",
    "\n",
    "# Competencia de clasificadores\n",
    "log_cols=[\"Classifier\", \"Accuracy\", \"Log Loss\", \"F1_SCORE\"]\n",
    "log = pd.DataFrame(columns=log_cols)\n",
    "\n",
    "for clf in classifiers:\n",
    "    clf.fit(X_train, y_train)\n",
    "    name = clf.__class__.__name__  \n",
    "    print(\"=\"*30)\n",
    "    print(name)\n",
    "    print('****Resultados****')    \n",
    "    train_predictions = clf.predict_proba(X_test)\n",
    "    acc = cr.class_report(y_true = y_test, \n",
    "                                y_pred = clf.predict(X_test),\n",
    "                                y_score = train_predictions)\n",
    "    print(\"Métricas: {}\".format(acc))\n",
    "    log_entry = pd.DataFrame([[name, acc]])\n",
    "    log = log.append(log_entry)\n",
    "    \n",
    "print(\"=\"*30)"
   ]
  },
  {
   "cell_type": "code",
   "execution_count": 22,
   "metadata": {},
   "outputs": [
    {
     "name": "stdout",
     "output_type": "stream",
     "text": [
      "[             precision    recall  f1-score  support     pred       AUC\n",
      "0             0.880294  0.874001  0.877136  21262.0  21110.0  0.953348\n",
      "1             0.814976  0.891775  0.851648  29023.0  31758.0  0.929081\n",
      "2             0.670937  0.564759  0.613286  16322.0  13739.0  0.829969\n",
      "avg / total   0.800530  0.805966  0.801374  66607.0  66607.0  0.920429,              precision    recall  f1-score  support     pred       AUC\n",
      "0             0.863133  0.890739  0.876719  21261.0  21941.0  0.953219\n",
      "1             0.821412  0.875271  0.847487  29023.0  30926.0  0.924333\n",
      "2             0.682824  0.574772  0.624156  16323.0  13740.0  0.837610\n",
      "avg / total   0.800767  0.806567  0.802087  66607.0  66607.0  0.919360,              precision    recall  f1-score  support     pred       AUC\n",
      "0             0.878080  0.883407  0.880735  21262.0  21391.0  0.956285\n",
      "1             0.792617  0.882606  0.835195  29022.0  32317.0  0.903601\n",
      "2             0.665400  0.525822  0.587434  16323.0  12899.0  0.792961\n",
      "avg / total   0.788722  0.795427  0.789015  66607.0  66607.0  0.905055,              precision    recall  f1-score  support     pred       AUC\n",
      "0             0.886639  0.895729  0.891161  21262.0  21480.0  0.959800\n",
      "1             0.780223  0.881952  0.827974  29022.0  32806.0  0.889789\n",
      "2             0.652760  0.492709  0.561553  16322.0  12320.0  0.760931\n",
      "avg / total   0.782958  0.790965  0.782857  66606.0  66606.0  0.895875,              precision    recall  f1-score  support     pred       AUC\n",
      "0             0.862141  0.888863  0.875298  21262.0  21921.0  0.954069\n",
      "1             0.823423  0.882296  0.851844  29022.0  31097.0  0.928661\n",
      "2             0.691198  0.575420  0.628017  16322.0  13588.0  0.843054\n",
      "avg / total   0.803381  0.809191  0.804482  66606.0  66606.0  0.922546]\n"
     ]
    }
   ],
   "source": [
    "kf = StratifiedKFold(n_splits=5,shuffle=False)\n",
    "\n",
    "accuracy_model = []\n",
    "# Iteraciones del entrenamiento sobre los kfolds\n",
    "#X_fin = X[['SESUSERV','SESUCUSA', 'SESUSAPE','SESUCICL', 'TIPIFICACION_CLIENTE', 'PROM_SUSC',\n",
    "#'CANAL_ENVIO','SEGMENTACION', 'ESTRATO_AGRUPADO','ANTIGUEDAD_DIAS', 'CANAL_PAGO']]\n",
    "X_fin = X\n",
    "X_ = StandardScaler().fit_transform(X_fin)\n",
    "\n",
    "for train_index, test_index in kf.split(X_, y) :\n",
    "    # Particion train test para validacion cruzada\n",
    "    X_train, X_test = X.iloc[train_index], X.iloc[test_index]\n",
    "    y_train, y_test = y[train_index], y[test_index]\n",
    "    # Entrenamiento de la red MLP\n",
    "    model = KNeighborsClassifier(7).fit(X_train, y_train) \n",
    "    accuracy_model.append(cr.class_report(y_true = y_test, \n",
    "                                       y_pred = model.predict(X_test),\n",
    "                                      y_score = model.predict_proba(X_test)))\n",
    " \n",
    "# Print the accuracy    \n",
    "print(accuracy_model)"
   ]
  },
  {
   "cell_type": "code",
   "execution_count": 23,
   "metadata": {},
   "outputs": [
    {
     "data": {
      "text/plain": [
       "array([[18899,   839,  1524],\n",
       "       [  744, 25606,  2672],\n",
       "       [ 2278,  4652,  9392]], dtype=int64)"
      ]
     },
     "execution_count": 23,
     "metadata": {},
     "output_type": "execute_result"
    }
   ],
   "source": [
    "from sklearn.metrics import confusion_matrix\n",
    "confusion_matrix(y_test, model.predict(X_test))"
   ]
  },
  {
   "cell_type": "code",
   "execution_count": null,
   "metadata": {},
   "outputs": [],
   "source": []
  }
 ],
 "metadata": {
  "kernelspec": {
   "display_name": "Python 3",
   "language": "python",
   "name": "python3"
  },
  "language_info": {
   "codemirror_mode": {
    "name": "ipython",
    "version": 3
   },
   "file_extension": ".py",
   "mimetype": "text/x-python",
   "name": "python",
   "nbconvert_exporter": "python",
   "pygments_lexer": "ipython3",
   "version": "3.7.6"
  }
 },
 "nbformat": 4,
 "nbformat_minor": 4
}
