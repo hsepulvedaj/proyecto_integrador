{
 "cells": [
  {
   "cell_type": "code",
   "execution_count": 1,
   "metadata": {},
   "outputs": [],
   "source": [
    "import pandas as pd\n",
    "import sys\n",
    "sys.path.insert(0,r\"C:\\Users\\LENOVO\\Downloads\")\n",
    "import numpy as np\n",
    "import csv\n",
    "from sklearn.model_selection import train_test_split\n",
    "import class_report as cr\n",
    "from sklearn.preprocessing import LabelEncoder\n",
    "from sklearn.metrics import confusion_matrix, accuracy_score, auc, f1_score, log_loss\n",
    "from sklearn.tree import DecisionTreeClassifier \n",
    "from sklearn.model_selection import StratifiedKFold\n",
    "from sklearn.linear_model import LogisticRegression\n",
    "from sklearn.neighbors import KNeighborsClassifier\n",
    "from sklearn.naive_bayes import GaussianNB\n",
    "from sklearn.svm import SVC\n",
    "from sklearn.preprocessing import StandardScaler\n",
    "from sklearn.neural_network import MLPClassifier\n",
    "from sklearn.ensemble import RandomForestClassifier"
   ]
  },
  {
   "cell_type": "code",
   "execution_count": 2,
   "metadata": {},
   "outputs": [],
   "source": [
    "pd.set_option('display.max_row', None)\n",
    "pd.set_option('display.max_column', None)"
   ]
  },
  {
   "cell_type": "code",
   "execution_count": 3,
   "metadata": {},
   "outputs": [],
   "source": [
    "base_sur = pd.read_csv('base_centro.txt', sep = \",\", engine = \"python\")"
   ]
  },
  {
   "cell_type": "code",
   "execution_count": 4,
   "metadata": {},
   "outputs": [],
   "source": [
    "base2_sur = base_sur[['SUSCNITC','SERVDESC','SESUCUSA','SESUCICL','SESULOCA',\n",
    "                                  'TIPIFICACION_CLIENTE','CALIFICACION_VECTOR_SERVICIO',\n",
    "                                  'CANAL_ENVIO','SEGMENTACION','ESTRATO_AGRUPADO','DEPARTAMENTO_AGR',\n",
    "                                  'ANTIGUEDAD_DIAS','CANAL_PAGO','SESUSAPE','SESUSAAN','PROM_SUSC']]\n",
    "base3_sur = base2_sur.dropna()"
   ]
  },
  {
   "cell_type": "code",
   "execution_count": 5,
   "metadata": {},
   "outputs": [],
   "source": [
    "tmp = base3_sur[['SUSCNITC','CALIFICACION_VECTOR_SERVICIO']]\n",
    "tmp.columns\n",
    "\n",
    "group_nit = tmp.groupby(['SUSCNITC'])['CALIFICACION_VECTOR_SERVICIO'].mean().reset_index()\n",
    "group_nit = group_nit.rename(columns={\"CALIFICACION_VECTOR_SERVICIO\":\"PROM_CALIFICACION\"})"
   ]
  },
  {
   "cell_type": "code",
   "execution_count": 6,
   "metadata": {},
   "outputs": [],
   "source": [
    "base4_sur = pd.merge(base3_sur, group_nit, how='left', on=['SUSCNITC'])"
   ]
  },
  {
   "cell_type": "code",
   "execution_count": 7,
   "metadata": {},
   "outputs": [],
   "source": [
    "base4_sur['y'] = pd.cut(x=base4_sur['PROM_CALIFICACION'],\n",
    "                            bins=[-1,50,76,100],\n",
    "                            labels=['No Pago','Pago Inoportuno','Pago'])"
   ]
  },
  {
   "cell_type": "code",
   "execution_count": 8,
   "metadata": {},
   "outputs": [],
   "source": [
    "base5_sur = base4_sur[['SERVDESC','SESUCUSA','SESUCICL','SESULOCA','TIPIFICACION_CLIENTE',\n",
    "                       'CALIFICACION_VECTOR_SERVICIO','CANAL_ENVIO','SEGMENTACION','ESTRATO_AGRUPADO',\n",
    "                       'DEPARTAMENTO_AGR','ANTIGUEDAD_DIAS','CANAL_PAGO','SESUSAPE','SESUSAAN','PROM_SUSC','y']]"
   ]
  },
  {
   "cell_type": "code",
   "execution_count": 9,
   "metadata": {},
   "outputs": [],
   "source": [
    "names = base5_sur.columns\n",
    "\n",
    "for x in names:\n",
    "    globals()['FREQ_%s' % x]= base5_sur[x].value_counts().rename_axis([x]).reset_index(name='F_{x}'.format(x=x))"
   ]
  },
  {
   "cell_type": "code",
   "execution_count": 10,
   "metadata": {},
   "outputs": [],
   "source": [
    "freq_sur = base5_sur.merge(FREQ_SERVDESC,on=\"SERVDESC\").merge(FREQ_SESUCUSA,on='SESUCUSA').merge(FREQ_SESUCICL,on='SESUCICL').merge(FREQ_SESULOCA,on='SESULOCA').merge(FREQ_TIPIFICACION_CLIENTE,on='TIPIFICACION_CLIENTE').merge(FREQ_CANAL_ENVIO,on='CANAL_ENVIO').merge(FREQ_SEGMENTACION,on='SEGMENTACION').merge(FREQ_ESTRATO_AGRUPADO,on='ESTRATO_AGRUPADO').merge(FREQ_DEPARTAMENTO_AGR,on='DEPARTAMENTO_AGR').merge(FREQ_CANAL_PAGO,on='CANAL_PAGO')"
   ]
  },
  {
   "cell_type": "code",
   "execution_count": 11,
   "metadata": {},
   "outputs": [],
   "source": [
    "freq_sur2 = freq_sur[['F_SERVDESC', 'F_SESUCUSA',\n",
    "       'F_SESUCICL', 'F_SESULOCA', 'F_TIPIFICACION_CLIENTE', 'F_CANAL_ENVIO',\n",
    "       'F_SEGMENTACION', 'F_ESTRATO_AGRUPADO', 'F_DEPARTAMENTO_AGR',\n",
    "       'F_CANAL_PAGO']]"
   ]
  },
  {
   "cell_type": "code",
   "execution_count": 12,
   "metadata": {},
   "outputs": [
    {
     "name": "stderr",
     "output_type": "stream",
     "text": [
      "C:\\Users\\Paola Fajardo\\anaconda3\\lib\\site-packages\\ipykernel_launcher.py:1: SettingWithCopyWarning: \n",
      "A value is trying to be set on a copy of a slice from a DataFrame.\n",
      "Try using .loc[row_indexer,col_indexer] = value instead\n",
      "\n",
      "See the caveats in the documentation: https://pandas.pydata.org/pandas-docs/stable/user_guide/indexing.html#returning-a-view-versus-a-copy\n",
      "  \"\"\"Entry point for launching an IPython kernel.\n"
     ]
    }
   ],
   "source": [
    "freq_sur2['AVG_FREQ'] = freq_sur2.mean(axis=1)"
   ]
  },
  {
   "cell_type": "code",
   "execution_count": 13,
   "metadata": {},
   "outputs": [],
   "source": [
    "n, m = freq_sur2.shape\n",
    "n_reg_del = round((0.05 * n) /100)\n",
    "outliers = freq_sur2.nsmallest(n_reg_del, 'AVG_FREQ')\n",
    "outliers_idx = outliers.index\n",
    "outliers_idx = outliers_idx.sort_values(ascending=False)"
   ]
  },
  {
   "cell_type": "code",
   "execution_count": 14,
   "metadata": {},
   "outputs": [],
   "source": [
    "for x in outliers_idx:\n",
    "    base5_sur = base5_sur.drop([x])"
   ]
  },
  {
   "cell_type": "code",
   "execution_count": 15,
   "metadata": {},
   "outputs": [],
   "source": [
    "#base5_sur = base5_sur.drop([332839])"
   ]
  },
  {
   "cell_type": "code",
   "execution_count": 16,
   "metadata": {},
   "outputs": [
    {
     "data": {
      "text/plain": [
       "(441018, 16)"
      ]
     },
     "execution_count": 16,
     "metadata": {},
     "output_type": "execute_result"
    }
   ],
   "source": [
    "base5_sur.shape"
   ]
  },
  {
   "cell_type": "code",
   "execution_count": 17,
   "metadata": {},
   "outputs": [],
   "source": [
    "dataTypeSeries = base5_sur.dtypes\n",
    "dataTypeSeries\n",
    "\n",
    "cat = base5_sur.select_dtypes(include=['object','category'])\n",
    "cuanti = base5_sur.select_dtypes(include=['int64','float64'])\n",
    "  \n",
    "cat = cat.apply(lambda col: LabelEncoder().fit_transform(col))\n",
    "base5_sur = cuanti.join(cat)"
   ]
  },
  {
   "cell_type": "code",
   "execution_count": 18,
   "metadata": {},
   "outputs": [],
   "source": [
    "X = base5_sur[['SERVDESC','SESUCUSA','SESUCICL','SESULOCA','TIPIFICACION_CLIENTE','CANAL_ENVIO',\n",
    "               'SEGMENTACION','ESTRATO_AGRUPADO','DEPARTAMENTO_AGR','ANTIGUEDAD_DIAS','CANAL_PAGO',\n",
    "               'SESUSAPE','SESUSAAN','PROM_SUSC']]\n",
    "\n",
    "y = base5_sur['y']"
   ]
  },
  {
   "cell_type": "code",
   "execution_count": 19,
   "metadata": {},
   "outputs": [
    {
     "name": "stdout",
     "output_type": "stream",
     "text": [
      "==============================\n",
      "KNeighborsClassifier\n",
      "****Resultados****\n",
      "Métricas:              precision    recall  f1-score  support     pred       AUC\n",
      "0             0.870619  0.861996  0.866286  13630.0  13495.0  0.956609\n",
      "1             0.868285  0.901558  0.884609  46972.0  48772.0  0.916214\n",
      "2             0.787832  0.740309  0.763331  27602.0  25937.0  0.878609\n",
      "avg / total   0.843469  0.844984  0.843826  88204.0  88204.0  0.930182\n",
      "==============================\n",
      "DecisionTreeClassifier\n",
      "****Resultados****\n",
      "Métricas:              precision    recall  f1-score  support     pred       AUC\n",
      "0             0.961704  0.753558  0.845002  13630.0  10680.0  0.950087\n",
      "1             0.852133  0.911437  0.880788  46972.0  50241.0  0.919149\n",
      "2             0.766631  0.757771  0.762175  27602.0  27283.0  0.890630\n",
      "avg / total   0.842308  0.838953  0.838140  88204.0  88204.0  0.943633\n",
      "==============================\n",
      "RandomForestClassifier\n",
      "****Resultados****\n",
      "Métricas:              precision    recall  f1-score  support     pred       AUC\n",
      "0             0.914030  0.726999  0.809857  13630.0  10841.0  0.964854\n",
      "1             0.737323  0.976326  0.840158  46972.0  62198.0  0.905672\n",
      "2             0.813320  0.446852  0.576800  27602.0  15165.0  0.863989\n",
      "avg / total   0.788411  0.772108  0.753062  88204.0  88204.0  0.918460\n",
      "==============================\n",
      "MLPClassifier\n",
      "****Resultados****\n",
      "Métricas:              precision    recall  f1-score  support     pred       AUC\n",
      "0             0.895137  0.768452  0.826971  13630.0  11701.0  0.961853\n",
      "1             0.795297  0.947628  0.864806  46972.0  55969.0  0.911179\n",
      "2             0.801110  0.595971  0.683480  27602.0  20534.0  0.878969\n",
      "avg / total   0.812545  0.809895  0.802216  88204.0  88204.0  0.936925\n",
      "==============================\n",
      "LogisticRegression\n",
      "****Resultados****\n",
      "Métricas:              precision    recall  f1-score  support     pred       AUC\n",
      "0             0.861576  0.676302  0.757779  13630.0  10699.0  0.934598\n",
      "1             0.769513  0.951865  0.851030  46972.0  58103.0  0.893121\n",
      "2             0.757138  0.532208  0.625053  27602.0  19402.0  0.845928\n",
      "avg / total   0.779867  0.777958  0.765904  88204.0  88204.0  0.917483\n",
      "==============================\n",
      "GaussianNB\n",
      "****Resultados****\n",
      "Métricas:              precision    recall  f1-score  support     pred       AUC\n",
      "0             0.950200  0.505356  0.659802  13630.0   7249.0  0.928563\n",
      "1             0.672101  0.936409  0.782540  46972.0  65444.0  0.814625\n",
      "2             0.567791  0.319071  0.408554  27602.0  15511.0  0.742540\n",
      "avg / total   0.682433  0.676613  0.646541  88204.0  88204.0  0.869401\n",
      "==============================\n"
     ]
    }
   ],
   "source": [
    "from datetime import datetime\n",
    "instanteInicial = datetime.now()\n",
    "X_ = StandardScaler().fit_transform(X)\n",
    "#X_ = X\n",
    "X_train, X_test, y_train, y_test = train_test_split(X_, y, test_size=0.2,random_state=321)\n",
    "\n",
    "classifiers = [\n",
    "    KNeighborsClassifier(3),\n",
    "    DecisionTreeClassifier(max_depth=5),\n",
    "    RandomForestClassifier(max_depth=5, n_estimators=10, max_features=1),\n",
    "    MLPClassifier(alpha=1, max_iter=500),\n",
    "    LogisticRegression(multi_class=\"multinomial\", solver=\"lbfgs\", C=5),\n",
    "    GaussianNB()\n",
    "    ]\n",
    "\n",
    "# Competencia de clasificadores\n",
    "log_cols=[\"Classifier\", \"Accuracy\", \"Log Loss\", \"F1_SCORE\"]\n",
    "log = pd.DataFrame(columns=log_cols)\n",
    "\n",
    "for clf in classifiers:\n",
    "    clf.fit(X_train, y_train)\n",
    "    name = clf.__class__.__name__  \n",
    "    print(\"=\"*30)\n",
    "    print(name)\n",
    "    print('****Resultados****')    \n",
    "    train_predictions = clf.predict_proba(X_test)\n",
    "    acc = cr.class_report(y_true = y_test, \n",
    "                                y_pred = clf.predict(X_test),\n",
    "                                y_score = train_predictions)\n",
    "    print(\"Métricas: {}\".format(acc))\n",
    "    log_entry = pd.DataFrame([[name, acc]])\n",
    "    log = log.append(log_entry)\n",
    "    \n",
    "print(\"=\"*30)"
   ]
  },
  {
   "cell_type": "code",
   "execution_count": 20,
   "metadata": {},
   "outputs": [
    {
     "name": "stdout",
     "output_type": "stream",
     "text": [
      "==============================\n",
      "KNeighborsClassifier\n",
      "****Resultados****\n",
      "Métricas:              precision    recall  f1-score  support     pred       AUC\n",
      "0             0.806162  0.908070  0.854087  13630.0  15353.0  0.946219\n",
      "1             0.828245  0.936175  0.878909  46972.0  53093.0  0.900838\n",
      "2             0.850339  0.608688  0.709502  27602.0  19758.0  0.859199\n",
      "avg / total   0.831746  0.829350  0.822060  88204.0  88204.0  0.914743\n",
      "==============================\n",
      "KNeighborsClassifier\n",
      "****Resultados****\n",
      "Métricas:              precision    recall  f1-score  support     pred       AUC\n",
      "0             0.870619  0.861996  0.866286  13630.0  13495.0  0.956609\n",
      "1             0.868285  0.901558  0.884609  46972.0  48772.0  0.916214\n",
      "2             0.787832  0.740309  0.763331  27602.0  25937.0  0.878609\n",
      "avg / total   0.843469  0.844984  0.843826  88204.0  88204.0  0.930182\n",
      "==============================\n",
      "KNeighborsClassifier\n",
      "****Resultados****\n",
      "Métricas:              precision    recall  f1-score  support     pred       AUC\n",
      "0             0.875465  0.880411  0.877931  13630.0  13707.0  0.963040\n",
      "1             0.848019  0.936175  0.889919  46972.0  51855.0  0.923932\n",
      "2             0.835306  0.685204  0.752846  27602.0  22642.0  0.889163\n",
      "avg / total   0.848282  0.849020  0.845172  88204.0  88204.0  0.938349\n",
      "==============================\n",
      "KNeighborsClassifier\n",
      "****Resultados****\n",
      "Métricas:              precision    recall  f1-score  support     pred       AUC\n",
      "0             0.897408  0.853558  0.874934  13630.0  12964.0  0.966520\n",
      "1             0.865283  0.916567  0.890187  46972.0  49756.0  0.928870\n",
      "2             0.804348  0.742627  0.772256  27602.0  25484.0  0.895762\n",
      "avg / total   0.851178  0.852399  0.850925  88204.0  88204.0  0.943349\n",
      "==============================\n",
      "KNeighborsClassifier\n",
      "****Resultados****\n",
      "Métricas:              precision    recall  f1-score  support     pred       AUC\n",
      "0             0.884848  0.869332  0.877022  13630.0  13391.0  0.968898\n",
      "1             0.853332  0.933684  0.891701  46972.0  51395.0  0.931934\n",
      "2             0.830728  0.704804  0.762603  27602.0  23418.0  0.899821\n",
      "avg / total   0.851129  0.852116  0.849034  88204.0  88204.0  0.946443\n",
      "==============================\n",
      "KNeighborsClassifier\n",
      "****Resultados****\n",
      "Métricas:              precision    recall  f1-score  support     pred       AUC\n",
      "0             0.904319  0.848056  0.875284  13630.0  12782.0  0.970482\n",
      "1             0.865325  0.919910  0.891783  46972.0  49935.0  0.934151\n",
      "2             0.807235  0.745381  0.775076  27602.0  25487.0  0.902908\n",
      "avg / total   0.853172  0.854190  0.852712  88204.0  88204.0  0.948729\n",
      "==============================\n",
      "KNeighborsClassifier\n",
      "****Resultados****\n",
      "Métricas:              precision    recall  f1-score  support     pred       AUC\n",
      "0             0.894078  0.859574  0.876487  13630.0  13104.0  0.971923\n",
      "1             0.856087  0.932215  0.892531  46972.0  51149.0  0.935307\n",
      "2             0.826229  0.716941  0.767715  27602.0  23951.0  0.904504\n",
      "avg / total   0.852614  0.853623  0.850992  88204.0  88204.0  0.950089\n",
      "==============================\n",
      "KNeighborsClassifier\n",
      "****Resultados****\n",
      "Métricas:              precision    recall  f1-score  support     pred       AUC\n",
      "0             0.906348  0.844241  0.874193  13630.0  12696.0  0.973088\n",
      "1             0.864793  0.921038  0.892030  46972.0  50027.0  0.936549\n",
      "2             0.807739  0.745671  0.775465  27602.0  25481.0  0.906060\n",
      "avg / total   0.853360  0.854292  0.852796  88204.0  88204.0  0.951417\n",
      "==============================\n",
      "KNeighborsClassifier\n",
      "****Resultados****\n",
      "Métricas:              precision    recall  f1-score  support     pred       AUC\n",
      "0             0.898847  0.852091  0.874845  13630.0  12921.0  0.974104\n",
      "1             0.855742  0.930746  0.891669  46972.0  51089.0  0.937222\n",
      "2             0.822146  0.720636  0.768052  27602.0  24194.0  0.906988\n",
      "avg / total   0.851890  0.852841  0.850385  88204.0  88204.0  0.952258\n",
      "==============================\n"
     ]
    }
   ],
   "source": [
    "classifiers = [\n",
    "    KNeighborsClassifier(2),\n",
    "    KNeighborsClassifier(3),\n",
    "    KNeighborsClassifier(4),\n",
    "    KNeighborsClassifier(5),\n",
    "    KNeighborsClassifier(6),\n",
    "    KNeighborsClassifier(7),\n",
    "    KNeighborsClassifier(8),\n",
    "    KNeighborsClassifier(9),\n",
    "    KNeighborsClassifier(10)\n",
    "    ]\n",
    "\n",
    "# Competencia de clasificadores\n",
    "log_cols=[\"Classifier\", \"Accuracy\", \"Log Loss\", \"F1_SCORE\"]\n",
    "log = pd.DataFrame(columns=log_cols)\n",
    "\n",
    "for clf in classifiers:\n",
    "    clf.fit(X_train, y_train)\n",
    "    name = clf.__class__.__name__  \n",
    "    print(\"=\"*30)\n",
    "    print(name)\n",
    "    print('****Resultados****')    \n",
    "    train_predictions = clf.predict_proba(X_test)\n",
    "    acc = cr.class_report(y_true = y_test, \n",
    "                                y_pred = clf.predict(X_test),\n",
    "                                y_score = train_predictions)\n",
    "    print(\"Métricas: {}\".format(acc))\n",
    "    log_entry = pd.DataFrame([[name, acc]])\n",
    "    log = log.append(log_entry)\n",
    "    \n",
    "print(\"=\"*30)"
   ]
  },
  {
   "cell_type": "code",
   "execution_count": 24,
   "metadata": {},
   "outputs": [
    {
     "name": "stdout",
     "output_type": "stream",
     "text": [
      "[             precision    recall  f1-score  support     pred       AUC\n",
      "0             0.813351  0.771971  0.792121  13700.0  13003.0  0.933456\n",
      "1             0.825542  0.902162  0.862153  46761.0  51101.0  0.898616\n",
      "2             0.741992  0.644559  0.689852  27743.0  24100.0  0.838670\n",
      "avg / total   0.797369  0.800916  0.797081  88204.0  88204.0  0.912837,              precision    recall  f1-score  support     pred       AUC\n",
      "0             0.797875  0.778191  0.787910  13701.0  13363.0  0.938443\n",
      "1             0.816008  0.910907  0.860850  46760.0  52198.0  0.898583\n",
      "2             0.742746  0.606207  0.667566  27743.0  22643.0  0.837586\n",
      "avg / total   0.790148  0.794454  0.788726  88204.0  88204.0  0.912602,              precision    recall  f1-score  support     pred       AUC\n",
      "0             0.693695  0.780584  0.734579  13700.0  15416.0  0.916222\n",
      "1             0.841974  0.907571  0.873542  46760.0  50403.0  0.913109\n",
      "2             0.739245  0.596453  0.660217  27744.0  22385.0  0.808158\n",
      "avg / total   0.786630  0.789987  0.784858  88204.0  88204.0  0.899093,              precision    recall  f1-score  support     pred       AUC\n",
      "0             0.843798  0.758248  0.798739  13700.0  12311.0  0.929322\n",
      "1             0.716725  0.901347  0.798503  46760.0  58805.0  0.825870\n",
      "2             0.616551  0.379735  0.469998  27743.0  17087.0  0.705894\n",
      "avg / total   0.704954  0.715055  0.695213  88203.0  88203.0  0.859826,              precision    recall  f1-score  support     pred       AUC\n",
      "0             0.782739  0.722920  0.751641  13700.0  12653.0  0.892938\n",
      "1             0.794408  0.909559  0.848093  46760.0  53538.0  0.874336\n",
      "2             0.745957  0.591861  0.660034  27743.0  22012.0  0.836131\n",
      "avg / total   0.777356  0.780642  0.773960  88203.0  88203.0  0.897860]\n"
     ]
    }
   ],
   "source": [
    "kf = StratifiedKFold(n_splits=5,shuffle=False)\n",
    "\n",
    "accuracy_model = []\n",
    "# Iteraciones del entrenamiento sobre los kfolds\n",
    "#X_fin = X[['SESUSERV','SESUCUSA', 'SESUSAPE','SESUCICL', 'TIPIFICACION_CLIENTE', 'PROM_SUSC',\n",
    "#'CANAL_ENVIO','SEGMENTACION', 'ESTRATO_AGRUPADO','ANTIGUEDAD_DIAS', 'CANAL_PAGO']]\n",
    "X_fin = X\n",
    "X_ = StandardScaler().fit_transform(X_fin)\n",
    "\n",
    "for train_index, test_index in kf.split(X_, y) :\n",
    "    # Particion train test para validacion cruzada\n",
    "    X_train, X_test = X.iloc[train_index], X.iloc[test_index]\n",
    "    y_train, y_test = y.iloc[train_index], y.iloc[test_index]\n",
    "    # Entrenamiento de la red MLP\n",
    "    model = KNeighborsClassifier(7).fit(X_train, y_train) \n",
    "    accuracy_model.append(cr.class_report(y_true = y_test, \n",
    "                                       y_pred = model.predict(X_test),\n",
    "                                      y_score = model.predict_proba(X_test)))\n",
    " \n",
    "## Print the accuracy    \n",
    "print(accuracy_model)"
   ]
  },
  {
   "cell_type": "code",
   "execution_count": 25,
   "metadata": {},
   "outputs": [
    {
     "data": {
      "text/plain": [
       "array([[ 9904,  1975,  1821],\n",
       "       [  458, 42531,  3771],\n",
       "       [ 2291,  9032, 16420]], dtype=int64)"
      ]
     },
     "execution_count": 25,
     "metadata": {},
     "output_type": "execute_result"
    }
   ],
   "source": [
    "from sklearn.metrics import confusion_matrix\n",
    "confusion_matrix(y_test, model.predict(X_test))"
   ]
  },
  {
   "cell_type": "code",
   "execution_count": null,
   "metadata": {},
   "outputs": [],
   "source": []
  }
 ],
 "metadata": {
  "kernelspec": {
   "display_name": "Python 3",
   "language": "python",
   "name": "python3"
  },
  "language_info": {
   "codemirror_mode": {
    "name": "ipython",
    "version": 3
   },
   "file_extension": ".py",
   "mimetype": "text/x-python",
   "name": "python",
   "nbconvert_exporter": "python",
   "pygments_lexer": "ipython3",
   "version": "3.7.6"
  }
 },
 "nbformat": 4,
 "nbformat_minor": 4
}
