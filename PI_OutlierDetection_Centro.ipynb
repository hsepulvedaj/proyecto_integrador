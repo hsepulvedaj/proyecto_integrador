{
 "cells": [
  {
   "cell_type": "code",
   "execution_count": 1,
   "metadata": {},
   "outputs": [],
   "source": [
    "import pandas as pd\n",
    "import sys\n",
    "sys.path.insert(0,r\"C:\\Users\\LENOVO\\Downloads\")\n",
    "import numpy as np\n",
    "import csv\n",
    "from sklearn.model_selection import train_test_split\n",
    "import class_report as cr\n",
    "from sklearn.preprocessing import LabelEncoder\n",
    "from sklearn.metrics import confusion_matrix, accuracy_score, auc, f1_score, log_loss\n",
    "from sklearn.tree import DecisionTreeClassifier \n",
    "from sklearn.model_selection import StratifiedKFold\n",
    "from sklearn.linear_model import LogisticRegression\n",
    "from sklearn.neighbors import KNeighborsClassifier\n",
    "from sklearn.naive_bayes import GaussianNB\n",
    "from sklearn.svm import SVC\n",
    "from sklearn.preprocessing import StandardScaler\n",
    "from sklearn.neural_network import MLPClassifier\n",
    "from sklearn.ensemble import RandomForestClassifier"
   ]
  },
  {
   "cell_type": "code",
   "execution_count": 2,
   "metadata": {},
   "outputs": [],
   "source": [
    "pd.set_option('display.max_row', None)\n",
    "pd.set_option('display.max_column', None)"
   ]
  },
  {
   "cell_type": "code",
   "execution_count": 3,
   "metadata": {},
   "outputs": [],
   "source": [
    "base_centro = pd.read_csv(r'C:\\Users\\LENOVO\\Desktop\\base_centro.txt', sep = \",\", engine = \"python\")"
   ]
  },
  {
   "cell_type": "code",
   "execution_count": 4,
   "metadata": {},
   "outputs": [],
   "source": [
    "base2_centro = base_centro[['SUSCNITC','SERVDESC','SESUCUSA','SESUCICL','SESULOCA',\n",
    "                                  'TIPIFICACION_CLIENTE','CALIFICACION_VECTOR_SERVICIO',\n",
    "                                  'CANAL_ENVIO','SEGMENTACION','ESTRATO_AGRUPADO','DEPARTAMENTO_AGR',\n",
    "                                  'ANTIGUEDAD_DIAS','CANAL_PAGO','SESUSAPE','SESUSAAN','PROM_SUSC']]\n",
    "base3_centro = base2_centro.dropna()"
   ]
  },
  {
   "cell_type": "code",
   "execution_count": 5,
   "metadata": {},
   "outputs": [],
   "source": [
    "tmp = base3_centro[['SUSCNITC','CALIFICACION_VECTOR_SERVICIO']]\n",
    "tmp.columns\n",
    "\n",
    "group_nit = tmp.groupby(['SUSCNITC'])['CALIFICACION_VECTOR_SERVICIO'].mean().reset_index()\n",
    "group_nit = group_nit.rename(columns={\"CALIFICACION_VECTOR_SERVICIO\":\"PROM_CALIFICACION\"})"
   ]
  },
  {
   "cell_type": "code",
   "execution_count": 6,
   "metadata": {},
   "outputs": [],
   "source": [
    "base4_centro = pd.merge(base3_centro, group_nit, how='left', on=['SUSCNITC'])"
   ]
  },
  {
   "cell_type": "code",
   "execution_count": 7,
   "metadata": {},
   "outputs": [],
   "source": [
    "base4_centro['y'] = pd.cut(x=base4_centro['PROM_CALIFICACION'],bins=[-1,50,76,100],\n",
    "                           labels=['No Pago','Pago Inoportuno','Pago'])"
   ]
  },
  {
   "cell_type": "code",
   "execution_count": 8,
   "metadata": {},
   "outputs": [],
   "source": [
    "base5_centro = base4_centro[['SERVDESC','SESUCUSA','SESUCICL','SESULOCA','TIPIFICACION_CLIENTE',\n",
    "                             'CALIFICACION_VECTOR_SERVICIO','CANAL_ENVIO','SEGMENTACION','ESTRATO_AGRUPADO',\n",
    "                             'DEPARTAMENTO_AGR','ANTIGUEDAD_DIAS','CANAL_PAGO','SESUSAPE','SESUSAAN','PROM_SUSC',\n",
    "                             'y']]"
   ]
  },
  {
   "cell_type": "code",
   "execution_count": 9,
   "metadata": {},
   "outputs": [],
   "source": [
    "names = base5_centro.columns\n",
    "\n",
    "for x in names:\n",
    "    globals()['FREQ_%s' % x]= base5_centro[x].value_counts().rename_axis([x]).reset_index(name='F_{x}'.format(x=x))"
   ]
  },
  {
   "cell_type": "code",
   "execution_count": 10,
   "metadata": {},
   "outputs": [],
   "source": [
    "freq_centro = base5_centro.merge(FREQ_SERVDESC,on=\"SERVDESC\").merge(FREQ_SESUCUSA,on='SESUCUSA').merge(FREQ_SESUCICL,on='SESUCICL').merge(FREQ_SESULOCA,on='SESULOCA').merge(FREQ_TIPIFICACION_CLIENTE,on='TIPIFICACION_CLIENTE').merge(FREQ_CANAL_ENVIO,on='CANAL_ENVIO').merge(FREQ_SEGMENTACION,on='SEGMENTACION').merge(FREQ_ESTRATO_AGRUPADO,on='ESTRATO_AGRUPADO').merge(FREQ_DEPARTAMENTO_AGR,on='DEPARTAMENTO_AGR').merge(FREQ_CANAL_PAGO,on='CANAL_PAGO')"
   ]
  },
  {
   "cell_type": "code",
   "execution_count": 11,
   "metadata": {},
   "outputs": [],
   "source": [
    "freq_centro2 = freq_centro[['F_SERVDESC','F_SESUCUSA','F_SESUCICL','F_SESULOCA','F_TIPIFICACION_CLIENTE',\n",
    "                            'F_CANAL_ENVIO','F_SEGMENTACION','F_ESTRATO_AGRUPADO','F_DEPARTAMENTO_AGR',\n",
    "                            'F_CANAL_PAGO']]"
   ]
  },
  {
   "cell_type": "code",
   "execution_count": 12,
   "metadata": {},
   "outputs": [
    {
     "name": "stderr",
     "output_type": "stream",
     "text": [
      "C:\\Users\\LENOVO\\anaconda3\\lib\\site-packages\\ipykernel_launcher.py:1: SettingWithCopyWarning: \n",
      "A value is trying to be set on a copy of a slice from a DataFrame.\n",
      "Try using .loc[row_indexer,col_indexer] = value instead\n",
      "\n",
      "See the caveats in the documentation: https://pandas.pydata.org/pandas-docs/stable/user_guide/indexing.html#returning-a-view-versus-a-copy\n",
      "  \"\"\"Entry point for launching an IPython kernel.\n"
     ]
    }
   ],
   "source": [
    "freq_centro2['AVG_FREQ'] = freq_centro2.mean(axis=1)"
   ]
  },
  {
   "cell_type": "code",
   "execution_count": 13,
   "metadata": {},
   "outputs": [],
   "source": [
    "n, m = freq_centro2.shape\n",
    "n_reg_del = round((0.05 * n) /100)\n",
    "outliers = freq_centro2.nsmallest(n_reg_del, 'AVG_FREQ')\n",
    "outliers_idx = outliers.index\n",
    "outliers_idx = outliers_idx.sort_values(ascending=False)"
   ]
  },
  {
   "cell_type": "code",
   "execution_count": 14,
   "metadata": {},
   "outputs": [],
   "source": [
    "for x in outliers_idx:\n",
    "    base5_centro = base5_centro.drop([x])"
   ]
  },
  {
   "cell_type": "code",
   "execution_count": 15,
   "metadata": {},
   "outputs": [],
   "source": [
    "dataTypeSeries = base5_centro.dtypes\n",
    "dataTypeSeries\n",
    "\n",
    "cat = base5_centro.select_dtypes(include=['object','category'])\n",
    "cuanti = base5_centro.select_dtypes(include=['int64','float64'])\n",
    "  \n",
    "cat = cat.apply(lambda col: LabelEncoder().fit_transform(col))\n",
    "base5_centro = cuanti.join(cat)"
   ]
  },
  {
   "cell_type": "code",
   "execution_count": 27,
   "metadata": {},
   "outputs": [],
   "source": [
    "X = base5_centro[['SERVDESC','SESUCUSA','SESUCICL','SESULOCA','TIPIFICACION_CLIENTE','CANAL_ENVIO',\n",
    "                  'SEGMENTACION','ESTRATO_AGRUPADO','DEPARTAMENTO_AGR','ANTIGUEDAD_DIAS','CANAL_PAGO',\n",
    "                  'SESUSAPE','SESUSAAN','PROM_SUSC']]\n",
    "\n",
    "y = base5_centro['y']"
   ]
  },
  {
   "cell_type": "code",
   "execution_count": 28,
   "metadata": {},
   "outputs": [],
   "source": [
    "from datetime import datetime\n",
    "instanteInicial = datetime.now()\n",
    "X_ = StandardScaler().fit_transform(X)\n",
    "#X_ = X\n",
    "X_train, X_test, y_train, y_test = train_test_split(X_, y, test_size=0.2,random_state=321)"
   ]
  },
  {
   "cell_type": "code",
   "execution_count": 32,
   "metadata": {},
   "outputs": [],
   "source": [
    "kf = StratifiedKFold(n_splits=5,shuffle=False)\n",
    "accuracy_model = []\n",
    "X_fin = X\n",
    "X_ = StandardScaler().fit_transform(X_fin)\n"
   ]
  },
  {
   "cell_type": "code",
   "execution_count": 35,
   "metadata": {},
   "outputs": [
    {
     "name": "stdout",
     "output_type": "stream",
     "text": [
      "[             precision    recall  f1-score  support     pred       AUC\n",
      "0             0.813351  0.771971  0.792121  13700.0  13003.0  0.933456\n",
      "1             0.825542  0.902162  0.862153  46761.0  51101.0  0.898616\n",
      "2             0.741992  0.644559  0.689852  27743.0  24100.0  0.838670\n",
      "avg / total   0.797369  0.800916  0.797081  88204.0  88204.0  0.912837,              precision    recall  f1-score  support     pred       AUC\n",
      "0             0.797875  0.778191  0.787910  13701.0  13363.0  0.938443\n",
      "1             0.816008  0.910907  0.860850  46760.0  52198.0  0.898583\n",
      "2             0.742746  0.606207  0.667566  27743.0  22643.0  0.837586\n",
      "avg / total   0.790148  0.794454  0.788726  88204.0  88204.0  0.912602,              precision    recall  f1-score  support     pred       AUC\n",
      "0             0.693695  0.780584  0.734579  13700.0  15416.0  0.916222\n",
      "1             0.841974  0.907571  0.873542  46760.0  50403.0  0.913109\n",
      "2             0.739245  0.596453  0.660217  27744.0  22385.0  0.808158\n",
      "avg / total   0.786630  0.789987  0.784858  88204.0  88204.0  0.899093,              precision    recall  f1-score  support     pred       AUC\n",
      "0             0.843798  0.758248  0.798739  13700.0  12311.0  0.929322\n",
      "1             0.716725  0.901347  0.798503  46760.0  58805.0  0.825870\n",
      "2             0.616551  0.379735  0.469998  27743.0  17087.0  0.705894\n",
      "avg / total   0.704954  0.715055  0.695213  88203.0  88203.0  0.859826,              precision    recall  f1-score  support     pred       AUC\n",
      "0             0.782739  0.722920  0.751641  13700.0  12653.0  0.892938\n",
      "1             0.794408  0.909559  0.848093  46760.0  53538.0  0.874336\n",
      "2             0.745957  0.591861  0.660034  27743.0  22012.0  0.836131\n",
      "avg / total   0.777356  0.780642  0.773960  88203.0  88203.0  0.897860]\n"
     ]
    }
   ],
   "source": [
    "kf = StratifiedKFold(n_splits=5,shuffle=False)\n",
    "\n",
    "accuracy_model = []\n",
    "# Iteraciones del entrenamiento sobre los kfolds\n",
    "#X_fin = X[['SESUSERV','SESUCUSA', 'SESUSAPE','SESUCICL', 'TIPIFICACION_CLIENTE', 'PROM_SUSC',\n",
    "#'CANAL_ENVIO','SEGMENTACION', 'ESTRATO_AGRUPADO','ANTIGUEDAD_DIAS', 'CANAL_PAGO']]\n",
    "X_fin = X\n",
    "X_ = StandardScaler().fit_transform(X_fin)\n",
    "\n",
    "for train_index, test_index in kf.split(X_, y) :\n",
    "    # Particion train test para validacion cruzada\n",
    "    X_train, X_test = X.iloc[train_index], X.iloc[test_index]\n",
    "    y_train, y_test = y.iloc[train_index], y.iloc[test_index]\n",
    "    # Entrenamiento de la red MLP\n",
    "    model = KNeighborsClassifier(7).fit(X_train, y_train) \n",
    "    accuracy_model.append(cr.class_report(y_true = y_test, \n",
    "                                       y_pred = model.predict(X_test),\n",
    "                                      y_score = model.predict_proba(X_test)))\n",
    " \n",
    "# Print the accuracy    \n",
    "print(accuracy_model)"
   ]
  },
  {
   "cell_type": "code",
   "execution_count": 36,
   "metadata": {},
   "outputs": [
    {
     "data": {
      "text/plain": [
       "array([[ 9904,  1975,  1821],\n",
       "       [  458, 42531,  3771],\n",
       "       [ 2291,  9032, 16420]], dtype=int64)"
      ]
     },
     "execution_count": 36,
     "metadata": {},
     "output_type": "execute_result"
    }
   ],
   "source": [
    "from sklearn.metrics import confusion_matrix\n",
    "confusion_matrix(y_test, model.predict(X_test))"
   ]
  }
 ],
 "metadata": {
  "kernelspec": {
   "display_name": "Python 3",
   "language": "python",
   "name": "python3"
  },
  "language_info": {
   "codemirror_mode": {
    "name": "ipython",
    "version": 3
   },
   "file_extension": ".py",
   "mimetype": "text/x-python",
   "name": "python",
   "nbconvert_exporter": "python",
   "pygments_lexer": "ipython3",
   "version": "3.7.6"
  }
 },
 "nbformat": 4,
 "nbformat_minor": 4
}
