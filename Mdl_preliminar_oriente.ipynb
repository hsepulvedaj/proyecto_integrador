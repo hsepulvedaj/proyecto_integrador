{
 "cells": [
  {
   "cell_type": "code",
   "execution_count": 2,
   "metadata": {},
   "outputs": [],
   "source": [
    "import sys\n",
    "sys.path.insert(0,r\"C:\\Users\\pc\\Documents\")\n",
    "import numpy as np\n",
    "import pandas as pd\n",
    "import csv\n",
    "from sklearn.model_selection import train_test_split\n",
    "import class_report as cr\n",
    "from sklearn.preprocessing import LabelEncoder\n",
    "from sklearn.metrics import confusion_matrix, accuracy_score, auc, f1_score, log_loss\n",
    "from sklearn.tree import DecisionTreeClassifier \n",
    "from sklearn.model_selection import StratifiedKFold\n",
    "from sklearn.linear_model import LogisticRegression\n",
    "from sklearn.neighbors import KNeighborsClassifier\n",
    "from sklearn.naive_bayes import GaussianNB\n",
    "from sklearn.svm import SVC\n",
    "from sklearn.preprocessing import StandardScaler\n",
    "from sklearn.neural_network import MLPClassifier\n",
    "from sklearn.ensemble import RandomForestClassifier"
   ]
  },
  {
   "cell_type": "code",
   "execution_count": 3,
   "metadata": {},
   "outputs": [],
   "source": [
    "## Lectura de datos     \n",
    "base_oriente = pd.read_csv(r'C:\\Users\\pc\\Downloads\\BASE_ORIENTE.txt', sep=r'¡', engine='python')\n",
    "base_oriente.head()\n",
    "\n",
    "## Eliminación de variables: \n",
    "base_oriente2 = base_oriente[['CUCONUSE', 'SESUSERV', 'SERVDESC', 'SESUSUSC', 'SESUFEIN','DEPADESC', 'SESUCUSA', 'SESUSAPE','SESUCICL', 'SUSCNITC', \n",
    "        #'VECTOR','SESUCATE', 'SESUSUCA','SESULOCA','SESUSAAN','V1', 'V2', 'V3', 'V4', 'V5', 'V6',#'V7', 'V8', 'V9', 'V10', 'V11', 'V12', \n",
    "        'TIPIFICACION_CLIENTE', 'SUMA','CANTIDAD','CALIFICACION_VECTOR_SERVICIO',\n",
    "       #'VECTOR_CUALITATIVO_CONTRATO',#'BANCO_1', 'DIA_PAGO_1', 'DIA_PAGO_2','DIA_PAGO_3', 'FECHA_SUSPENSION','RANGO_EDAD', 'GENERO','PROM_SUSC', 'CANAL_ENVIO'\n",
    "       'SEGMENTACION', 'REGIONAL','ESTRATO_AGRUPADO','DEPARTAMENTO_AGR','ANTIGUEDAD_DIAS', 'CANAL_PAGO']]\n",
    "\n",
    "base_oriente3 = base_oriente2.dropna()"
   ]
  },
  {
   "cell_type": "code",
   "execution_count": 4,
   "metadata": {},
   "outputs": [],
   "source": [
    "## Group by por nit para calificacion\n",
    "b4 = base_oriente3[['SUSCNITC','CALIFICACION_VECTOR_SERVICIO']]\n",
    "group_nit = b4.groupby(['SUSCNITC'])['CALIFICACION_VECTOR_SERVICIO'].mean().reset_index()\n",
    "\n",
    "\n",
    "## Join de la nueva calificacion\n",
    "base_oriente4 = pd.merge(base_oriente3, group_nit, how='left', on=['SUSCNITC'])\n",
    "\n",
    "## Prueba promedio\n",
    "b5 = base_oriente4[['SUSCNITC','CALIFICACION_VECTOR_SERVICIO_x','CALIFICACION_VECTOR_SERVICIO_y']]\n",
    "\n",
    "### Creacion de la etiqueta de clasificacion\n",
    "base_oriente4['y'] = pd.cut(x=base_oriente4['CALIFICACION_VECTOR_SERVICIO_y'],\n",
    "                            bins=[-1,50,76,100],\n",
    "                            labels=['No pago','Pago inoportuno','Pago'])\n"
   ]
  },
  {
   "cell_type": "code",
   "execution_count": 5,
   "metadata": {
    "scrolled": true
   },
   "outputs": [
    {
     "name": "stdout",
     "output_type": "stream",
     "text": [
      "CUCONUSE                            int64\n",
      "SESUSERV                            int64\n",
      "SESUSUSC                            int64\n",
      "SESUCUSA                            int64\n",
      "SESUSAPE                            int64\n",
      "SESUCICL                            int64\n",
      "SUMA                                int64\n",
      "CANTIDAD                            int64\n",
      "CALIFICACION_VECTOR_SERVICIO_x      int64\n",
      "ESTRATO_AGRUPADO                  float64\n",
      "ANTIGUEDAD_DIAS                     int64\n",
      "CALIFICACION_VECTOR_SERVICIO_y    float64\n",
      "SERVDESC                            int32\n",
      "SESUFEIN                            int32\n",
      "DEPADESC                            int32\n",
      "SUSCNITC                            int32\n",
      "TIPIFICACION_CLIENTE                int32\n",
      "SEGMENTACION                        int32\n",
      "REGIONAL                            int32\n",
      "DEPARTAMENTO_AGR                    int32\n",
      "CANAL_PAGO                          int32\n",
      "y                                   int32\n",
      "dtype: object\n"
     ]
    }
   ],
   "source": [
    "dataTypeSeries = base_oriente4.dtypes\n",
    "dataTypeSeries\n",
    "\n",
    "cat = base_oriente4.select_dtypes(include=['object','category'])\n",
    "cuanti = base_oriente4.select_dtypes(include=['int64','float64'])\n",
    "  \n",
    "\n",
    "le = LabelEncoder()\n",
    "cat = cat.apply(lambda col: le.fit_transform(col))\n",
    "cat.head(10)\n",
    "\n",
    "base_oriente5=cuanti.join(cat)\n",
    "print(base_oriente5.dtypes)\n",
    "\n",
    "base_oriente5.to_csv(r'C:\\Users\\pc\\Desktop\\base_oriente_process.csv')\n",
    "base_oriente5 = pd.read_csv(r'C:\\Users\\pc\\Desktop\\base_oriente_process.csv', sep=',', engine='python')\n",
    "\n",
    "\n",
    "X = base_oriente5[[\n",
    "        #'CUCONUSE', \n",
    "        'SESUSERV', 'SERVDESC', 'SESUSUSC','DEPADESC', 'SESUCUSA', 'SESUSAPE','SESUCICL', 'TIPIFICACION_CLIENTE', \n",
    "        #'SESUFEIN','SUSCNITC', 'VECTOR','SESUCATE', 'SESUSUCA','SESULOCA','SESUSAAN','RANGO_EDAD', 'GENERO', \n",
    "        #'V1', 'V2', 'V3', 'V4', 'V5', 'V6','V7', 'V8', 'V9', 'V10', 'V11', 'V12','REGIONAL','PROM_SUSC', 'CANAL_ENVIO'     \n",
    "        # 'SUMA','CANTIDAD','CALIFICACION_VECTOR_SERVICIO_x', 'CALIFICACION_VECTOR_SERVICIO_y',\n",
    "        #'VECTOR_CUALITATIVO_CONTRATO','BANCO_1', 'DIA_PAGO_1', 'DIA_PAGO_2','DIA_PAGO_3', 'FECHA_SUSPENSION', \n",
    "       'SEGMENTACION','ESTRATO_AGRUPADO','DEPARTAMENTO_AGR','ANTIGUEDAD_DIAS','CANAL_PAGO']]\n",
    "\n",
    "y = base_oriente5['y']\n"
   ]
  },
  {
   "cell_type": "code",
   "execution_count": 6,
   "metadata": {
    "scrolled": true
   },
   "outputs": [
    {
     "name": "stderr",
     "output_type": "stream",
     "text": [
      "C:\\Users\\pc\\Anaconda3\\lib\\site-packages\\sklearn\\preprocessing\\data.py:645: DataConversionWarning: Data with input dtype int64, float64 were all converted to float64 by StandardScaler.\n",
      "  return self.partial_fit(X, y)\n",
      "C:\\Users\\pc\\Anaconda3\\lib\\site-packages\\sklearn\\base.py:464: DataConversionWarning: Data with input dtype int64, float64 were all converted to float64 by StandardScaler.\n",
      "  return self.fit(X, **fit_params).transform(X)\n"
     ]
    },
    {
     "name": "stdout",
     "output_type": "stream",
     "text": [
      "==============================\n",
      "KNeighborsClassifier\n",
      "****Results****\n",
      "Accuracy: 81.8321%\n",
      "Log Loss: 2.774661574532393\n",
      "==============================\n",
      "DecisionTreeClassifier\n",
      "****Results****\n",
      "Accuracy: 78.7923%\n",
      "Log Loss: 0.48282138454684226\n",
      "==============================\n",
      "RandomForestClassifier\n",
      "****Results****\n",
      "Accuracy: 68.3152%\n",
      "Log Loss: 0.6556393036124466\n",
      "==============================\n",
      "MLPClassifier\n",
      "****Results****\n",
      "Accuracy: 81.0123%\n",
      "Log Loss: 0.4714446723951566\n",
      "==============================\n",
      "LogisticRegression\n",
      "****Results****\n",
      "Accuracy: 73.9127%\n",
      "Log Loss: 0.5811067296802601\n",
      "==============================\n",
      "GaussianNB\n",
      "****Results****\n",
      "Accuracy: 73.3948%\n",
      "Log Loss: 1.1681431070880992\n",
      "==============================\n"
     ]
    }
   ],
   "source": [
    "from datetime import datetime\n",
    "instanteInicial = datetime.now()\n",
    "X_ = StandardScaler().fit_transform(X)\n",
    "X_train, X_test, y_train, y_test = train_test_split(X_, y, test_size=0.2,random_state=321)\n",
    "\n",
    "classifiers = [\n",
    "    KNeighborsClassifier(3),\n",
    "    DecisionTreeClassifier(max_depth=5),\n",
    "    RandomForestClassifier(max_depth=5, n_estimators=10, max_features=1),\n",
    "    MLPClassifier(alpha=1, max_iter=500),\n",
    "    LogisticRegression(multi_class=\"multinomial\", solver=\"lbfgs\", C=5),\n",
    "    GaussianNB()]\n",
    "\n",
    "# Logging for Visual Comparison\n",
    "log_cols=[\"Classifier\", \"Accuracy\", \"Log Loss\"]\n",
    "log = pd.DataFrame(columns=log_cols)\n",
    "\n",
    "for clf in classifiers:\n",
    "    clf.fit(X_train, y_train)\n",
    "    name = clf.__class__.__name__\n",
    "    \n",
    "    print(\"=\"*30)\n",
    "    print(name)\n",
    "    \n",
    "    print('****Results****')\n",
    "    train_predictions = clf.predict(X_test)\n",
    "    acc = accuracy_score(y_test, train_predictions)\n",
    "    print(\"Accuracy: {:.4%}\".format(acc))\n",
    "    \n",
    "    train_predictions = clf.predict_proba(X_test)\n",
    "    ll = log_loss(y_test, train_predictions)\n",
    "    print(\"Log Loss: {}\".format(ll))\n",
    "    \n",
    "    log_entry = pd.DataFrame([[name, acc*100, ll]], columns=log_cols)\n",
    "    log = log.append(log_entry)\n",
    "    \n",
    "print(\"=\"*30)\n",
    "\n",
    "instanteFinal = datetime.now()\n",
    "tiempo = instanteFinal - instanteInicial # Devuelve un objeto timedelta\n",
    "segundos = tiempo.seconds"
   ]
  },
  {
   "cell_type": "code",
   "execution_count": null,
   "metadata": {},
   "outputs": [],
   "source": [
    "## El mejor modelo de clasificacion fue el KNN"
   ]
  },
  {
   "cell_type": "code",
   "execution_count": 8,
   "metadata": {},
   "outputs": [
    {
     "name": "stdout",
     "output_type": "stream",
     "text": [
      "[             precision    recall  f1-score  support     pred       AUC\n",
      "0             0.652275  0.706769  0.678430  10282.0  11141.0  0.867743\n",
      "1             0.788431  0.783413  0.785914  30325.0  30132.0  0.823181\n",
      "2             0.542298  0.518819  0.530299  15383.0  14717.0  0.752174\n",
      "avg / total   0.695803  0.696642  0.695947  55990.0  55990.0  0.837875,              precision    recall  f1-score  support     pred       AUC\n",
      "0             0.621398  0.599883  0.610451  10282.0   9926.0  0.799574\n",
      "1             0.758153  0.782754  0.770257  30325.0  31309.0  0.788384\n",
      "2             0.546089  0.523794  0.534709  15382.0  14754.0  0.751716\n",
      "avg / total   0.674778  0.678026  0.676197  55989.0  55989.0  0.816965,              precision    recall  f1-score  support     pred       AUC\n",
      "0             0.683745  0.691791  0.687745  10282.0  10403.0  0.862456\n",
      "1             0.747352  0.779489  0.763082  30325.0  31629.0  0.809934\n",
      "2             0.494161  0.448381  0.470159  15382.0  13957.0  0.748161\n",
      "avg / total   0.666111  0.672418  0.668772  55989.0  55989.0  0.831687,              precision    recall  f1-score  support     pred       AUC\n",
      "0             0.671577  0.705018  0.687891  10282.0  10794.0  0.866856\n",
      "1             0.757581  0.777741  0.767529  30325.0  31132.0  0.812282\n",
      "2             0.507715  0.464179  0.484972  15382.0  14063.0  0.745809\n",
      "avg / total   0.673140  0.678240  0.675276  55989.0  55989.0  0.832488,              precision    recall  f1-score  support     pred       AUC\n",
      "0             0.619338  0.613013  0.616159  10282.0  10177.0  0.808113\n",
      "1             0.779076  0.787066  0.783051  30324.0  30635.0  0.810789\n",
      "2             0.533737  0.526590  0.530139  15382.0  15176.0  0.745332\n",
      "avg / total   0.682337  0.683539  0.682918  55988.0  55988.0  0.821594]\n"
     ]
    }
   ],
   "source": [
    "kf = StratifiedKFold(n_splits=5,shuffle=False)\n",
    "\n",
    "accuracy_model = []\n",
    "# Iteraciones del entrenamiento sobre los kfolds\n",
    "for train_index, test_index in kf.split(X, y) :\n",
    "    # Particion train test para validacion cruzada\n",
    "    X_train, X_test = X.iloc[train_index], X.iloc[test_index]\n",
    "    y_train, y_test = y[train_index], y[test_index]\n",
    "    # Entrenamiento de la red MLP\n",
    "    #model = MLPClassifier(alpha=1, max_iter=500).fit(X_train, y_train) \n",
    "    model = KNeighborsClassifier(3).fit(X_train, y_train) \n",
    "    accuracy_model.append(cr.class_report(y_true = y_test, \n",
    "                                       y_pred = model.predict(X_test),\n",
    "                                       y_score = model.predict_proba(X_test)))\n",
    " \n",
    "# Print the accuracy    \n",
    "print(accuracy_model)"
   ]
  }
 ],
 "metadata": {
  "kernelspec": {
   "display_name": "Python 3",
   "language": "python",
   "name": "python3"
  },
  "language_info": {
   "codemirror_mode": {
    "name": "ipython",
    "version": 3
   },
   "file_extension": ".py",
   "mimetype": "text/x-python",
   "name": "python",
   "nbconvert_exporter": "python",
   "pygments_lexer": "ipython3",
   "version": "3.7.3"
  }
 },
 "nbformat": 4,
 "nbformat_minor": 2
}
