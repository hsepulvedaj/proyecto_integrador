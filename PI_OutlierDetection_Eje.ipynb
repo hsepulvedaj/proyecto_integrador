{
 "cells": [
  {
   "cell_type": "code",
   "execution_count": 1,
   "metadata": {},
   "outputs": [],
   "source": [
    "import pandas as pd\n",
    "import sys\n",
    "sys.path.insert(0,r\"C:\\Users\\LENOVO\\Downloads\")\n",
    "import numpy as np\n",
    "import csv\n",
    "from sklearn.model_selection import train_test_split\n",
    "import class_report as cr\n",
    "from sklearn.preprocessing import LabelEncoder\n",
    "from sklearn.metrics import confusion_matrix, accuracy_score, auc, f1_score, log_loss\n",
    "from sklearn.tree import DecisionTreeClassifier \n",
    "from sklearn.model_selection import StratifiedKFold\n",
    "from sklearn.linear_model import LogisticRegression\n",
    "from sklearn.neighbors import KNeighborsClassifier\n",
    "from sklearn.naive_bayes import GaussianNB\n",
    "from sklearn.svm import SVC\n",
    "from sklearn.preprocessing import StandardScaler\n",
    "from sklearn.neural_network import MLPClassifier\n",
    "from sklearn.ensemble import RandomForestClassifier"
   ]
  },
  {
   "cell_type": "code",
   "execution_count": 2,
   "metadata": {},
   "outputs": [],
   "source": [
    "pd.set_option('display.max_row', None)\n",
    "pd.set_option('display.max_column', None)"
   ]
  },
  {
   "cell_type": "code",
   "execution_count": 3,
   "metadata": {},
   "outputs": [],
   "source": [
    "base_eje = pd.read_csv(r'C:\\Users\\LENOVO\\Desktop\\base_eje.txt', sep = \",\", engine = \"python\")"
   ]
  },
  {
   "cell_type": "code",
   "execution_count": 4,
   "metadata": {},
   "outputs": [],
   "source": [
    "base2_eje = base_eje[['SUSCNITC','SERVDESC','SESUCUSA','SESUCICL','SESULOCA',\n",
    "                                  'TIPIFICACION_CLIENTE','CALIFICACION_VECTOR_SERVICIO',\n",
    "                                  'CANAL_ENVIO','SEGMENTACION','ESTRATO_AGRUPADO','DEPARTAMENTO_AGR',\n",
    "                                  'ANTIGUEDAD_DIAS','CANAL_PAGO','SESUSAPE','SESUSAAN','PROM_SUSC']]\n",
    "base3_eje = base2_eje.dropna()"
   ]
  },
  {
   "cell_type": "code",
   "execution_count": 5,
   "metadata": {},
   "outputs": [],
   "source": [
    "tmp = base3_eje[['SUSCNITC','CALIFICACION_VECTOR_SERVICIO']]\n",
    "tmp.columns\n",
    "\n",
    "group_nit = tmp.groupby(['SUSCNITC'])['CALIFICACION_VECTOR_SERVICIO'].mean().reset_index()\n",
    "group_nit = group_nit.rename(columns={\"CALIFICACION_VECTOR_SERVICIO\":\"PROM_CALIFICACION\"})"
   ]
  },
  {
   "cell_type": "code",
   "execution_count": 6,
   "metadata": {},
   "outputs": [],
   "source": [
    "base4_eje = pd.merge(base3_eje, group_nit, how='left', on=['SUSCNITC'])"
   ]
  },
  {
   "cell_type": "code",
   "execution_count": 7,
   "metadata": {},
   "outputs": [],
   "source": [
    "base4_eje['y'] = pd.cut(x=base4_eje['PROM_CALIFICACION'],\n",
    "                            bins=[-1,50,76,100],\n",
    "                            labels=['No Pago','Pago Inoportuno','Pago'])"
   ]
  },
  {
   "cell_type": "code",
   "execution_count": 8,
   "metadata": {},
   "outputs": [],
   "source": [
    "base5_eje = base4_eje[['SERVDESC','SESUCUSA','SESUCICL','SESULOCA','TIPIFICACION_CLIENTE',\n",
    "                       'CALIFICACION_VECTOR_SERVICIO','CANAL_ENVIO','SEGMENTACION','ESTRATO_AGRUPADO',\n",
    "                       'DEPARTAMENTO_AGR','ANTIGUEDAD_DIAS','CANAL_PAGO','SESUSAPE','SESUSAAN','PROM_SUSC','y']]"
   ]
  },
  {
   "cell_type": "code",
   "execution_count": 9,
   "metadata": {},
   "outputs": [],
   "source": [
    "names = base5_eje.columns\n",
    "\n",
    "for x in names:\n",
    "    globals()['FREQ_%s' % x]= base5_eje[x].value_counts().rename_axis([x]).reset_index(name='F_{x}'.format(x=x))"
   ]
  },
  {
   "cell_type": "code",
   "execution_count": 10,
   "metadata": {},
   "outputs": [],
   "source": [
    "freq_eje = base5_eje.merge(FREQ_SERVDESC,on=\"SERVDESC\").merge(FREQ_SESUCUSA,on='SESUCUSA').merge(FREQ_SESUCICL,on='SESUCICL').merge(FREQ_SESULOCA,on='SESULOCA').merge(FREQ_TIPIFICACION_CLIENTE,on='TIPIFICACION_CLIENTE').merge(FREQ_CANAL_ENVIO,on='CANAL_ENVIO').merge(FREQ_SEGMENTACION,on='SEGMENTACION').merge(FREQ_ESTRATO_AGRUPADO,on='ESTRATO_AGRUPADO').merge(FREQ_DEPARTAMENTO_AGR,on='DEPARTAMENTO_AGR').merge(FREQ_CANAL_PAGO,on='CANAL_PAGO')"
   ]
  },
  {
   "cell_type": "code",
   "execution_count": 11,
   "metadata": {},
   "outputs": [],
   "source": [
    "freq_eje2 = freq_eje[['F_SERVDESC','F_SESUCUSA','F_SESUCICL','F_SESULOCA','F_TIPIFICACION_CLIENTE',\n",
    "                      'F_CANAL_ENVIO','F_SEGMENTACION','F_ESTRATO_AGRUPADO','F_DEPARTAMENTO_AGR',\n",
    "                      'F_CANAL_PAGO']]"
   ]
  },
  {
   "cell_type": "code",
   "execution_count": 12,
   "metadata": {},
   "outputs": [
    {
     "name": "stderr",
     "output_type": "stream",
     "text": [
      "C:\\Users\\LENOVO\\anaconda3\\lib\\site-packages\\ipykernel_launcher.py:1: SettingWithCopyWarning: \n",
      "A value is trying to be set on a copy of a slice from a DataFrame.\n",
      "Try using .loc[row_indexer,col_indexer] = value instead\n",
      "\n",
      "See the caveats in the documentation: https://pandas.pydata.org/pandas-docs/stable/user_guide/indexing.html#returning-a-view-versus-a-copy\n",
      "  \"\"\"Entry point for launching an IPython kernel.\n"
     ]
    }
   ],
   "source": [
    "freq_eje2['AVG_FREQ'] = freq_eje2.mean(axis=1)"
   ]
  },
  {
   "cell_type": "code",
   "execution_count": 13,
   "metadata": {},
   "outputs": [],
   "source": [
    "n, m = freq_eje2.shape\n",
    "n_reg_del = round((0.05 * n) /100)\n",
    "outliers = freq_eje2.nsmallest(n_reg_del, 'AVG_FREQ')\n",
    "outliers_idx = outliers.index\n",
    "outliers_idx = outliers_idx.sort_values(ascending=False)"
   ]
  },
  {
   "cell_type": "code",
   "execution_count": 14,
   "metadata": {},
   "outputs": [],
   "source": [
    "for x in outliers_idx:\n",
    "    base5_eje = base5_eje.drop([x])"
   ]
  },
  {
   "cell_type": "code",
   "execution_count": 24,
   "metadata": {},
   "outputs": [],
   "source": [
    "dataTypeSeries = base5_eje.dtypes\n",
    "dataTypeSeries\n",
    "\n",
    "cat = base5_eje.select_dtypes(include=['object','category'])\n",
    "cuanti = base5_eje.select_dtypes(include=['int64','float64'])\n",
    "  \n",
    "cat = cat.apply(lambda col: LabelEncoder().fit_transform(col))\n",
    "base5_eje = cuanti.join(cat)"
   ]
  },
  {
   "cell_type": "code",
   "execution_count": 25,
   "metadata": {},
   "outputs": [],
   "source": [
    "X = base5_eje[['SERVDESC','SESUCUSA','SESUCICL','SESULOCA','TIPIFICACION_CLIENTE','CANAL_ENVIO',\n",
    "               'SEGMENTACION','ESTRATO_AGRUPADO','DEPARTAMENTO_AGR','ANTIGUEDAD_DIAS','CANAL_PAGO',\n",
    "               'SESUSAPE','SESUSAAN','PROM_SUSC']]\n",
    "\n",
    "y = base5_eje['y']"
   ]
  },
  {
   "cell_type": "code",
   "execution_count": 26,
   "metadata": {},
   "outputs": [],
   "source": [
    "from datetime import datetime\n",
    "instanteInicial = datetime.now()\n",
    "X_ = StandardScaler().fit_transform(X)\n",
    "#X_ = X\n",
    "X_train, X_test, y_train, y_test = train_test_split(X_, y, test_size=0.2,random_state=321)"
   ]
  },
  {
   "cell_type": "code",
   "execution_count": 28,
   "metadata": {},
   "outputs": [
    {
     "name": "stdout",
     "output_type": "stream",
     "text": [
      "[             precision    recall  f1-score   support      pred       AUC\n",
      "0             0.918804  0.976557  0.946801   96234.0  102283.0  0.823639\n",
      "1             0.645606  0.643586  0.644594    7351.0    7328.0  0.894136\n",
      "2             0.409866  0.128658  0.195841    8783.0    2757.0  0.653856\n",
      "avg / total   0.861151  0.888500  0.868333  112368.0  112368.0  0.948530,              precision    recall  f1-score   support      pred       AUC\n",
      "0             0.914280  0.971673  0.942103   96234.0  102275.0  0.808849\n",
      "1             0.629157  0.597062  0.612689    7351.0    6976.0  0.886682\n",
      "2             0.381777  0.135489  0.200000    8783.0    3117.0  0.646828\n",
      "avg / total   0.854006  0.881808  0.862549  112368.0  112368.0  0.944982,              precision    recall  f1-score   support      pred       AUC\n",
      "0             0.927888  0.974999  0.950860   96235.0  101121.0  0.847470\n",
      "1             0.526584  0.604952  0.563054    7351.0    8445.0  0.877736\n",
      "2             0.356888  0.113869  0.172652    8782.0    2802.0  0.719749\n",
      "avg / total   0.857010  0.883490  0.864670  112368.0  112368.0  0.953294,              precision    recall  f1-score   support      pred       AUC\n",
      "0             0.928326  0.973336  0.950298   96235.0  100901.0  0.850905\n",
      "1             0.497413  0.588571  0.539166    7350.0    8697.0  0.875545\n",
      "2             0.302888  0.095525  0.145244    8783.0    2770.0  0.743865\n",
      "avg / total   0.851254  0.879556  0.860481  112368.0  112368.0  0.954392,              precision    recall  f1-score   support      pred       AUC\n",
      "0             0.924493  0.973035  0.948143   96235.0  101288.0  0.846749\n",
      "1             0.571176  0.616327  0.592893    7350.0    7931.0  0.882332\n",
      "2             0.394093  0.141296  0.208012    8783.0    3149.0  0.708168\n",
      "avg / total   0.859925  0.884691  0.867055  112368.0  112368.0  0.952167]\n"
     ]
    }
   ],
   "source": [
    "kf = StratifiedKFold(n_splits=5,shuffle=False)\n",
    "\n",
    "accuracy_model = []\n",
    "# Iteraciones del entrenamiento sobre los kfolds\n",
    "#X_fin = X[['SESUSERV','SESUCUSA', 'SESUSAPE','SESUCICL', 'TIPIFICACION_CLIENTE', 'PROM_SUSC',\n",
    "#'CANAL_ENVIO','SEGMENTACION', 'ESTRATO_AGRUPADO','ANTIGUEDAD_DIAS', 'CANAL_PAGO']]\n",
    "X_fin = X\n",
    "X_ = StandardScaler().fit_transform(X_fin)\n",
    "\n",
    "for train_index, test_index in kf.split(X_, y) :\n",
    "    # Particion train test para validacion cruzada\n",
    "    X_train, X_test = X.iloc[train_index], X.iloc[test_index]\n",
    "    y_train, y_test = y.iloc[train_index], y.iloc[test_index]\n",
    "    # Entrenamiento de la red MLP\n",
    "    model = KNeighborsClassifier(7).fit(X_train, y_train) \n",
    "    accuracy_model.append(cr.class_report(y_true = y_test, \n",
    "                                       y_pred = model.predict(X_test),\n",
    "                                       y_score = model.predict_proba(X_test)))\n",
    " \n",
    "# Print the accuracy    \n",
    "print(accuracy_model)"
   ]
  },
  {
   "cell_type": "code",
   "execution_count": 29,
   "metadata": {},
   "outputs": [
    {
     "data": {
      "text/plain": [
       "array([[93640,  1259,  1336],\n",
       "       [ 2248,  4530,   572],\n",
       "       [ 5400,  2142,  1241]], dtype=int64)"
      ]
     },
     "execution_count": 29,
     "metadata": {},
     "output_type": "execute_result"
    }
   ],
   "source": [
    "from sklearn.metrics import confusion_matrix\n",
    "confusion_matrix(y_test, model.predict(X_test))"
   ]
  },
  {
   "cell_type": "code",
   "execution_count": null,
   "metadata": {},
   "outputs": [],
   "source": []
  }
 ],
 "metadata": {
  "kernelspec": {
   "display_name": "Python 3",
   "language": "python",
   "name": "python3"
  },
  "language_info": {
   "codemirror_mode": {
    "name": "ipython",
    "version": 3
   },
   "file_extension": ".py",
   "mimetype": "text/x-python",
   "name": "python",
   "nbconvert_exporter": "python",
   "pygments_lexer": "ipython3",
   "version": "3.7.6"
  }
 },
 "nbformat": 4,
 "nbformat_minor": 4
}
