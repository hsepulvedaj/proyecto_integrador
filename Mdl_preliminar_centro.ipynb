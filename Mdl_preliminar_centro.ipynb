{
 "cells": [
  {
   "cell_type": "code",
   "execution_count": 16,
   "metadata": {},
   "outputs": [],
   "source": [
    "import sys\n",
    "sys.path.insert(0,r\"C:\\Users\\pc\\Documents\")\n",
    "import numpy as np\n",
    "import pandas as pd\n",
    "import csv\n",
    "from sklearn.model_selection import train_test_split\n",
    "import class_report as cr\n",
    "from sklearn.preprocessing import LabelEncoder\n",
    "from sklearn.metrics import confusion_matrix, accuracy_score, auc, f1_score, log_loss\n",
    "from sklearn.tree import DecisionTreeClassifier \n",
    "from sklearn.model_selection import StratifiedKFold\n",
    "from sklearn.linear_model import LogisticRegression\n",
    "from sklearn.neighbors import KNeighborsClassifier\n",
    "from sklearn.naive_bayes import GaussianNB\n",
    "from sklearn.svm import SVC\n",
    "from sklearn.preprocessing import StandardScaler\n",
    "from sklearn.neural_network import MLPClassifier\n",
    "from sklearn.ensemble import RandomForestClassifier"
   ]
  },
  {
   "cell_type": "code",
   "execution_count": 4,
   "metadata": {},
   "outputs": [],
   "source": [
    "## Lectura de datos     \n",
    "base_centro = pd.read_csv(r'C:\\Users\\pc\\Downloads\\BASE_CENTRO.txt', sep=r'¡', engine='python')\n",
    "base_centro.head()\n",
    "\n",
    "## Eliminación de variables: \n",
    "base_centro2 = base_centro[['CUCONUSE', 'SESUSERV', 'SERVDESC', 'SESUSUSC', 'SESUFEIN','DEPADESC', 'SESUCUSA', 'SESUSAPE','SESUCICL', 'SUSCNITC', \n",
    "        #'VECTOR','SESUCATE', 'SESUSUCA','SESULOCA','SESUSAAN','V1', 'V2', 'V3', 'V4', 'V5', 'V6',#'V7', 'V8', 'V9', 'V10', 'V11', 'V12', \n",
    "        'TIPIFICACION_CLIENTE', 'SUMA','CANTIDAD','CALIFICACION_VECTOR_SERVICIO',\n",
    "       #'VECTOR_CUALITATIVO_CONTRATO',#'BANCO_1', 'DIA_PAGO_1', 'DIA_PAGO_2','DIA_PAGO_3', 'FECHA_SUSPENSION','RANGO_EDAD', 'GENERO','PROM_SUSC', 'CANAL_ENVIO'\n",
    "       'SEGMENTACION', 'REGIONAL','ESTRATO_AGRUPADO','DEPARTAMENTO_AGR','ANTIGUEDAD_DIAS', 'CANAL_PAGO']]\n",
    "\n",
    "base_centro3 = base_centro2.dropna()"
   ]
  },
  {
   "cell_type": "code",
   "execution_count": 5,
   "metadata": {},
   "outputs": [],
   "source": [
    "## Group by por nit para calificacion\n",
    "b4 = base_centro3[['SUSCNITC','CALIFICACION_VECTOR_SERVICIO']]\n",
    "group_nit = b4.groupby(['SUSCNITC'])['CALIFICACION_VECTOR_SERVICIO'].mean().reset_index()\n",
    "\n",
    "\n",
    "## Join de la nueva calificacion\n",
    "base_centro4 = pd.merge(base_centro3, group_nit, how='left', on=['SUSCNITC'])\n",
    "\n",
    "## Prueba promedio\n",
    "b5 = base_centro4[['SUSCNITC','CALIFICACION_VECTOR_SERVICIO_x','CALIFICACION_VECTOR_SERVICIO_y']]\n",
    "\n",
    "### Creacion de la etiqueta de clasificacion\n",
    "base_centro4['y'] = pd.cut(x=base_centro4['CALIFICACION_VECTOR_SERVICIO_y'],\n",
    "                            bins=[-1,50,76,100],\n",
    "                            labels=['No pago','Pago inoportuno','Pago'])"
   ]
  },
  {
   "cell_type": "code",
   "execution_count": 9,
   "metadata": {},
   "outputs": [
    {
     "name": "stdout",
     "output_type": "stream",
     "text": [
      "CUCONUSE                            int64\n",
      "SESUSERV                            int64\n",
      "SESUSUSC                            int64\n",
      "SESUCUSA                            int64\n",
      "SESUCICL                            int64\n",
      "SUMA                                int64\n",
      "CANTIDAD                            int64\n",
      "CALIFICACION_VECTOR_SERVICIO_x      int64\n",
      "ESTRATO_AGRUPADO                  float64\n",
      "ANTIGUEDAD_DIAS                     int64\n",
      "CALIFICACION_VECTOR_SERVICIO_y    float64\n",
      "SERVDESC                            int32\n",
      "SESUFEIN                            int32\n",
      "DEPADESC                            int32\n",
      "SESUSAPE                            int32\n",
      "SUSCNITC                            int32\n",
      "TIPIFICACION_CLIENTE                int32\n",
      "SEGMENTACION                        int32\n",
      "REGIONAL                            int32\n",
      "DEPARTAMENTO_AGR                    int32\n",
      "CANAL_PAGO                          int32\n",
      "y                                   int32\n",
      "dtype: object\n"
     ]
    }
   ],
   "source": [
    "dataTypeSeries = base_centro4.dtypes\n",
    "dataTypeSeries\n",
    "\n",
    "cat = base_centro4.select_dtypes(include=['object','category'])\n",
    "cuanti = base_centro4.select_dtypes(include=['int64','float64'])\n",
    "  \n",
    "\n",
    "le = LabelEncoder()\n",
    "cat = cat.apply(lambda col: le.fit_transform(col))\n",
    "cat.head(10)\n",
    "\n",
    "base_centro5=cuanti.join(cat)\n",
    "print(base_centro5.dtypes)\n",
    "\n",
    "base_centro5.to_csv(r'C:\\Users\\pc\\Desktop\\base_centro_process.csv')"
   ]
  },
  {
   "cell_type": "code",
   "execution_count": 14,
   "metadata": {
    "scrolled": true
   },
   "outputs": [],
   "source": [
    "\n",
    "base_centro5 = pd.read_csv(r'C:\\Users\\pc\\Desktop\\base_centro_process.csv', sep=',', engine='python')\n",
    "\n",
    "\n",
    "X = base_centro5[[\n",
    "        #'CUCONUSE', \n",
    "        'SESUSERV', 'SERVDESC', 'SESUSUSC','DEPADESC', 'SESUCUSA', 'SESUSAPE','SESUCICL', 'TIPIFICACION_CLIENTE', \n",
    "        #'SESUFEIN','SUSCNITC', 'VECTOR','SESUCATE', 'SESUSUCA','SESULOCA','SESUSAAN','RANGO_EDAD', 'GENERO', \n",
    "        #'V1', 'V2', 'V3', 'V4', 'V5', 'V6','V7', 'V8', 'V9', 'V10', 'V11', 'V12','REGIONAL','PROM_SUSC', 'CANAL_ENVIO'     \n",
    "        # 'SUMA','CANTIDAD','CALIFICACION_VECTOR_SERVICIO_x', 'CALIFICACION_VECTOR_SERVICIO_y',\n",
    "        #'VECTOR_CUALITATIVO_CONTRATO','BANCO_1', 'DIA_PAGO_1', 'DIA_PAGO_2','DIA_PAGO_3', 'FECHA_SUSPENSION', \n",
    "       'SEGMENTACION','ESTRATO_AGRUPADO','DEPARTAMENTO_AGR','ANTIGUEDAD_DIAS','CANAL_PAGO']]\n",
    "\n",
    "y = base_centro5['y']"
   ]
  },
  {
   "cell_type": "code",
   "execution_count": 11,
   "metadata": {
    "scrolled": true
   },
   "outputs": [
    {
     "name": "stderr",
     "output_type": "stream",
     "text": [
      "C:\\Users\\pc\\Anaconda3\\lib\\site-packages\\sklearn\\preprocessing\\data.py:645: DataConversionWarning: Data with input dtype int32, int64, float64 were all converted to float64 by StandardScaler.\n",
      "  return self.partial_fit(X, y)\n",
      "C:\\Users\\pc\\Anaconda3\\lib\\site-packages\\sklearn\\base.py:464: DataConversionWarning: Data with input dtype int32, int64, float64 were all converted to float64 by StandardScaler.\n",
      "  return self.fit(X, **fit_params).transform(X)\n"
     ]
    },
    {
     "name": "stdout",
     "output_type": "stream",
     "text": [
      "==============================\n",
      "KNeighborsClassifier\n",
      "****Results****\n",
      "Accuracy: 84.3018%\n",
      "Log Loss: 2.5460058939201855\n",
      "==============================\n",
      "DecisionTreeClassifier\n",
      "****Results****\n",
      "Accuracy: 82.2240%\n",
      "Log Loss: 0.475675844724175\n",
      "==============================\n",
      "RandomForestClassifier\n",
      "****Results****\n",
      "Accuracy: 76.3165%\n",
      "Log Loss: 0.6422613498820962\n",
      "==============================\n",
      "MLPClassifier\n",
      "****Results****\n",
      "Accuracy: 81.2135%\n",
      "Log Loss: 0.47214472976815014\n",
      "==============================\n",
      "LogisticRegression\n",
      "****Results****\n",
      "Accuracy: 77.8129%\n",
      "Log Loss: 0.5535983807937472\n",
      "==============================\n",
      "GaussianNB\n",
      "****Results****\n",
      "Accuracy: 71.2608%\n",
      "Log Loss: 1.2786515096969784\n",
      "==============================\n"
     ]
    }
   ],
   "source": [
    "from datetime import datetime\n",
    "instanteInicial = datetime.now()\n",
    "X_ = StandardScaler().fit_transform(X)\n",
    "X_train, X_test, y_train, y_test = train_test_split(X_, y, test_size=0.2,random_state=321)\n",
    "\n",
    "classifiers = [\n",
    "    KNeighborsClassifier(3, n_jobs = -1),\n",
    "    DecisionTreeClassifier(max_depth=5),\n",
    "    RandomForestClassifier(max_depth=5, n_estimators=10, max_features=1, n_jobs = -1),\n",
    "    MLPClassifier(alpha=1, max_iter=500),\n",
    "    LogisticRegression(multi_class=\"multinomial\", solver=\"lbfgs\", C=5, n_jobs = -1),\n",
    "    GaussianNB()]\n",
    "\n",
    "# Logging for Visual Comparison\n",
    "log_cols=[\"Classifier\", \"Accuracy\", \"Log Loss\"]\n",
    "log = pd.DataFrame(columns=log_cols)\n",
    "\n",
    "for clf in classifiers:\n",
    "    clf.fit(X_train, y_train)\n",
    "    name = clf.__class__.__name__\n",
    "    \n",
    "    print(\"=\"*30)\n",
    "    print(name)\n",
    "    \n",
    "    print('****Results****')\n",
    "    train_predictions = clf.predict(X_test)\n",
    "    acc = accuracy_score(y_test, train_predictions)\n",
    "    print(\"Accuracy: {:.4%}\".format(acc))\n",
    "    \n",
    "    train_predictions = clf.predict_proba(X_test)\n",
    "    ll = log_loss(y_test, train_predictions)\n",
    "    print(\"Log Loss: {}\".format(ll))\n",
    "    \n",
    "    log_entry = pd.DataFrame([[name, acc*100, ll]], columns=log_cols)\n",
    "    log = log.append(log_entry)\n",
    "    \n",
    "print(\"=\"*30)\n",
    "\n",
    "instanteFinal = datetime.now()\n",
    "tiempo = instanteFinal - instanteInicial # Devuelve un objeto timedelta\n",
    "segundos = tiempo.seconds"
   ]
  },
  {
   "cell_type": "code",
   "execution_count": 19,
   "metadata": {},
   "outputs": [],
   "source": [
    "## Probamos la Red Neuronal Multicapa tambien pero aunque el accuracy y logloss eran buenas tambien, la realidad al \n",
    "## hacer una validacion cruzada nos dejaba a la vista el sobreajuste y poco AUC de los clasificadores en varias repeticiones"
   ]
  },
  {
   "cell_type": "code",
   "execution_count": 12,
   "metadata": {
    "scrolled": true
   },
   "outputs": [
    {
     "name": "stdout",
     "output_type": "stream",
     "text": [
      "[             precision    recall  f1-score  support     pred       AUC\n",
      "0             0.667804  0.719835  0.692844  17404.0  18760.0  0.868159\n",
      "1             0.768926  0.772873  0.770895  47731.0  47976.0  0.817844\n",
      "2             0.607657  0.573021  0.589831  28088.0  26487.0  0.769046\n",
      "avg / total   0.701457  0.702756  0.701769  93223.0  93223.0  0.839089,              precision    recall  f1-score  support     pred       AUC\n",
      "0             0.656851  0.680591  0.668510  17404.0  18033.0  0.846505\n",
      "1             0.744408  0.789231  0.766164  47730.0  50604.0  0.805372\n",
      "2             0.567582  0.496796  0.529835  28088.0  24585.0  0.736592\n",
      "avg / total   0.674783  0.680837  0.676726  93222.0  93222.0  0.823281,              precision    recall  f1-score  support     pred       AUC\n",
      "0             0.681199  0.715566  0.697960  17403.0  18281.0  0.867345\n",
      "1             0.748444  0.778253  0.763057  47730.0  49631.0  0.797597\n",
      "2             0.573060  0.516360  0.543234  28087.0  25308.0  0.731166\n",
      "avg / total   0.683047  0.687642  0.684672  93220.0  93220.0  0.823491,              precision    recall  f1-score  support     pred       AUC\n",
      "0             0.711017  0.696432  0.703649  17403.0  17046.0  0.866052\n",
      "1             0.701904  0.770124  0.734433  47730.0  52369.0  0.742775\n",
      "2             0.524050  0.444156  0.480806  28087.0  23805.0  0.655040\n",
      "avg / total   0.650018  0.658153  0.652269  93220.0  93220.0  0.788445,              precision    recall  f1-score  support     pred       AUC\n",
      "0             0.629029  0.657186  0.642799  17403.0  18182.0  0.820464\n",
      "1             0.723934  0.781752  0.751733  47730.0  51542.0  0.791866\n",
      "2             0.572863  0.479225  0.521877  28087.0  23496.0  0.733304\n",
      "avg / total   0.660699  0.667346  0.662141  93220.0  93220.0  0.812167]\n"
     ]
    }
   ],
   "source": [
    "kf = StratifiedKFold(n_splits=5,shuffle=False)\n",
    "\n",
    "accuracy_model = []\n",
    "# Iteraciones del entrenamiento sobre los kfolds\n",
    "for train_index, test_index in kf.split(X, y) :\n",
    "    # Particion train test para validacion cruzada\n",
    "    X_train, X_test = X.iloc[train_index], X.iloc[test_index]\n",
    "    y_train, y_test = y[train_index], y[test_index]\n",
    "    # Entrenamiento de la red MLP\n",
    "    #model = MLPClassifier(alpha=1, max_iter=500).fit(X_train, y_train) \n",
    "    model = KNeighborsClassifier(3).fit(X_train, y_train) \n",
    "    accuracy_model.append(cr.class_report(y_true = y_test, \n",
    "                                       y_pred = model.predict(X_test),\n",
    "                                       y_score = model.predict_proba(X_test)))\n",
    " \n",
    "# Print the accuracy    \n",
    "print(accuracy_model)"
   ]
  },
  {
   "cell_type": "code",
   "execution_count": 17,
   "metadata": {},
   "outputs": [
    {
     "name": "stdout",
     "output_type": "stream",
     "text": [
      "[             precision    recall  f1-score  support     pred       AUC\n",
      "0             0.382857  0.003850  0.007623  17404.0    175.0  0.502699\n",
      "1             0.515178  0.996962  0.679320  47731.0  92368.0  0.506310\n",
      "2             0.682353  0.016520  0.032258  28088.0    680.0  0.506530\n",
      "avg / total   0.540845  0.516149  0.358960  93223.0  93223.0  0.637247,              precision    recall  f1-score  support     pred       AUC\n",
      "0             0.191438  0.995920  0.321145  17404.0  90541.0  0.515179\n",
      "1             0.453552  0.001739  0.003465  47730.0    183.0  0.499689\n",
      "2             0.834668  0.074231  0.136337  28088.0   2498.0  0.534023\n",
      "avg / total   0.519448  0.209189  0.102808  93222.0  93222.0  0.406772,              precision    recall  f1-score  support     pred       AUC\n",
      "0             0.481707  0.004539  0.008994  17403.0    164.0  0.502745\n",
      "1             0.551430  0.967735  0.702542  47730.0  83764.0  0.571296\n",
      "2             0.787774  0.260619  0.391664  28087.0   9292.0  0.618162\n",
      "avg / total   0.609624  0.574866  0.479398  93220.0  93220.0  0.682963,              precision    recall  f1-score  support     pred       AUC\n",
      "0             0.379189  0.575418  0.457135  17403.0  26409.0  0.714029\n",
      "1             0.803584  0.552357  0.654697  47730.0  32808.0  0.702248\n",
      "2             0.556686  0.673942  0.609728  28087.0  34003.0  0.732577\n",
      "avg / total   0.649965  0.593295  0.604266  93220.0  93220.0  0.703085,              precision    recall  f1-score  support     pred       AUC\n",
      "0             0.229321  0.797621  0.356224  17403.0  60531.0  0.588412\n",
      "1             0.755230  0.465954  0.576330  47730.0  29448.0  0.704736\n",
      "2             0.679420  0.078399  0.140577  28087.0   3241.0  0.531270\n",
      "avg / total   0.634208  0.411103  0.403948  93220.0  93220.0  0.573194]\n"
     ]
    }
   ],
   "source": [
    "kf = StratifiedKFold(n_splits=5,shuffle=False)\n",
    "\n",
    "accuracy_model = []\n",
    "# Iteraciones del entrenamiento sobre los kfolds\n",
    "for train_index, test_index in kf.split(X, y) :\n",
    "    # Particion train test para validacion cruzada\n",
    "    X_train, X_test = X.iloc[train_index], X.iloc[test_index]\n",
    "    y_train, y_test = y[train_index], y[test_index]\n",
    "    # Entrenamiento de la red MLP\n",
    "    model = MLPClassifier(alpha=1, max_iter=500).fit(X_train, y_train) \n",
    "    #model = KNeighborsClassifier(3).fit(X_train, y_train) \n",
    "    accuracy_model.append(cr.class_report(y_true = y_test, \n",
    "                                       y_pred = model.predict(X_test),\n",
    "                                       y_score = model.predict_proba(X_test)))\n",
    " \n",
    "# Print the accuracy    \n",
    "print(accuracy_model)"
   ]
  }
 ],
 "metadata": {
  "kernelspec": {
   "display_name": "Python 3",
   "language": "python",
   "name": "python3"
  },
  "language_info": {
   "codemirror_mode": {
    "name": "ipython",
    "version": 3
   },
   "file_extension": ".py",
   "mimetype": "text/x-python",
   "name": "python",
   "nbconvert_exporter": "python",
   "pygments_lexer": "ipython3",
   "version": "3.7.3"
  }
 },
 "nbformat": 4,
 "nbformat_minor": 2
}
