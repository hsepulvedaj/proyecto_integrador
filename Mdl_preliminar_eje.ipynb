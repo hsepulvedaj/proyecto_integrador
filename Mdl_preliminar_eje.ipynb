{
 "cells": [
  {
   "cell_type": "code",
   "execution_count": 1,
   "metadata": {},
   "outputs": [],
   "source": [
    "import sys\n",
    "sys.path.insert(0,r\"C:\\Users\\LENOVO\\Downloads\")\n",
    "import numpy as np\n",
    "import pandas as pd\n",
    "import csv\n",
    "from sklearn.model_selection import train_test_split\n",
    "import class_report as cr\n",
    "from sklearn.preprocessing import LabelEncoder\n",
    "from sklearn.metrics import confusion_matrix, accuracy_score, auc, f1_score, log_loss\n",
    "from sklearn.tree import DecisionTreeClassifier \n",
    "from sklearn.model_selection import StratifiedKFold\n",
    "from sklearn.linear_model import LogisticRegression\n",
    "from sklearn.neighbors import KNeighborsClassifier\n",
    "from sklearn.naive_bayes import GaussianNB\n",
    "from sklearn.svm import SVC\n",
    "from sklearn.preprocessing import StandardScaler\n",
    "from sklearn.neural_network import MLPClassifier\n",
    "from sklearn.ensemble import RandomForestClassifier"
   ]
  },
  {
   "cell_type": "code",
   "execution_count": 4,
   "metadata": {},
   "outputs": [],
   "source": [
    "## Lectura de datos     \n",
    "base_eje = pd.read_csv(r'C:\\Users\\pc\\Downloads\\BASE_EJE.txt', sep=r'¡', engine='python')\n",
    "base_eje.head()\n",
    "\n",
    "## Eliminación de variables: \n",
    "base_eje2 = base_eje[['CUCONUSE', 'SESUSERV', 'SERVDESC', 'SESUSUSC', 'SESUFEIN','DEPADESC', 'SESUCUSA', 'SESUSAPE','SESUCICL', 'SUSCNITC', \n",
    "        #'VECTOR','SESUCATE', 'SESUSUCA','SESULOCA','SESUSAAN','V1', 'V2', 'V3', 'V4', 'V5', 'V6',#'V7', 'V8', 'V9', 'V10', 'V11', 'V12', \n",
    "        'TIPIFICACION_CLIENTE', 'SUMA','CANTIDAD','CALIFICACION_VECTOR_SERVICIO',\n",
    "       #'VECTOR_CUALITATIVO_CONTRATO',#'BANCO_1', 'DIA_PAGO_1', 'DIA_PAGO_2','DIA_PAGO_3', 'FECHA_SUSPENSION','RANGO_EDAD', 'GENERO','PROM_SUSC', 'CANAL_ENVIO'\n",
    "       'SEGMENTACION', 'REGIONAL','ESTRATO_AGRUPADO','DEPARTAMENTO_AGR','ANTIGUEDAD_DIAS', 'CANAL_PAGO']]\n",
    "\n",
    "base_eje3 = base_eje2.dropna()"
   ]
  },
  {
   "cell_type": "code",
   "execution_count": 5,
   "metadata": {},
   "outputs": [],
   "source": [
    "## Group by por nit para calificacion\n",
    "b4 = base_eje3[['SUSCNITC','CALIFICACION_VECTOR_SERVICIO']]\n",
    "group_nit = b4.groupby(['SUSCNITC'])['CALIFICACION_VECTOR_SERVICIO'].mean().reset_index()\n",
    "\n",
    "\n",
    "## Join de la nueva calificacion\n",
    "base_eje4 = pd.merge(base_eje3, group_nit, how='left', on=['SUSCNITC'])\n",
    "\n",
    "## Prueba promedio\n",
    "b5 = base_eje4[['SUSCNITC','CALIFICACION_VECTOR_SERVICIO_x','CALIFICACION_VECTOR_SERVICIO_y']]\n",
    "\n",
    "### Creacion de la etiqueta de clasificacion\n",
    "base_eje4['y'] = pd.cut(x=base_eje4['CALIFICACION_VECTOR_SERVICIO_y'],\n",
    "                            bins=[-1,50,76,100],\n",
    "                            labels=['No pago','Pago inoportuno','Pago'])"
   ]
  },
  {
   "cell_type": "code",
   "execution_count": 6,
   "metadata": {},
   "outputs": [
    {
     "name": "stdout",
     "output_type": "stream",
     "text": [
      "CUCONUSE                            int64\n",
      "SESUSERV                            int64\n",
      "SESUSUSC                            int64\n",
      "SESUCUSA                            int64\n",
      "SESUCICL                            int64\n",
      "SUMA                                int64\n",
      "CANTIDAD                            int64\n",
      "CALIFICACION_VECTOR_SERVICIO_x      int64\n",
      "ESTRATO_AGRUPADO                  float64\n",
      "ANTIGUEDAD_DIAS                     int64\n",
      "CALIFICACION_VECTOR_SERVICIO_y    float64\n",
      "SERVDESC                            int32\n",
      "SESUFEIN                            int32\n",
      "DEPADESC                            int32\n",
      "SESUSAPE                            int32\n",
      "SUSCNITC                            int32\n",
      "TIPIFICACION_CLIENTE                int32\n",
      "SEGMENTACION                        int32\n",
      "REGIONAL                            int32\n",
      "DEPARTAMENTO_AGR                    int32\n",
      "CANAL_PAGO                          int32\n",
      "y                                   int32\n",
      "dtype: object\n"
     ]
    }
   ],
   "source": [
    "dataTypeSeries = base_eje4.dtypes\n",
    "dataTypeSeries\n",
    "\n",
    "cat = base_eje4.select_dtypes(include=['object','category'])\n",
    "cuanti = base_eje4.select_dtypes(include=['int64','float64'])\n",
    "  \n",
    "\n",
    "le = LabelEncoder()\n",
    "cat = cat.apply(lambda col: le.fit_transform(col))\n",
    "cat.head(10)\n",
    "\n",
    "base_eje5=cuanti.join(cat)\n",
    "print(base_eje5.dtypes)\n",
    "\n",
    "base_eje5.to_csv(r'C:\\Users\\pc\\Desktop\\base_eje_process.csv')"
   ]
  },
  {
   "cell_type": "code",
   "execution_count": 2,
   "metadata": {
    "scrolled": true
   },
   "outputs": [],
   "source": [
    "\n",
    "base_eje5 = pd.read_csv(r'C:\\Users\\LENOVO\\Downloads\\base_eje_process.csv', sep=',', engine='python')\n",
    "\n",
    "\n",
    "X = base_eje5[[\n",
    "        #'CUCONUSE', \n",
    "        'SESUSERV', 'SERVDESC', 'SESUSUSC','DEPADESC', 'SESUCUSA', 'SESUSAPE','SESUCICL', 'TIPIFICACION_CLIENTE', \n",
    "        #'SESUFEIN','SUSCNITC', 'VECTOR','SESUCATE', 'SESUSUCA','SESULOCA','SESUSAAN','RANGO_EDAD', 'GENERO', \n",
    "        #'V1', 'V2', 'V3', 'V4', 'V5', 'V6','V7', 'V8', 'V9', 'V10', 'V11', 'V12','REGIONAL','PROM_SUSC', 'CANAL_ENVIO'     \n",
    "        # 'SUMA','CANTIDAD','CALIFICACION_VECTOR_SERVICIO_x', 'CALIFICACION_VECTOR_SERVICIO_y',\n",
    "        #'VECTOR_CUALITATIVO_CONTRATO','BANCO_1', 'DIA_PAGO_1', 'DIA_PAGO_2','DIA_PAGO_3', 'FECHA_SUSPENSION', \n",
    "       'SEGMENTACION','ESTRATO_AGRUPADO','DEPARTAMENTO_AGR','ANTIGUEDAD_DIAS','CANAL_PAGO']]\n",
    "\n",
    "y = base_eje5['y']"
   ]
  },
  {
   "cell_type": "code",
   "execution_count": 3,
   "metadata": {
    "scrolled": true
   },
   "outputs": [
    {
     "name": "stdout",
     "output_type": "stream",
     "text": [
      "==============================\n",
      "KNeighborsClassifier\n",
      "****Results****\n",
      "Accuracy: 94.6314%\n",
      "Log Loss: 1.0568931248105895\n",
      "==============================\n",
      "DecisionTreeClassifier\n",
      "****Results****\n",
      "Accuracy: 91.4377%\n",
      "Log Loss: 0.28272500713357135\n",
      "==============================\n",
      "RandomForestClassifier\n",
      "****Results****\n",
      "Accuracy: 87.8405%\n",
      "Log Loss: 0.3676604697140999\n",
      "==============================\n",
      "MLPClassifier\n",
      "****Results****\n",
      "Accuracy: 89.3398%\n",
      "Log Loss: 0.31413823720262685\n",
      "==============================\n",
      "LogisticRegression\n",
      "****Results****\n",
      "Accuracy: 87.6652%\n",
      "Log Loss: 0.3583027605998406\n",
      "==============================\n",
      "GaussianNB\n",
      "****Results****\n",
      "Accuracy: 86.7688%\n",
      "Log Loss: 1.005091098191686\n",
      "==============================\n"
     ]
    }
   ],
   "source": [
    "from datetime import datetime\n",
    "instanteInicial = datetime.now()\n",
    "X_ = StandardScaler().fit_transform(X)\n",
    "X_train, X_test, y_train, y_test = train_test_split(X_, y, test_size=0.2,random_state=321)\n",
    "\n",
    "classifiers = [\n",
    "    KNeighborsClassifier(3, n_jobs = -1),\n",
    "    DecisionTreeClassifier(max_depth=5),\n",
    "    RandomForestClassifier(max_depth=5, n_estimators=10, max_features=1, n_jobs = -1),\n",
    "    MLPClassifier(alpha=1, max_iter=500),\n",
    "    LogisticRegression(multi_class=\"multinomial\", solver=\"lbfgs\", C=5, n_jobs = -1),\n",
    "    GaussianNB()]\n",
    "\n",
    "# Logging for Visual Comparison\n",
    "log_cols=[\"Classifier\", \"Accuracy\", \"Log Loss\"]\n",
    "log = pd.DataFrame(columns=log_cols)\n",
    "\n",
    "for clf in classifiers:\n",
    "    clf.fit(X_train, y_train)\n",
    "    name = clf.__class__.__name__\n",
    "    \n",
    "    print(\"=\"*30)\n",
    "    print(name)\n",
    "    \n",
    "    print('****Results****')\n",
    "    train_predictions = clf.predict(X_test)\n",
    "    acc = accuracy_score(y_test, train_predictions)\n",
    "    print(\"Accuracy: {:.4%}\".format(acc))\n",
    "    \n",
    "    train_predictions = clf.predict_proba(X_test)\n",
    "    ll = log_loss(y_test, train_predictions)\n",
    "    print(\"Log Loss: {}\".format(ll))\n",
    "    \n",
    "    log_entry = pd.DataFrame([[name, acc*100, ll]], columns=log_cols)\n",
    "    log = log.append(log_entry)\n",
    "    \n",
    "print(\"=\"*30)\n",
    "\n",
    "instanteFinal = datetime.now()\n",
    "tiempo = instanteFinal - instanteInicial # Devuelve un objeto timedelta\n",
    "segundos = tiempo.seconds"
   ]
  },
  {
   "cell_type": "code",
   "execution_count": null,
   "metadata": {},
   "outputs": [],
   "source": [
    "## El mejor modelo de clasificacion fue el KNN"
   ]
  },
  {
   "cell_type": "code",
   "execution_count": 5,
   "metadata": {},
   "outputs": [
    {
     "name": "stdout",
     "output_type": "stream",
     "text": [
      "[             precision    recall  f1-score   support      pred       AUC\n",
      "0             0.902183  0.959767  0.930084  104218.0  110870.0  0.714970\n",
      "1             0.583748  0.449564  0.507944    7574.0    5833.0  0.780718\n",
      "2             0.253374  0.117145  0.160216    9134.0    4223.0  0.585633\n",
      "avg / total   0.833231  0.864165  0.845493  120926.0  120926.0  0.920665,              precision    recall  f1-score   support      pred       AUC\n",
      "0             0.907087  0.955967  0.930886  104218.0  109834.0  0.735781\n",
      "1             0.546868  0.487589  0.515530    7574.0    6753.0  0.796728\n",
      "2             0.230007  0.109262  0.148148    9134.0    4339.0  0.585045\n",
      "avg / total   0.833383  0.862676  0.845748  120926.0  120926.0  0.921111,              precision    recall  f1-score   support      pred       AUC\n",
      "0             0.918410  0.958903  0.938220  104218.0  108813.0  0.773124\n",
      "1             0.431329  0.433721  0.432521    7574.0    7616.0  0.763122\n",
      "2             0.267349  0.131611  0.176389    9133.0    4496.0  0.581012\n",
      "avg / total   0.838730  0.863527  0.849008  120925.0  120925.0  0.919237,              precision    recall  f1-score   support      pred       AUC\n",
      "0             0.917665  0.955334  0.936121  104218.0  108496.0  0.770019\n",
      "1             0.569627  0.441246  0.497284    7574.0    5867.0  0.780734\n",
      "2             0.475770  0.341837  0.397834    9133.0    6562.0  0.698948\n",
      "avg / total   0.862492  0.876800  0.867980  120925.0  120925.0  0.931910,              precision    recall  f1-score   support      pred       AUC\n",
      "0             0.917494  0.955631  0.936175  104218.0  108550.0  0.774671\n",
      "1             0.443323  0.458075  0.450578    7573.0    7825.0  0.778730\n",
      "2             0.233187  0.116159  0.155072    9134.0    4550.0  0.587000\n",
      "avg / total   0.836110  0.861063  0.846764  120925.0  120925.0  0.920892]\n"
     ]
    }
   ],
   "source": [
    "kf = StratifiedKFold(n_splits=5,shuffle=False)\n",
    "\n",
    "accuracy_model = []\n",
    "# Iteraciones del entrenamiento sobre los kfolds\n",
    "for train_index, test_index in kf.split(X, y) :\n",
    "    # Particion train test para validacion cruzada\n",
    "    X_train, X_test = X.iloc[train_index], X.iloc[test_index]\n",
    "    y_train, y_test = y[train_index], y[test_index]\n",
    "    # Entrenamiento de la red MLP\n",
    "    #model = MLPClassifier(alpha=1, max_iter=500).fit(X_train, y_train) \n",
    "    model = KNeighborsClassifier(3).fit(X_train, y_train) \n",
    "    accuracy_model.append(cr.class_report(y_true = y_test, \n",
    "                                       y_pred = model.predict(X_test),\n",
    "                                       y_score = model.predict_proba(X_test)))\n",
    " \n",
    "# Print the accuracy    \n",
    "print(accuracy_model)"
   ]
  },
  {
   "cell_type": "code",
   "execution_count": 6,
   "metadata": {},
   "outputs": [],
   "source": [
    "import pickle"
   ]
  },
  {
   "cell_type": "code",
   "execution_count": 7,
   "metadata": {},
   "outputs": [],
   "source": [
    "# save\n",
    "\n",
    "filename='mdl_eje.sav'\n",
    "\n",
    "pickle.dump(model,open(filename,'wb'))"
   ]
  },
  {
   "cell_type": "code",
   "execution_count": null,
   "metadata": {},
   "outputs": [],
   "source": []
  }
 ],
 "metadata": {
  "kernelspec": {
   "display_name": "Python 3",
   "language": "python",
   "name": "python3"
  },
  "language_info": {
   "codemirror_mode": {
    "name": "ipython",
    "version": 3
   },
   "file_extension": ".py",
   "mimetype": "text/x-python",
   "name": "python",
   "nbconvert_exporter": "python",
   "pygments_lexer": "ipython3",
   "version": "3.7.6"
  }
 },
 "nbformat": 4,
 "nbformat_minor": 4
}
