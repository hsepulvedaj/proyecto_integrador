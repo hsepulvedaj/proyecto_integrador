{
 "cells": [
  {
   "cell_type": "code",
   "execution_count": 1,
   "metadata": {},
   "outputs": [],
   "source": [
    "import sys\n",
    "sys.path.insert(0,r\"C:\\Users\\LENOVO\\Downloads\")\n",
    "import numpy as np\n",
    "import pandas as pd\n",
    "import csv\n",
    "from sklearn.model_selection import train_test_split\n",
    "import class_report as cr\n",
    "from sklearn.preprocessing import LabelEncoder\n",
    "from sklearn.metrics import confusion_matrix, accuracy_score, auc, f1_score, log_loss\n",
    "from sklearn.tree import DecisionTreeClassifier \n",
    "from sklearn.model_selection import StratifiedKFold\n",
    "from sklearn.linear_model import LogisticRegression\n",
    "from sklearn.neighbors import KNeighborsClassifier\n",
    "from sklearn.naive_bayes import GaussianNB\n",
    "from sklearn.svm import SVC\n",
    "from sklearn.preprocessing import StandardScaler\n",
    "from sklearn.neural_network import MLPClassifier\n",
    "from sklearn.ensemble import RandomForestClassifier"
   ]
  },
  {
   "cell_type": "code",
   "execution_count": 2,
   "metadata": {},
   "outputs": [],
   "source": [
    "## Lectura de datos     \n",
    "base_noroccidente = pd.read_csv(r'C:\\Users\\pc\\Downloads\\BASE_NOROCCIDENTE.txt', sep=r'¡', engine='python')\n",
    "base_noroccidente.head()\n",
    "\n",
    "## Eliminación de variables: \n",
    "base_noroccidente2 = base_noroccidente[['CUCONUSE', 'SESUSERV', 'SERVDESC', 'SESUSUSC', 'SESUFEIN','DEPADESC', 'SESUCUSA', 'SESUSAPE','SESUCICL', 'SUSCNITC', \n",
    "        #'VECTOR','SESUCATE', 'SESUSUCA','SESULOCA','SESUSAAN','V1', 'V2', 'V3', 'V4', 'V5', 'V6',#'V7', 'V8', 'V9', 'V10', 'V11', 'V12', \n",
    "        'TIPIFICACION_CLIENTE', 'SUMA','CANTIDAD','CALIFICACION_VECTOR_SERVICIO',\n",
    "       #'VECTOR_CUALITATIVO_CONTRATO',#'BANCO_1', 'DIA_PAGO_1', 'DIA_PAGO_2','DIA_PAGO_3', 'FECHA_SUSPENSION','RANGO_EDAD', 'GENERO','PROM_SUSC', 'CANAL_ENVIO'\n",
    "       'SEGMENTACION', 'REGIONAL','ESTRATO_AGRUPADO','DEPARTAMENTO_AGR','ANTIGUEDAD_DIAS', 'CANAL_PAGO']]\n",
    "\n",
    "base_noroccidente3 = base_noroccidente2.dropna()"
   ]
  },
  {
   "cell_type": "code",
   "execution_count": 3,
   "metadata": {},
   "outputs": [],
   "source": [
    "## Group by por nit para calificacion\n",
    "b4 = base_noroccidente3[['SUSCNITC','CALIFICACION_VECTOR_SERVICIO']]\n",
    "group_nit = b4.groupby(['SUSCNITC'])['CALIFICACION_VECTOR_SERVICIO'].mean().reset_index()\n",
    "\n",
    "\n",
    "## Join de la nueva calificacion\n",
    "base_noroccidente4 = pd.merge(base_noroccidente3, group_nit, how='left', on=['SUSCNITC'])\n",
    "\n",
    "## Prueba promedio\n",
    "b5 = base_noroccidente4[['SUSCNITC','CALIFICACION_VECTOR_SERVICIO_x','CALIFICACION_VECTOR_SERVICIO_y']]\n",
    "\n",
    "### Creacion de la etiqueta de clasificacion\n",
    "base_noroccidente4['y'] = pd.cut(x=base_noroccidente4['CALIFICACION_VECTOR_SERVICIO_y'],\n",
    "                            bins=[-1,50,76,100],\n",
    "                            labels=['No pago','Pago inoportuno','Pago'])"
   ]
  },
  {
   "cell_type": "code",
   "execution_count": null,
   "metadata": {},
   "outputs": [],
   "source": [
    "dataTypeSeries = base_noroccidente4.dtypes\n",
    "dataTypeSeries\n",
    "\n",
    "cat = base_noroccidente4.select_dtypes(include=['object','category'])\n",
    "cuanti = base_noroccidente4.select_dtypes(include=['int64','float64'])\n",
    "  \n",
    "\n",
    "le = LabelEncoder()\n",
    "cat = cat.apply(lambda col: le.fit_transform(col))\n",
    "cat.head(10)\n",
    "\n",
    "base_noroccidente5=cuanti.join(cat)\n",
    "print(base_noroccidente5.dtypes)\n",
    "\n",
    "base_noroccidente5.to_csv(r'C:\\Users\\pc\\Desktop\\base_noroccidente_process.csv')"
   ]
  },
  {
   "cell_type": "code",
   "execution_count": 2,
   "metadata": {
    "scrolled": true
   },
   "outputs": [],
   "source": [
    "#DESDE ACA \n",
    "base_noroccidente5 = pd.read_csv(r'C:\\Users\\LENOVO\\Downloads\\base_noroccidente_process.csv', sep=',', engine='python')\n",
    "\n",
    "\n",
    "X = base_noroccidente5[[\n",
    "        #'CUCONUSE', \n",
    "        'SESUSERV', 'SERVDESC', 'SESUSUSC','DEPADESC', 'SESUCUSA', 'SESUSAPE','SESUCICL', 'TIPIFICACION_CLIENTE', \n",
    "        #'SESUFEIN','SUSCNITC', 'VECTOR','SESUCATE', 'SESUSUCA','SESULOCA','SESUSAAN','RANGO_EDAD', 'GENERO', \n",
    "        #'V1', 'V2', 'V3', 'V4', 'V5', 'V6','V7', 'V8', 'V9', 'V10', 'V11', 'V12','REGIONAL','PROM_SUSC', 'CANAL_ENVIO'     \n",
    "        # 'SUMA','CANTIDAD','CALIFICACION_VECTOR_SERVICIO_x', 'CALIFICACION_VECTOR_SERVICIO_y',\n",
    "        #'VECTOR_CUALITATIVO_CONTRATO','BANCO_1', 'DIA_PAGO_1', 'DIA_PAGO_2','DIA_PAGO_3', 'FECHA_SUSPENSION', \n",
    "       'SEGMENTACION','ESTRATO_AGRUPADO','DEPARTAMENTO_AGR','ANTIGUEDAD_DIAS','CANAL_PAGO']]\n",
    "\n",
    "y = base_noroccidente5['y']"
   ]
  },
  {
   "cell_type": "code",
   "execution_count": 3,
   "metadata": {
    "scrolled": true
   },
   "outputs": [
    {
     "name": "stdout",
     "output_type": "stream",
     "text": [
      "==============================\n",
      "KNeighborsClassifier\n",
      "****Results****\n",
      "Accuracy: 84.7456%\n",
      "Log Loss: 2.4533549884879076\n",
      "==============================\n",
      "DecisionTreeClassifier\n",
      "****Results****\n",
      "Accuracy: 82.3421%\n",
      "Log Loss: 0.4436187184825498\n",
      "==============================\n",
      "RandomForestClassifier\n",
      "****Results****\n",
      "Accuracy: 77.7612%\n",
      "Log Loss: 0.5264814689475059\n",
      "==============================\n",
      "MLPClassifier\n",
      "****Results****\n",
      "Accuracy: 82.7193%\n",
      "Log Loss: 0.44003162739807533\n",
      "==============================\n",
      "LogisticRegression\n",
      "****Results****\n",
      "Accuracy: 80.9627%\n",
      "Log Loss: 0.4920052825093831\n",
      "==============================\n",
      "GaussianNB\n",
      "****Results****\n",
      "Accuracy: 63.1360%\n",
      "Log Loss: 0.9963122234024159\n",
      "==============================\n"
     ]
    }
   ],
   "source": [
    "from datetime import datetime\n",
    "instanteInicial = datetime.now()\n",
    "X_ = StandardScaler().fit_transform(X)\n",
    "X_train, X_test, y_train, y_test = train_test_split(X_, y, test_size=0.2,random_state=321)\n",
    "\n",
    "classifiers = [\n",
    "    KNeighborsClassifier(3, n_jobs = -1),\n",
    "    DecisionTreeClassifier(max_depth=5),\n",
    "    RandomForestClassifier(max_depth=5, n_estimators=10, max_features=1, n_jobs = -1),\n",
    "    MLPClassifier(alpha=1, max_iter=500),\n",
    "    LogisticRegression(multi_class=\"multinomial\", solver=\"lbfgs\", C=5, n_jobs = -1),\n",
    "    GaussianNB()]\n",
    "\n",
    "# Logging for Visual Comparison\n",
    "log_cols=[\"Classifier\", \"Accuracy\", \"Log Loss\"]\n",
    "log = pd.DataFrame(columns=log_cols)\n",
    "\n",
    "for clf in classifiers:\n",
    "    clf.fit(X_train, y_train)\n",
    "    name = clf.__class__.__name__\n",
    "    \n",
    "    print(\"=\"*30)\n",
    "    print(name)\n",
    "    \n",
    "    print('****Results****')\n",
    "    train_predictions = clf.predict(X_test)\n",
    "    acc = accuracy_score(y_test, train_predictions)\n",
    "    print(\"Accuracy: {:.4%}\".format(acc))\n",
    "    \n",
    "    train_predictions = clf.predict_proba(X_test)\n",
    "    ll = log_loss(y_test, train_predictions)\n",
    "    print(\"Log Loss: {}\".format(ll))\n",
    "    \n",
    "    log_entry = pd.DataFrame([[name, acc*100, ll]], columns=log_cols)\n",
    "    log = log.append(log_entry)\n",
    "    \n",
    "print(\"=\"*30)\n",
    "\n",
    "instanteFinal = datetime.now()\n",
    "tiempo = instanteFinal - instanteInicial # Devuelve un objeto timedelta\n",
    "segundos = tiempo.seconds"
   ]
  },
  {
   "cell_type": "code",
   "execution_count": 4,
   "metadata": {},
   "outputs": [
    {
     "data": {
      "text/plain": [
       "14996"
      ]
     },
     "execution_count": 4,
     "metadata": {},
     "output_type": "execute_result"
    }
   ],
   "source": [
    "segundos"
   ]
  },
  {
   "cell_type": "code",
   "execution_count": null,
   "metadata": {},
   "outputs": [],
   "source": [
    "## El mejor modelo de clasificacion fue el KNN"
   ]
  },
  {
   "cell_type": "code",
   "execution_count": 5,
   "metadata": {},
   "outputs": [
    {
     "name": "stdout",
     "output_type": "stream",
     "text": [
      "[             precision    recall  f1-score   support      pred       AUC\n",
      "0             0.529378  0.596356  0.560875   44901.0   50582.0  0.829121\n",
      "1             0.837266  0.861452  0.849187  410017.0  421861.0  0.778976\n",
      "2             0.457995  0.391189  0.421964  120144.0  102619.0  0.702688\n",
      "avg / total   0.733988  0.742504  0.737419  575062.0  575062.0  0.867062,              precision    recall  f1-score   support      pred       AUC\n",
      "0             0.527246  0.537192  0.532173   44902.0   45749.0  0.799766\n",
      "1             0.838259  0.885880  0.861412  410016.0  433309.0  0.794129\n",
      "2             0.496703  0.396902  0.441230  120143.0   96003.0  0.724652\n",
      "avg / total   0.742616  0.756495  0.747919  575061.0  575061.0  0.875460,              precision    recall  f1-score   support      pred       AUC\n",
      "0             0.509288  0.548941  0.528371   44901.0   48397.0  0.802221\n",
      "1             0.836382  0.858662  0.847375  410016.0  420938.0  0.774804\n",
      "2             0.460653  0.405372  0.431248  120144.0  105726.0  0.707360\n",
      "avg / total   0.732344  0.739775  0.735529  575061.0  575061.0  0.864265,              precision    recall  f1-score   support      pred       AUC\n",
      "0             0.522801  0.575511  0.547891   44901.0   49428.0  0.816444\n",
      "1             0.839308  0.862947  0.850963  410016.0  421564.0  0.779545\n",
      "2             0.465768  0.403449  0.432375  120144.0  104069.0  0.709006\n",
      "avg / total   0.736553  0.744504  0.739846  575061.0  575061.0  0.867082,              precision    recall  f1-score   support      pred       AUC\n",
      "0             0.526224  0.580744  0.552142   44901.0   49553.0  0.820394\n",
      "1             0.837331  0.855998  0.846562  410016.0  419157.0  0.776824\n",
      "2             0.453404  0.401352  0.425793  120144.0  106351.0  0.704766\n",
      "avg / total   0.732828  0.739520  0.735665  575061.0  575061.0  0.863334]\n"
     ]
    }
   ],
   "source": [
    "kf = StratifiedKFold(n_splits=5,shuffle=False)\n",
    "\n",
    "accuracy_model = []\n",
    "# Iteraciones del entrenamiento sobre los kfolds\n",
    "for train_index, test_index in kf.split(X, y) :\n",
    "    # Particion train test para validacion cruzada\n",
    "    X_train, X_test = X.iloc[train_index], X.iloc[test_index]\n",
    "    y_train, y_test = y[train_index], y[test_index]\n",
    "    # Entrenamiento de la red MLP\n",
    "    #model = MLPClassifier(alpha=1, max_iter=500).fit(X_train, y_train) \n",
    "    model = KNeighborsClassifier(3).fit(X_train, y_train) \n",
    "    accuracy_model.append(cr.class_report(y_true = y_test, \n",
    "                                       y_pred = model.predict(X_test),\n",
    "                                       y_score = model.predict_proba(X_test)))\n",
    " \n",
    "# Print the accuracy    \n",
    "print(accuracy_model)"
   ]
  },
  {
   "cell_type": "code",
   "execution_count": 6,
   "metadata": {},
   "outputs": [],
   "source": [
    "import pickle"
   ]
  },
  {
   "cell_type": "code",
   "execution_count": 8,
   "metadata": {},
   "outputs": [],
   "source": [
    "# save\n",
    "\n",
    "filename='mdl_noroccidente.sav'\n",
    "\n",
    "pickle.dump(model,open(filename,'wb'))\n",
    "\n"
   ]
  },
  {
   "cell_type": "code",
   "execution_count": 9,
   "metadata": {},
   "outputs": [],
   "source": [
    "# load \n",
    "\n",
    "mdl_noroccident = pickle.load(open(filename,'rb'))\n"
   ]
  },
  {
   "cell_type": "code",
   "execution_count": 10,
   "metadata": {},
   "outputs": [],
   "source": [
    "accuracy_model2 = []\n",
    "accuracy_model2.append(cr.class_report(y_true = y_test, \n",
    "                                       y_pred = mdl_noroccident.predict(X_test),\n",
    "                                       y_score = mdl_noroccident.predict_proba(X_test)))\n",
    " \n"
   ]
  },
  {
   "cell_type": "code",
   "execution_count": 11,
   "metadata": {},
   "outputs": [
    {
     "name": "stdout",
     "output_type": "stream",
     "text": [
      "[             precision    recall  f1-score   support      pred       AUC\n",
      "0             0.526224  0.580744  0.552142   44901.0   49553.0  0.820394\n",
      "1             0.837331  0.855998  0.846562  410016.0  419157.0  0.776824\n",
      "2             0.453404  0.401352  0.425793  120144.0  106351.0  0.704766\n",
      "avg / total   0.732828  0.739520  0.735665  575061.0  575061.0  0.863334]\n"
     ]
    }
   ],
   "source": [
    "# Print the accuracy    \n",
    "print(accuracy_model2)"
   ]
  },
  {
   "cell_type": "code",
   "execution_count": null,
   "metadata": {},
   "outputs": [],
   "source": []
  }
 ],
 "metadata": {
  "kernelspec": {
   "display_name": "Python 3",
   "language": "python",
   "name": "python3"
  },
  "language_info": {
   "codemirror_mode": {
    "name": "ipython",
    "version": 3
   },
   "file_extension": ".py",
   "mimetype": "text/x-python",
   "name": "python",
   "nbconvert_exporter": "python",
   "pygments_lexer": "ipython3",
   "version": "3.7.6"
  }
 },
 "nbformat": 4,
 "nbformat_minor": 4
}
