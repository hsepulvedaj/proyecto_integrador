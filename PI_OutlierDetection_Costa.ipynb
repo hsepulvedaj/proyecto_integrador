{
 "cells": [
  {
   "cell_type": "code",
   "execution_count": 1,
   "metadata": {},
   "outputs": [],
   "source": [
    "import pandas as pd\n",
    "import sys\n",
    "sys.path.insert(0,r\"C:\\Users\\LENOVO\\Downloads\")\n",
    "import numpy as np\n",
    "import csv\n",
    "from sklearn.model_selection import train_test_split\n",
    "import class_report as cr\n",
    "from sklearn.preprocessing import LabelEncoder\n",
    "from sklearn.metrics import confusion_matrix, accuracy_score, auc, f1_score, log_loss\n",
    "from sklearn.tree import DecisionTreeClassifier \n",
    "from sklearn.model_selection import StratifiedKFold\n",
    "from sklearn.linear_model import LogisticRegression\n",
    "from sklearn.neighbors import KNeighborsClassifier\n",
    "from sklearn.naive_bayes import GaussianNB\n",
    "from sklearn.svm import SVC\n",
    "from sklearn.preprocessing import StandardScaler\n",
    "from sklearn.neural_network import MLPClassifier\n",
    "from sklearn.ensemble import RandomForestClassifier"
   ]
  },
  {
   "cell_type": "code",
   "execution_count": 2,
   "metadata": {},
   "outputs": [],
   "source": [
    "pd.set_option('display.max_row', None)\n",
    "pd.set_option('display.max_column', None)"
   ]
  },
  {
   "cell_type": "code",
   "execution_count": 3,
   "metadata": {},
   "outputs": [],
   "source": [
    "base_costa = pd.read_csv(r'C:\\Users\\LENOVO\\Desktop\\base_costa.txt', sep = \",\", engine = \"python\")"
   ]
  },
  {
   "cell_type": "code",
   "execution_count": 4,
   "metadata": {},
   "outputs": [],
   "source": [
    "base2_costa = base_costa[['SUSCNITC','SERVDESC','SESUCUSA','SESUCICL','SESULOCA',\n",
    "                                  'TIPIFICACION_CLIENTE','CALIFICACION_VECTOR_SERVICIO',\n",
    "                                  'CANAL_ENVIO','SEGMENTACION','ESTRATO_AGRUPADO','DEPARTAMENTO_AGR',\n",
    "                                  'ANTIGUEDAD_DIAS','CANAL_PAGO','SESUSAPE','SESUSAAN','PROM_SUSC']]\n",
    "base3_costa = base2_costa.dropna()"
   ]
  },
  {
   "cell_type": "code",
   "execution_count": 6,
   "metadata": {},
   "outputs": [],
   "source": [
    "tmp = base3_costa[['SUSCNITC','CALIFICACION_VECTOR_SERVICIO']]\n",
    "tmp.columns\n",
    "\n",
    "group_nit = tmp.groupby(['SUSCNITC'])['CALIFICACION_VECTOR_SERVICIO'].mean().reset_index()\n",
    "group_nit = group_nit.rename(columns={\"CALIFICACION_VECTOR_SERVICIO\":\"PROM_CALIFICACION\"})"
   ]
  },
  {
   "cell_type": "code",
   "execution_count": 8,
   "metadata": {},
   "outputs": [],
   "source": [
    "base4_costa = pd.merge(base3_costa, group_nit, how='left', on=['SUSCNITC'])"
   ]
  },
  {
   "cell_type": "code",
   "execution_count": 9,
   "metadata": {},
   "outputs": [],
   "source": [
    "base4_costa['y'] = pd.cut(x=base4_costa['PROM_CALIFICACION'],\n",
    "                            bins=[-1,50,76,100],\n",
    "                            labels=['No Pago','Pago Inoportuno','Pago'])"
   ]
  },
  {
   "cell_type": "code",
   "execution_count": 11,
   "metadata": {},
   "outputs": [],
   "source": [
    "base5_costa = base4_costa[['SERVDESC','SESUCUSA','SESUCICL','SESULOCA','TIPIFICACION_CLIENTE',\n",
    "                           'CALIFICACION_VECTOR_SERVICIO','CANAL_ENVIO','SEGMENTACION','ESTRATO_AGRUPADO',\n",
    "                           'DEPARTAMENTO_AGR','ANTIGUEDAD_DIAS','CANAL_PAGO','SESUSAPE','SESUSAAN',\n",
    "                           'PROM_SUSC','y']]"
   ]
  },
  {
   "cell_type": "code",
   "execution_count": 12,
   "metadata": {},
   "outputs": [],
   "source": [
    "names = base5_costa.columns\n",
    "\n",
    "for x in names:\n",
    "    globals()['FREQ_%s' % x]= base5_costa[x].value_counts().rename_axis([x]).reset_index(name='F_{x}'.format(x=x))"
   ]
  },
  {
   "cell_type": "code",
   "execution_count": 14,
   "metadata": {},
   "outputs": [],
   "source": [
    "freq_costa = base5_costa.merge(FREQ_SERVDESC,on=\"SERVDESC\").merge(FREQ_SESUCUSA,on='SESUCUSA').merge(FREQ_SESUCICL,on='SESUCICL').merge(FREQ_SESULOCA,on='SESULOCA').merge(FREQ_TIPIFICACION_CLIENTE,on='TIPIFICACION_CLIENTE').merge(FREQ_CANAL_ENVIO,on='CANAL_ENVIO').merge(FREQ_SEGMENTACION,on='SEGMENTACION').merge(FREQ_ESTRATO_AGRUPADO,on='ESTRATO_AGRUPADO').merge(FREQ_DEPARTAMENTO_AGR,on='DEPARTAMENTO_AGR').merge(FREQ_CANAL_PAGO,on='CANAL_PAGO')"
   ]
  },
  {
   "cell_type": "code",
   "execution_count": 15,
   "metadata": {},
   "outputs": [],
   "source": [
    "freq_costa2 = freq_costa[['F_SERVDESC','F_SESUCUSA','F_SESUCICL','F_SESULOCA','F_TIPIFICACION_CLIENTE',\n",
    "                          'F_CANAL_ENVIO','F_SEGMENTACION','F_ESTRATO_AGRUPADO','F_DEPARTAMENTO_AGR',\n",
    "                          'F_CANAL_PAGO']]"
   ]
  },
  {
   "cell_type": "code",
   "execution_count": 16,
   "metadata": {},
   "outputs": [
    {
     "name": "stderr",
     "output_type": "stream",
     "text": [
      "C:\\Users\\LENOVO\\anaconda3\\lib\\site-packages\\ipykernel_launcher.py:1: SettingWithCopyWarning: \n",
      "A value is trying to be set on a copy of a slice from a DataFrame.\n",
      "Try using .loc[row_indexer,col_indexer] = value instead\n",
      "\n",
      "See the caveats in the documentation: https://pandas.pydata.org/pandas-docs/stable/user_guide/indexing.html#returning-a-view-versus-a-copy\n",
      "  \"\"\"Entry point for launching an IPython kernel.\n"
     ]
    }
   ],
   "source": [
    "freq_costa2['AVG_FREQ'] = freq_costa2.mean(axis=1)"
   ]
  },
  {
   "cell_type": "code",
   "execution_count": 17,
   "metadata": {},
   "outputs": [],
   "source": [
    "n, m = freq_costa2.shape\n",
    "n_reg_del = round((0.05 * n) /100)\n",
    "outliers = freq_costa2.nsmallest(n_reg_del, 'AVG_FREQ')\n",
    "outliers_idx = outliers.index\n",
    "outliers_idx = outliers_idx.sort_values(ascending=False)"
   ]
  },
  {
   "cell_type": "code",
   "execution_count": 18,
   "metadata": {},
   "outputs": [],
   "source": [
    "for x in outliers_idx:\n",
    "    base5_costa = base5_costa.drop([x])"
   ]
  },
  {
   "cell_type": "code",
   "execution_count": 19,
   "metadata": {},
   "outputs": [],
   "source": [
    "dataTypeSeries = base5_costa.dtypes\n",
    "dataTypeSeries\n",
    "\n",
    "cat = base5_costa.select_dtypes(include=['object','category'])\n",
    "cuanti = base5_costa.select_dtypes(include=['int64','float64'])\n",
    "  \n",
    "cat = cat.apply(lambda col: LabelEncoder().fit_transform(col))\n",
    "base5_costa = cuanti.join(cat)"
   ]
  },
  {
   "cell_type": "code",
   "execution_count": 20,
   "metadata": {},
   "outputs": [],
   "source": [
    "X = base5_costa[['SERVDESC','SESUCUSA','SESUCICL','SESULOCA','TIPIFICACION_CLIENTE','CANAL_ENVIO',\n",
    "               'SEGMENTACION','ESTRATO_AGRUPADO','DEPARTAMENTO_AGR','ANTIGUEDAD_DIAS','CANAL_PAGO',\n",
    "               'SESUSAPE','SESUSAAN','PROM_SUSC']]\n",
    "\n",
    "y = base5_costa['y']"
   ]
  },
  {
   "cell_type": "code",
   "execution_count": 21,
   "metadata": {},
   "outputs": [],
   "source": [
    "from datetime import datetime\n",
    "instanteInicial = datetime.now()\n",
    "X_ = StandardScaler().fit_transform(X)\n",
    "#X_ = X\n",
    "X_train, X_test, y_train, y_test = train_test_split(X_, y, test_size=0.2,random_state=321)"
   ]
  },
  {
   "cell_type": "code",
   "execution_count": 22,
   "metadata": {},
   "outputs": [
    {
     "name": "stdout",
     "output_type": "stream",
     "text": [
      "[             precision    recall  f1-score   support      pred       AUC\n",
      "0             0.783898  0.781468  0.782681   31286.0   31189.0  0.930538\n",
      "1             0.763788  0.841671  0.800841   62705.0   69099.0  0.889884\n",
      "2             0.692795  0.610029  0.648783   52709.0   46412.0  0.802157\n",
      "avg / total   0.742569  0.745603  0.742334  146700.0  146700.0  0.885422,              precision    recall  f1-score   support      pred       AUC\n",
      "0             0.797087  0.757368  0.776720   31286.0   29727.0  0.923487\n",
      "1             0.757257  0.840380  0.796656   62705.0   69588.0  0.883045\n",
      "2             0.681334  0.612514  0.645094   52709.0   47385.0  0.797376\n",
      "avg / total   0.738472  0.740804  0.737948  146700.0  146700.0  0.880701,              precision    recall  f1-score   support      pred       AUC\n",
      "0             0.794790  0.758742  0.776348   31286.0   29867.0  0.919746\n",
      "1             0.752120  0.841432  0.794273   62705.0   70151.0  0.890904\n",
      "2             0.685575  0.607183  0.644002   52709.0   46682.0  0.796898\n",
      "avg / total   0.737311  0.739632  0.736458  146700.0  146700.0  0.881305,              precision    recall  f1-score   support      pred       AUC\n",
      "0             0.715403  0.768842  0.741161   31286.0   33623.0  0.920585\n",
      "1             0.777307  0.840505  0.807672   62704.0   67802.0  0.895569\n",
      "2             0.681915  0.585725  0.630171   52709.0   45274.0  0.795751\n",
      "avg / total   0.729831  0.733679  0.729711  146699.0  146699.0  0.882941,              precision    recall  f1-score   support      pred       AUC\n",
      "0             0.796916  0.769890  0.783170   31285.0   30224.0  0.926829\n",
      "1             0.781151  0.836725  0.807983   62704.0   67165.0  0.899383\n",
      "2             0.702819  0.657484  0.679396   52710.0   49310.0  0.826445\n",
      "avg / total   0.756368  0.758069  0.756489  146699.0  146699.0  0.895322]\n"
     ]
    }
   ],
   "source": [
    "kf = StratifiedKFold(n_splits=5,shuffle=False)\n",
    "\n",
    "accuracy_model = []\n",
    "# Iteraciones del entrenamiento sobre los kfolds\n",
    "#X_fin = X[['SESUSERV','SESUCUSA', 'SESUSAPE','SESUCICL', 'TIPIFICACION_CLIENTE', 'PROM_SUSC',\n",
    "#'CANAL_ENVIO','SEGMENTACION', 'ESTRATO_AGRUPADO','ANTIGUEDAD_DIAS', 'CANAL_PAGO']]\n",
    "X_fin = X\n",
    "X_ = StandardScaler().fit_transform(X_fin)\n",
    "\n",
    "for train_index, test_index in kf.split(X_, y) :\n",
    "    # Particion train test para validacion cruzada\n",
    "    X_train, X_test = X.iloc[train_index], X.iloc[test_index]\n",
    "    y_train, y_test = y.iloc[train_index], y.iloc[test_index]\n",
    "    # Entrenamiento de la red MLP\n",
    "    model = KNeighborsClassifier(7).fit(X_train, y_train) \n",
    "    accuracy_model.append(cr.class_report(y_true = y_test, \n",
    "                                       y_pred = model.predict(X_test),\n",
    "                                       y_score = model.predict_proba(X_test)))\n",
    " \n",
    "# Print the accuracy    \n",
    "print(accuracy_model)"
   ]
  },
  {
   "cell_type": "code",
   "execution_count": 23,
   "metadata": {},
   "outputs": [
    {
     "data": {
      "text/plain": [
       "array([[24086,  1542,  5657],\n",
       "       [ 1241, 52466,  8997],\n",
       "       [ 4897, 13157, 34656]], dtype=int64)"
      ]
     },
     "execution_count": 23,
     "metadata": {},
     "output_type": "execute_result"
    }
   ],
   "source": [
    "from sklearn.metrics import confusion_matrix\n",
    "confusion_matrix(y_test, model.predict(X_test))"
   ]
  },
  {
   "cell_type": "code",
   "execution_count": null,
   "metadata": {},
   "outputs": [],
   "source": []
  }
 ],
 "metadata": {
  "kernelspec": {
   "display_name": "Python 3",
   "language": "python",
   "name": "python3"
  },
  "language_info": {
   "codemirror_mode": {
    "name": "ipython",
    "version": 3
   },
   "file_extension": ".py",
   "mimetype": "text/x-python",
   "name": "python",
   "nbconvert_exporter": "python",
   "pygments_lexer": "ipython3",
   "version": "3.7.6"
  }
 },
 "nbformat": 4,
 "nbformat_minor": 4
}
